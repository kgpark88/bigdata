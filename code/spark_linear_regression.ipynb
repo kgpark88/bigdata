{
  "nbformat": 4,
  "nbformat_minor": 0,
  "metadata": {
    "anaconda-cloud": {},
    "kernelspec": {
      "display_name": "Python [conda root]",
      "language": "python",
      "name": "conda-root-py"
    },
    "language_info": {
      "codemirror_mode": {
        "name": "ipython",
        "version": 3
      },
      "file_extension": ".py",
      "mimetype": "text/x-python",
      "name": "python",
      "nbconvert_exporter": "python",
      "pygments_lexer": "ipython3",
      "version": "3.5.3"
    },
    "colab": {
      "name": "spark_linear_regression.ipynb",
      "provenance": [],
      "collapsed_sections": []
    }
  },
  "cells": [
    {
      "cell_type": "markdown",
      "metadata": {
        "id": "z1MxA579Ouyk"
      },
      "source": [
        "# Linear Regression"
      ]
    },
    {
      "cell_type": "markdown",
      "metadata": {
        "id": "Ni26CxoNOuym"
      },
      "source": [
        "- 참고 : https://spark.apache.org/docs/latest/ml-classification-regression.html#linear-regression\n",
        "- Colaboratory Features : https://colab.research.google.com/notebooks/basic_features_overview.ipynb"
      ]
    },
    {
      "cell_type": "code",
      "metadata": {
        "colab": {
          "base_uri": "https://localhost:8080/",
          "height": 36
        },
        "id": "TIl5nnPgPMWD",
        "outputId": "bfeb5006-800b-4a74-b031-771497dcea6a"
      },
      "source": [
        "!apt-get install openjdk-8-jdk-headless -qq > /dev/null\n",
        "!wget -q https://downloads.apache.org/spark/spark-3.1.2/spark-3.1.2-bin-hadoop2.7.tgz \n",
        "!tar xf spark-3.1.2-bin-hadoop2.7.tgz\n",
        "!pip install -q findspark\n",
        "\n",
        "import os\n",
        "import findspark\n",
        "\n",
        "os.environ[\"JAVA_HOME\"] = \"/usr/lib/jvm/java-8-openjdk-amd64\"\n",
        "os.environ[\"SPARK_HOME\"] = \"/content/spark-3.1.2-bin-hadoop2.7\"\n",
        "\n",
        "findspark.init()\n",
        "findspark.find()"
      ],
      "execution_count": null,
      "outputs": [
        {
          "output_type": "execute_result",
          "data": {
            "application/vnd.google.colaboratory.intrinsic+json": {
              "type": "string"
            },
            "text/plain": [
              "'/content/spark-3.1.2-bin-hadoop2.7'"
            ]
          },
          "metadata": {
            "tags": []
          },
          "execution_count": 31
        }
      ]
    },
    {
      "cell_type": "markdown",
      "metadata": {
        "id": "Ta6lQdMYOuyn"
      },
      "source": [
        "## First thing to do is start a Spark Session"
      ]
    },
    {
      "cell_type": "code",
      "metadata": {
        "collapsed": true,
        "id": "FJWFhiSxOuyn"
      },
      "source": [
        "from pyspark.sql import SparkSession\n",
        "spark = SparkSession.builder.appName('lr').getOrCreate()"
      ],
      "execution_count": null,
      "outputs": []
    },
    {
      "cell_type": "code",
      "metadata": {
        "collapsed": true,
        "id": "zxvS74_JOuyo"
      },
      "source": [
        "from pyspark.ml.regression import LinearRegression"
      ],
      "execution_count": null,
      "outputs": []
    },
    {
      "cell_type": "markdown",
      "metadata": {
        "id": "YtPcqwLOvtlI"
      },
      "source": [
        "## Load training data"
      ]
    },
    {
      "cell_type": "code",
      "metadata": {
        "id": "7l-WXPXCwk1O"
      },
      "source": [
        "training = spark.read.format(\"libsvm\").load(\"/content/spark-3.1.2-bin-hadoop2.7/data/mllib/sample_linear_regression_data.txt\")"
      ],
      "execution_count": null,
      "outputs": []
    },
    {
      "cell_type": "code",
      "metadata": {
        "id": "QrtFeIV9wISW"
      },
      "source": [
        "! cat /content/spark-3.1.2-bin-hadoop2.7/data/mllib/sample_linear_regression_data.txt"
      ],
      "execution_count": null,
      "outputs": []
    },
    {
      "cell_type": "code",
      "metadata": {
        "id": "4L_SOW25yeMG"
      },
      "source": [
        "training.show()"
      ],
      "execution_count": null,
      "outputs": []
    },
    {
      "cell_type": "code",
      "metadata": {
        "id": "hgyJoQSLOuyo"
      },
      "source": [
        "lr = LinearRegression(featuresCol ='features', labelCol='label',\n",
        "                      predictionCol='predictions')"
      ],
      "execution_count": null,
      "outputs": []
    },
    {
      "cell_type": "code",
      "metadata": {
        "id": "Zsuhar3CypXk"
      },
      "source": [
        "help(LinearRegression)"
      ],
      "execution_count": null,
      "outputs": []
    },
    {
      "cell_type": "markdown",
      "metadata": {
        "id": "sOEiWajjv9La"
      },
      "source": [
        "## Fit the model"
      ]
    },
    {
      "cell_type": "code",
      "metadata": {
        "id": "uFOOjYsjOuyp"
      },
      "source": [
        "lrModel = lr.fit(training)"
      ],
      "execution_count": null,
      "outputs": []
    },
    {
      "cell_type": "markdown",
      "metadata": {
        "id": "NxyLwI1jxZNF"
      },
      "source": [
        "## Print the coefficients and intercept for linear regression"
      ]
    },
    {
      "cell_type": "code",
      "metadata": {
        "colab": {
          "base_uri": "https://localhost:8080/"
        },
        "id": "Bsb72b3_Ouyp",
        "outputId": "a482381c-3a93-4fbb-8cef-af6b39bd734a"
      },
      "source": [
        "lrModel.coefficients"
      ],
      "execution_count": null,
      "outputs": [
        {
          "output_type": "execute_result",
          "data": {
            "text/plain": [
              "DenseVector([0.0073, 0.8314, -0.8095, 2.4412, 0.5192, 1.1535, -0.2989, -0.5129, -0.6197, 0.6956])"
            ]
          },
          "metadata": {
            "tags": []
          },
          "execution_count": 50
        }
      ]
    },
    {
      "cell_type": "code",
      "metadata": {
        "colab": {
          "base_uri": "https://localhost:8080/"
        },
        "id": "Pkkz5n2kzW6y",
        "outputId": "3e70cffe-2a7f-482f-9ba8-a3b6a2ed9b5b"
      },
      "source": [
        "lrModel.intercept"
      ],
      "execution_count": null,
      "outputs": [
        {
          "output_type": "execute_result",
          "data": {
            "text/plain": [
              "0.14228558260358093"
            ]
          },
          "metadata": {
            "tags": []
          },
          "execution_count": 49
        }
      ]
    },
    {
      "cell_type": "markdown",
      "metadata": {
        "id": "0nEAsSl5xcrc"
      },
      "source": [
        "## Summarize the model over the training set and print out some metrics"
      ]
    },
    {
      "cell_type": "code",
      "metadata": {
        "id": "2cZTC1GLzcl3"
      },
      "source": [
        "training_summary = lrModel.summary"
      ],
      "execution_count": null,
      "outputs": []
    },
    {
      "cell_type": "markdown",
      "metadata": {
        "id": "Yz8uIiW00a8j"
      },
      "source": [
        "Press control space (or command space, on a Mac) and autocomplete suggestions will appear."
      ]
    },
    {
      "cell_type": "code",
      "metadata": {
        "colab": {
          "base_uri": "https://localhost:8080/"
        },
        "id": "G7JSIxWmOuyq",
        "outputId": "8f77773a-26ce-4167-a124-7706467cdc2b"
      },
      "source": [
        "training_summary.rootMeanSquaredError"
      ],
      "execution_count": null,
      "outputs": [
        {
          "output_type": "execute_result",
          "data": {
            "text/plain": [
              "10.16309157133015"
            ]
          },
          "metadata": {
            "tags": []
          },
          "execution_count": 53
        }
      ]
    },
    {
      "cell_type": "markdown",
      "metadata": {
        "id": "ztVFzwV30tQK"
      },
      "source": [
        "## train_data, test_data 데이터셋 분리"
      ]
    },
    {
      "cell_type": "code",
      "metadata": {
        "id": "q_CGT9i7x32u"
      },
      "source": [
        "all_data = spark.read.format(\"libsvm\").load(\"/content/spark-3.1.2-bin-hadoop2.7/data/mllib/sample_linear_regression_data.txt\")"
      ],
      "execution_count": null,
      "outputs": []
    },
    {
      "cell_type": "code",
      "metadata": {
        "id": "8lt5gZg509NI"
      },
      "source": [
        "train_data, test_data  = all_data.randomSplit([0.7, 0.3])"
      ],
      "execution_count": null,
      "outputs": []
    },
    {
      "cell_type": "code",
      "metadata": {
        "colab": {
          "base_uri": "https://localhost:8080/"
        },
        "id": "Vr1MUMBh1H5G",
        "outputId": "3af5e942-6d82-4105-9a97-6e83ee345979"
      },
      "source": [
        "split_object"
      ],
      "execution_count": null,
      "outputs": [
        {
          "output_type": "execute_result",
          "data": {
            "text/plain": [
              "[DataFrame[label: double, features: vector],\n",
              " DataFrame[label: double, features: vector]]"
            ]
          },
          "metadata": {
            "tags": []
          },
          "execution_count": 61
        }
      ]
    },
    {
      "cell_type": "code",
      "metadata": {
        "colab": {
          "base_uri": "https://localhost:8080/"
        },
        "id": "KfozaxIx1yqF",
        "outputId": "929f88d7-06f7-40ea-9b7e-7e33407bc30e"
      },
      "source": [
        "train_data.describe().show()"
      ],
      "execution_count": null,
      "outputs": [
        {
          "output_type": "stream",
          "text": [
            "+-------+-------------------+\n",
            "|summary|              label|\n",
            "+-------+-------------------+\n",
            "|  count|                343|\n",
            "|   mean|  0.199562451907194|\n",
            "| stddev| 10.566158352465362|\n",
            "|    min|-28.571478869743427|\n",
            "|    max|  27.78383192005107|\n",
            "+-------+-------------------+\n",
            "\n"
          ],
          "name": "stdout"
        }
      ]
    },
    {
      "cell_type": "code",
      "metadata": {
        "colab": {
          "base_uri": "https://localhost:8080/"
        },
        "id": "sEWLb9uK10MW",
        "outputId": "2b60d243-0190-48b6-fe0e-c95106d6965c"
      },
      "source": [
        "train_data.describe().show()"
      ],
      "execution_count": null,
      "outputs": [
        {
          "output_type": "stream",
          "text": [
            "+-------+-------------------+\n",
            "|summary|              label|\n",
            "+-------+-------------------+\n",
            "|  count|                343|\n",
            "|   mean|  0.199562451907194|\n",
            "| stddev| 10.566158352465362|\n",
            "|    min|-28.571478869743427|\n",
            "|    max|  27.78383192005107|\n",
            "+-------+-------------------+\n",
            "\n"
          ],
          "name": "stdout"
        }
      ]
    },
    {
      "cell_type": "markdown",
      "metadata": {
        "id": "Fm1-wFzv4tYk"
      },
      "source": [
        "## Fit the model"
      ]
    },
    {
      "cell_type": "code",
      "metadata": {
        "id": "NzCmu_UG1_yB"
      },
      "source": [
        "correct_model = lr.fit(train_data)"
      ],
      "execution_count": null,
      "outputs": []
    },
    {
      "cell_type": "markdown",
      "metadata": {
        "id": "G0hATLMb4uwC"
      },
      "source": [
        "## Evaluation"
      ]
    },
    {
      "cell_type": "code",
      "metadata": {
        "id": "eSnnZx6z1_tY"
      },
      "source": [
        "test_results = correct_model.evaluate(test_data)"
      ],
      "execution_count": null,
      "outputs": []
    },
    {
      "cell_type": "code",
      "metadata": {
        "colab": {
          "base_uri": "https://localhost:8080/"
        },
        "id": "EnEYULhg1_pK",
        "outputId": "1d3cb8d5-5fae-44e5-968d-3e429a394729"
      },
      "source": [
        "test_results.rootMeanSquaredError"
      ],
      "execution_count": null,
      "outputs": [
        {
          "output_type": "execute_result",
          "data": {
            "text/plain": [
              "10.015176854211804"
            ]
          },
          "metadata": {
            "tags": []
          },
          "execution_count": 68
        }
      ]
    },
    {
      "cell_type": "markdown",
      "metadata": {
        "id": "9wvzSZiq5KTL"
      },
      "source": [
        "## Prepare unlabled data"
      ]
    },
    {
      "cell_type": "code",
      "metadata": {
        "id": "f5KA9Tv01_mi"
      },
      "source": [
        "unlabled_data = test_data.select('features')"
      ],
      "execution_count": null,
      "outputs": []
    },
    {
      "cell_type": "code",
      "metadata": {
        "colab": {
          "base_uri": "https://localhost:8080/"
        },
        "id": "Ksmyx_uu1_h0",
        "outputId": "049fa8bf-77e7-4d08-902e-793c4e5c8a06"
      },
      "source": [
        "unlabled_data.show()"
      ],
      "execution_count": null,
      "outputs": [
        {
          "output_type": "stream",
          "text": [
            "+--------------------+\n",
            "|            features|\n",
            "+--------------------+\n",
            "|(10,[0,1,2,3,4,5,...|\n",
            "|(10,[0,1,2,3,4,5,...|\n",
            "|(10,[0,1,2,3,4,5,...|\n",
            "|(10,[0,1,2,3,4,5,...|\n",
            "|(10,[0,1,2,3,4,5,...|\n",
            "|(10,[0,1,2,3,4,5,...|\n",
            "|(10,[0,1,2,3,4,5,...|\n",
            "|(10,[0,1,2,3,4,5,...|\n",
            "|(10,[0,1,2,3,4,5,...|\n",
            "|(10,[0,1,2,3,4,5,...|\n",
            "|(10,[0,1,2,3,4,5,...|\n",
            "|(10,[0,1,2,3,4,5,...|\n",
            "|(10,[0,1,2,3,4,5,...|\n",
            "|(10,[0,1,2,3,4,5,...|\n",
            "|(10,[0,1,2,3,4,5,...|\n",
            "|(10,[0,1,2,3,4,5,...|\n",
            "|(10,[0,1,2,3,4,5,...|\n",
            "|(10,[0,1,2,3,4,5,...|\n",
            "|(10,[0,1,2,3,4,5,...|\n",
            "|(10,[0,1,2,3,4,5,...|\n",
            "+--------------------+\n",
            "only showing top 20 rows\n",
            "\n"
          ],
          "name": "stdout"
        }
      ]
    },
    {
      "cell_type": "markdown",
      "metadata": {
        "id": "ymaA0KIP46ZY"
      },
      "source": [
        "# Predict using the model"
      ]
    },
    {
      "cell_type": "code",
      "metadata": {
        "id": "DPV2YfJ_1_dn"
      },
      "source": [
        "predictions = correct_model.transform(unlabled_data)"
      ],
      "execution_count": null,
      "outputs": []
    },
    {
      "cell_type": "code",
      "metadata": {
        "colab": {
          "base_uri": "https://localhost:8080/"
        },
        "id": "BRJgW5nu3lmq",
        "outputId": "4daad66c-85c8-477a-91f1-d9112408b8a1"
      },
      "source": [
        "predictions.show()"
      ],
      "execution_count": null,
      "outputs": [
        {
          "output_type": "stream",
          "text": [
            "+--------------------+--------------------+\n",
            "|            features|         predictions|\n",
            "+--------------------+--------------------+\n",
            "|(10,[0,1,2,3,4,5,...| -2.4585783351046313|\n",
            "|(10,[0,1,2,3,4,5,...|  -1.463501473519322|\n",
            "|(10,[0,1,2,3,4,5,...|  1.7212799361336657|\n",
            "|(10,[0,1,2,3,4,5,...| -0.9676232838788632|\n",
            "|(10,[0,1,2,3,4,5,...|  3.8126344891877753|\n",
            "|(10,[0,1,2,3,4,5,...|-0.21441970179464553|\n",
            "|(10,[0,1,2,3,4,5,...|  0.6107187104540752|\n",
            "|(10,[0,1,2,3,4,5,...|   2.550195838136547|\n",
            "|(10,[0,1,2,3,4,5,...|  1.2093665513537133|\n",
            "|(10,[0,1,2,3,4,5,...| -3.4890882958471985|\n",
            "|(10,[0,1,2,3,4,5,...|  -1.672622926130968|\n",
            "|(10,[0,1,2,3,4,5,...|  0.9226121132023659|\n",
            "|(10,[0,1,2,3,4,5,...|   4.164055905438106|\n",
            "|(10,[0,1,2,3,4,5,...| -2.6945335760212736|\n",
            "|(10,[0,1,2,3,4,5,...| -0.5541664563492996|\n",
            "|(10,[0,1,2,3,4,5,...| -0.5216936299549758|\n",
            "|(10,[0,1,2,3,4,5,...|   2.777961552761816|\n",
            "|(10,[0,1,2,3,4,5,...|   2.226116418746598|\n",
            "|(10,[0,1,2,3,4,5,...| -1.4643607579629372|\n",
            "|(10,[0,1,2,3,4,5,...|  1.0054760004875232|\n",
            "+--------------------+--------------------+\n",
            "only showing top 20 rows\n",
            "\n"
          ],
          "name": "stdout"
        }
      ]
    }
  ]
}