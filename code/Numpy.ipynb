{
  "nbformat": 4,
  "nbformat_minor": 0,
  "metadata": {
    "kernelspec": {
      "display_name": "Python 3",
      "language": "python",
      "name": "python3"
    },
    "language_info": {
      "codemirror_mode": {
        "name": "ipython",
        "version": 3
      },
      "file_extension": ".py",
      "mimetype": "text/x-python",
      "name": "python",
      "nbconvert_exporter": "python",
      "pygments_lexer": "ipython3",
      "version": "3.7.9"
    },
    "colab": {
      "name": "02_NumPy.ipynb",
      "provenance": [],
      "include_colab_link": true
    }
  },
  "cells": [
    {
      "cell_type": "markdown",
      "metadata": {
        "id": "view-in-github",
        "colab_type": "text"
      },
      "source": [
        "<a href=\"https://colab.research.google.com/github/kgpark88/ai-summary/blob/main/02_NumPy.ipynb\" target=\"_parent\"><img src=\"https://colab.research.google.com/assets/colab-badge.svg\" alt=\"Open In Colab\"/></a>"
      ]
    },
    {
      "cell_type": "markdown",
      "metadata": {
        "id": "TF4Pr4OHLRWX"
      },
      "source": [
        "# Numpy 기본"
      ]
    },
    {
      "cell_type": "markdown",
      "metadata": {
        "id": "Zjzr4dPuLRWb"
      },
      "source": [
        "## Numpy 설치    \n",
        "    pip install numpy\n",
        "    !pip install numpy"
      ]
    },
    {
      "cell_type": "markdown",
      "metadata": {
        "id": "Qiwkjqj7LRWc"
      },
      "source": [
        "NumPy 라이브러리 임포트"
      ]
    },
    {
      "cell_type": "code",
      "metadata": {
        "id": "6wwS2MSnLRWc"
      },
      "source": [
        "import numpy as np"
      ],
      "execution_count": 1,
      "outputs": []
    },
    {
      "cell_type": "markdown",
      "metadata": {
        "id": "_AO0IP3uLRWd"
      },
      "source": [
        "파이썬 List로 Numpy Array를 생성합니다."
      ]
    },
    {
      "cell_type": "code",
      "metadata": {
        "id": "PG_ArrawLRWd",
        "colab": {
          "base_uri": "https://localhost:8080/"
        },
        "outputId": "ae3553df-c283-4a09-8392-d3788c74119e"
      },
      "source": [
        "my_list = [1,2,3]\n",
        "my_list"
      ],
      "execution_count": 2,
      "outputs": [
        {
          "output_type": "execute_result",
          "data": {
            "text/plain": [
              "[1, 2, 3]"
            ]
          },
          "metadata": {
            "tags": []
          },
          "execution_count": 2
        }
      ]
    },
    {
      "cell_type": "code",
      "metadata": {
        "id": "nPkQYZbxLRWe",
        "colab": {
          "base_uri": "https://localhost:8080/"
        },
        "outputId": "ea1baee1-1303-461a-f4ea-2073f1099ac5"
      },
      "source": [
        "np.array(my_list)"
      ],
      "execution_count": 3,
      "outputs": [
        {
          "output_type": "execute_result",
          "data": {
            "text/plain": [
              "array([1, 2, 3])"
            ]
          },
          "metadata": {
            "tags": []
          },
          "execution_count": 3
        }
      ]
    },
    {
      "cell_type": "code",
      "metadata": {
        "id": "Ym_dOc4ELRWe",
        "colab": {
          "base_uri": "https://localhost:8080/"
        },
        "outputId": "bc0dbe70-804e-495b-88d7-f89568dba512"
      },
      "source": [
        "my_matrix = [[1,2,3],[4,5,6],[7,8,9]]\n",
        "my_matrix"
      ],
      "execution_count": 4,
      "outputs": [
        {
          "output_type": "execute_result",
          "data": {
            "text/plain": [
              "[[1, 2, 3], [4, 5, 6], [7, 8, 9]]"
            ]
          },
          "metadata": {
            "tags": []
          },
          "execution_count": 4
        }
      ]
    },
    {
      "cell_type": "code",
      "metadata": {
        "id": "VqdPTOF_LRWe",
        "colab": {
          "base_uri": "https://localhost:8080/"
        },
        "outputId": "710c2403-0742-4942-88c1-ed3fb1e3f320"
      },
      "source": [
        "np.array(my_matrix)"
      ],
      "execution_count": 5,
      "outputs": [
        {
          "output_type": "execute_result",
          "data": {
            "text/plain": [
              "array([[1, 2, 3],\n",
              "       [4, 5, 6],\n",
              "       [7, 8, 9]])"
            ]
          },
          "metadata": {
            "tags": []
          },
          "execution_count": 5
        }
      ]
    },
    {
      "cell_type": "markdown",
      "metadata": {
        "id": "vQrMD6c7LRWf"
      },
      "source": [
        "## 내장 메서드(Built-in Method)"
      ]
    },
    {
      "cell_type": "markdown",
      "metadata": {
        "id": "L43QouWZLRWf"
      },
      "source": [
        "### arange\n",
        "\n",
        "Return evenly spaced values within a given interval."
      ]
    },
    {
      "cell_type": "code",
      "metadata": {
        "id": "pr_PhuzkLRWf",
        "colab": {
          "base_uri": "https://localhost:8080/"
        },
        "outputId": "bc064f73-57d9-4d05-b65e-dd6e3a98829e"
      },
      "source": [
        "np.arange(0,10)"
      ],
      "execution_count": 6,
      "outputs": [
        {
          "output_type": "execute_result",
          "data": {
            "text/plain": [
              "array([0, 1, 2, 3, 4, 5, 6, 7, 8, 9])"
            ]
          },
          "metadata": {
            "tags": []
          },
          "execution_count": 6
        }
      ]
    },
    {
      "cell_type": "code",
      "metadata": {
        "id": "Hc87po0hLRWf",
        "colab": {
          "base_uri": "https://localhost:8080/"
        },
        "outputId": "0ecf1cfe-d790-47e1-8a76-a3e37b1ed1f3"
      },
      "source": [
        "np.arange(0,11,2)"
      ],
      "execution_count": 7,
      "outputs": [
        {
          "output_type": "execute_result",
          "data": {
            "text/plain": [
              "array([ 0,  2,  4,  6,  8, 10])"
            ]
          },
          "metadata": {
            "tags": []
          },
          "execution_count": 7
        }
      ]
    },
    {
      "cell_type": "markdown",
      "metadata": {
        "id": "70eIeVp1LRWg"
      },
      "source": [
        "### zeros and ones\n",
        "\n",
        "0 또는 1 array 생성"
      ]
    },
    {
      "cell_type": "code",
      "metadata": {
        "id": "_DC5wtXcLRWg",
        "colab": {
          "base_uri": "https://localhost:8080/"
        },
        "outputId": "258fec90-d2dc-4d2a-c3ae-38dfd14e7877"
      },
      "source": [
        "np.zeros(3)"
      ],
      "execution_count": 8,
      "outputs": [
        {
          "output_type": "execute_result",
          "data": {
            "text/plain": [
              "array([0., 0., 0.])"
            ]
          },
          "metadata": {
            "tags": []
          },
          "execution_count": 8
        }
      ]
    },
    {
      "cell_type": "code",
      "metadata": {
        "id": "LoqW30UnLRWg",
        "colab": {
          "base_uri": "https://localhost:8080/"
        },
        "outputId": "5bda056e-3885-45c0-b313-253410b8db62"
      },
      "source": [
        "np.zeros((5,5))"
      ],
      "execution_count": 9,
      "outputs": [
        {
          "output_type": "execute_result",
          "data": {
            "text/plain": [
              "array([[0., 0., 0., 0., 0.],\n",
              "       [0., 0., 0., 0., 0.],\n",
              "       [0., 0., 0., 0., 0.],\n",
              "       [0., 0., 0., 0., 0.],\n",
              "       [0., 0., 0., 0., 0.]])"
            ]
          },
          "metadata": {
            "tags": []
          },
          "execution_count": 9
        }
      ]
    },
    {
      "cell_type": "code",
      "metadata": {
        "id": "733GeihvLRWg",
        "colab": {
          "base_uri": "https://localhost:8080/"
        },
        "outputId": "f9359133-997f-4036-d36f-97a681b6a29e"
      },
      "source": [
        "np.ones(3)"
      ],
      "execution_count": 10,
      "outputs": [
        {
          "output_type": "execute_result",
          "data": {
            "text/plain": [
              "array([1., 1., 1.])"
            ]
          },
          "metadata": {
            "tags": []
          },
          "execution_count": 10
        }
      ]
    },
    {
      "cell_type": "code",
      "metadata": {
        "id": "_boqzQHfLRWh",
        "colab": {
          "base_uri": "https://localhost:8080/"
        },
        "outputId": "61654a1f-024a-4a7c-a88b-93c4c726f8cc"
      },
      "source": [
        "np.ones((3,3))"
      ],
      "execution_count": 11,
      "outputs": [
        {
          "output_type": "execute_result",
          "data": {
            "text/plain": [
              "array([[1., 1., 1.],\n",
              "       [1., 1., 1.],\n",
              "       [1., 1., 1.]])"
            ]
          },
          "metadata": {
            "tags": []
          },
          "execution_count": 11
        }
      ]
    },
    {
      "cell_type": "markdown",
      "metadata": {
        "id": "z92QoeCWLRWh"
      },
      "source": [
        "### linspace\n",
        "지정된 범위내에서 균등한 간격의 숫자를 반환합니다."
      ]
    },
    {
      "cell_type": "code",
      "metadata": {
        "id": "X70y3iBELRWh",
        "colab": {
          "base_uri": "https://localhost:8080/"
        },
        "outputId": "853aef84-143f-4479-e5b3-50b873376aa9"
      },
      "source": [
        "np.linspace(0,10,3)"
      ],
      "execution_count": 12,
      "outputs": [
        {
          "output_type": "execute_result",
          "data": {
            "text/plain": [
              "array([ 0.,  5., 10.])"
            ]
          },
          "metadata": {
            "tags": []
          },
          "execution_count": 12
        }
      ]
    },
    {
      "cell_type": "code",
      "metadata": {
        "id": "Q6NoL7QALRWh",
        "colab": {
          "base_uri": "https://localhost:8080/"
        },
        "outputId": "8db9f233-c015-498b-cc2b-72ef5f1b50e5"
      },
      "source": [
        "np.linspace(0,10,50)"
      ],
      "execution_count": 13,
      "outputs": [
        {
          "output_type": "execute_result",
          "data": {
            "text/plain": [
              "array([ 0.        ,  0.20408163,  0.40816327,  0.6122449 ,  0.81632653,\n",
              "        1.02040816,  1.2244898 ,  1.42857143,  1.63265306,  1.83673469,\n",
              "        2.04081633,  2.24489796,  2.44897959,  2.65306122,  2.85714286,\n",
              "        3.06122449,  3.26530612,  3.46938776,  3.67346939,  3.87755102,\n",
              "        4.08163265,  4.28571429,  4.48979592,  4.69387755,  4.89795918,\n",
              "        5.10204082,  5.30612245,  5.51020408,  5.71428571,  5.91836735,\n",
              "        6.12244898,  6.32653061,  6.53061224,  6.73469388,  6.93877551,\n",
              "        7.14285714,  7.34693878,  7.55102041,  7.75510204,  7.95918367,\n",
              "        8.16326531,  8.36734694,  8.57142857,  8.7755102 ,  8.97959184,\n",
              "        9.18367347,  9.3877551 ,  9.59183673,  9.79591837, 10.        ])"
            ]
          },
          "metadata": {
            "tags": []
          },
          "execution_count": 13
        }
      ]
    },
    {
      "cell_type": "markdown",
      "metadata": {
        "id": "ABW7ZqBbLRWi"
      },
      "source": [
        "## eye\n",
        "\n",
        "단위 행렬(identity matrix)을 생성합니다."
      ]
    },
    {
      "cell_type": "code",
      "metadata": {
        "id": "_cTK1fvtLRWi",
        "colab": {
          "base_uri": "https://localhost:8080/"
        },
        "outputId": "df0e6bf5-b23d-42d4-85c5-341d937a4550"
      },
      "source": [
        "np.eye(4)"
      ],
      "execution_count": 14,
      "outputs": [
        {
          "output_type": "execute_result",
          "data": {
            "text/plain": [
              "array([[1., 0., 0., 0.],\n",
              "       [0., 1., 0., 0.],\n",
              "       [0., 0., 1., 0.],\n",
              "       [0., 0., 0., 1.]])"
            ]
          },
          "metadata": {
            "tags": []
          },
          "execution_count": 14
        }
      ]
    },
    {
      "cell_type": "markdown",
      "metadata": {
        "id": "UfO5pGVSLRWi"
      },
      "source": [
        "## Random \n",
        "\n",
        "Numpy는 난수 배열을 만드는 많은 방법을 가지고 있습니다 :\n",
        "\n",
        "### rand\n",
        "  0부터 1사이의 균일 분포에서 난수 matrix array 생성"
      ]
    },
    {
      "cell_type": "code",
      "metadata": {
        "id": "-RctzcvJLRWi",
        "colab": {
          "base_uri": "https://localhost:8080/"
        },
        "outputId": "58beeff0-3cc0-4792-ae2d-ae55fc3b32e2"
      },
      "source": [
        "np.random.rand(2)"
      ],
      "execution_count": 15,
      "outputs": [
        {
          "output_type": "execute_result",
          "data": {
            "text/plain": [
              "array([0.95608582, 0.61501573])"
            ]
          },
          "metadata": {
            "tags": []
          },
          "execution_count": 15
        }
      ]
    },
    {
      "cell_type": "code",
      "metadata": {
        "id": "Mky-XevMLRWi",
        "colab": {
          "base_uri": "https://localhost:8080/"
        },
        "outputId": "671ce36f-5f9b-49a7-bc54-b610b57d6b6d"
      },
      "source": [
        "np.random.rand(5,5)"
      ],
      "execution_count": 16,
      "outputs": [
        {
          "output_type": "execute_result",
          "data": {
            "text/plain": [
              "array([[0.40515859, 0.58305894, 0.00433794, 0.48987033, 0.41274097],\n",
              "       [0.575186  , 0.16061438, 0.89088601, 0.91731668, 0.33552709],\n",
              "       [0.53857799, 0.84285003, 0.09669316, 0.4450546 , 0.65686069],\n",
              "       [0.0120697 , 0.92798445, 0.79952471, 0.03030726, 0.1912667 ],\n",
              "       [0.74414421, 0.98655615, 0.95249076, 0.54313564, 0.27736313]])"
            ]
          },
          "metadata": {
            "tags": []
          },
          "execution_count": 16
        }
      ]
    },
    {
      "cell_type": "markdown",
      "metadata": {
        "id": "4_NDw6jqLRWj"
      },
      "source": [
        "### randn\n",
        "\n",
        " 가우시안 표준 정규 분포에서 난수 matrix array 생성"
      ]
    },
    {
      "cell_type": "code",
      "metadata": {
        "id": "UNfKE4zaLRWj",
        "colab": {
          "base_uri": "https://localhost:8080/"
        },
        "outputId": "487eed8d-c54e-44c7-cc4e-3ddf0f53013b"
      },
      "source": [
        "np.random.randn(2)"
      ],
      "execution_count": 17,
      "outputs": [
        {
          "output_type": "execute_result",
          "data": {
            "text/plain": [
              "array([-0.09789531,  0.88677373])"
            ]
          },
          "metadata": {
            "tags": []
          },
          "execution_count": 17
        }
      ]
    },
    {
      "cell_type": "code",
      "metadata": {
        "id": "yeGhZ_NqLRWj",
        "colab": {
          "base_uri": "https://localhost:8080/"
        },
        "outputId": "538ecc2d-0099-479c-c756-296589ee0d36"
      },
      "source": [
        "np.random.randn(5,5)"
      ],
      "execution_count": 18,
      "outputs": [
        {
          "output_type": "execute_result",
          "data": {
            "text/plain": [
              "array([[-5.41819009e-01, -9.73453715e-02, -1.22731081e+00,\n",
              "         8.47482327e-01, -9.20809340e-01],\n",
              "       [ 1.11194707e+00, -6.99179983e-02, -1.12524843e+00,\n",
              "        -1.19760606e+00,  2.57490085e+00],\n",
              "       [-1.21332389e-01,  9.48991955e-01,  5.47117663e-01,\n",
              "        -5.95321036e-04, -1.50345078e+00],\n",
              "       [-1.85774992e+00, -8.70854696e-01,  8.73686374e-01,\n",
              "        -1.79351649e-02,  3.98274790e-01],\n",
              "       [-2.32364354e-01, -8.21830065e-01,  2.13445610e-01,\n",
              "         2.26715620e+00, -2.91731866e-01]])"
            ]
          },
          "metadata": {
            "tags": []
          },
          "execution_count": 18
        }
      ]
    },
    {
      "cell_type": "markdown",
      "metadata": {
        "id": "FOsdi-t-LRWj"
      },
      "source": [
        "### randint\n",
        "(시작, n-1) 사이의 랜덤숫자"
      ]
    },
    {
      "cell_type": "code",
      "metadata": {
        "id": "rJdZG-OtLRWj",
        "colab": {
          "base_uri": "https://localhost:8080/"
        },
        "outputId": "d13ac06c-934f-4359-8941-b147e4122474"
      },
      "source": [
        "np.random.randint(1,100)"
      ],
      "execution_count": 19,
      "outputs": [
        {
          "output_type": "execute_result",
          "data": {
            "text/plain": [
              "30"
            ]
          },
          "metadata": {
            "tags": []
          },
          "execution_count": 19
        }
      ]
    },
    {
      "cell_type": "code",
      "metadata": {
        "id": "3bx-IOxJLRWk",
        "colab": {
          "base_uri": "https://localhost:8080/"
        },
        "outputId": "aefeadd8-94a4-4af1-be3d-3b4bf600022a"
      },
      "source": [
        "np.random.randint(1,100,10)"
      ],
      "execution_count": 20,
      "outputs": [
        {
          "output_type": "execute_result",
          "data": {
            "text/plain": [
              "array([53, 28, 43, 80, 83, 98, 74, 47, 11, 93])"
            ]
          },
          "metadata": {
            "tags": []
          },
          "execution_count": 20
        }
      ]
    },
    {
      "cell_type": "markdown",
      "metadata": {
        "id": "6D5LVTdpLRWk"
      },
      "source": [
        "## Array Attributes and Methods"
      ]
    },
    {
      "cell_type": "code",
      "metadata": {
        "id": "Xq56L9GQLRWk"
      },
      "source": [
        "arr = np.arange(25)\n",
        "ranarr = np.random.randint(0,50,10)"
      ],
      "execution_count": 21,
      "outputs": []
    },
    {
      "cell_type": "code",
      "metadata": {
        "id": "hYFL3RxMLRWk",
        "colab": {
          "base_uri": "https://localhost:8080/"
        },
        "outputId": "182e4550-a4fc-4cea-b4ce-6d773466d0a6"
      },
      "source": [
        "arr"
      ],
      "execution_count": 22,
      "outputs": [
        {
          "output_type": "execute_result",
          "data": {
            "text/plain": [
              "array([ 0,  1,  2,  3,  4,  5,  6,  7,  8,  9, 10, 11, 12, 13, 14, 15, 16,\n",
              "       17, 18, 19, 20, 21, 22, 23, 24])"
            ]
          },
          "metadata": {
            "tags": []
          },
          "execution_count": 22
        }
      ]
    },
    {
      "cell_type": "code",
      "metadata": {
        "id": "CNR62Mh5LRWk",
        "colab": {
          "base_uri": "https://localhost:8080/"
        },
        "outputId": "f0220381-a5fb-48eb-ff79-87411e12a862"
      },
      "source": [
        "ranarr"
      ],
      "execution_count": 23,
      "outputs": [
        {
          "output_type": "execute_result",
          "data": {
            "text/plain": [
              "array([24, 22,  0, 14, 45, 23, 28, 14, 27, 48])"
            ]
          },
          "metadata": {
            "tags": []
          },
          "execution_count": 23
        }
      ]
    },
    {
      "cell_type": "markdown",
      "metadata": {
        "id": "qKK7ru3CLRWk"
      },
      "source": [
        "## Reshape\n",
        "shape 변경"
      ]
    },
    {
      "cell_type": "code",
      "metadata": {
        "id": "bVsXtkFELRWl",
        "colab": {
          "base_uri": "https://localhost:8080/"
        },
        "outputId": "4a22434b-2853-45b1-bddc-3d243958815d"
      },
      "source": [
        "arr.reshape(5,5)"
      ],
      "execution_count": 24,
      "outputs": [
        {
          "output_type": "execute_result",
          "data": {
            "text/plain": [
              "array([[ 0,  1,  2,  3,  4],\n",
              "       [ 5,  6,  7,  8,  9],\n",
              "       [10, 11, 12, 13, 14],\n",
              "       [15, 16, 17, 18, 19],\n",
              "       [20, 21, 22, 23, 24]])"
            ]
          },
          "metadata": {
            "tags": []
          },
          "execution_count": 24
        }
      ]
    },
    {
      "cell_type": "markdown",
      "metadata": {
        "id": "UAMkDMrCLRWl"
      },
      "source": [
        "### max,min,argmax,argmin"
      ]
    },
    {
      "cell_type": "code",
      "metadata": {
        "id": "t5U7qgP9LRWl",
        "colab": {
          "base_uri": "https://localhost:8080/"
        },
        "outputId": "f007eabd-9ea7-4070-d869-338b0f3760f8"
      },
      "source": [
        "ranarr"
      ],
      "execution_count": 25,
      "outputs": [
        {
          "output_type": "execute_result",
          "data": {
            "text/plain": [
              "array([24, 22,  0, 14, 45, 23, 28, 14, 27, 48])"
            ]
          },
          "metadata": {
            "tags": []
          },
          "execution_count": 25
        }
      ]
    },
    {
      "cell_type": "code",
      "metadata": {
        "id": "V_B608BXLRWl",
        "colab": {
          "base_uri": "https://localhost:8080/"
        },
        "outputId": "d420a48a-f8db-403f-ebc8-b91d306c6648"
      },
      "source": [
        "ranarr.max()"
      ],
      "execution_count": 26,
      "outputs": [
        {
          "output_type": "execute_result",
          "data": {
            "text/plain": [
              "48"
            ]
          },
          "metadata": {
            "tags": []
          },
          "execution_count": 26
        }
      ]
    },
    {
      "cell_type": "code",
      "metadata": {
        "id": "RmTYDm_QLRWl",
        "colab": {
          "base_uri": "https://localhost:8080/"
        },
        "outputId": "5c7220a9-a06d-4fd4-becb-9fa219a9f39c"
      },
      "source": [
        "ranarr.argmax()"
      ],
      "execution_count": 27,
      "outputs": [
        {
          "output_type": "execute_result",
          "data": {
            "text/plain": [
              "9"
            ]
          },
          "metadata": {
            "tags": []
          },
          "execution_count": 27
        }
      ]
    },
    {
      "cell_type": "code",
      "metadata": {
        "id": "4D2iJlp_LRWm",
        "colab": {
          "base_uri": "https://localhost:8080/"
        },
        "outputId": "63a657a2-6f1d-4840-fe90-c1f6b069a17b"
      },
      "source": [
        "ranarr.min()"
      ],
      "execution_count": 28,
      "outputs": [
        {
          "output_type": "execute_result",
          "data": {
            "text/plain": [
              "0"
            ]
          },
          "metadata": {
            "tags": []
          },
          "execution_count": 28
        }
      ]
    },
    {
      "cell_type": "code",
      "metadata": {
        "id": "keMER808LRWm",
        "colab": {
          "base_uri": "https://localhost:8080/"
        },
        "outputId": "9a72d7bd-76eb-4f13-ef3f-aaf767ff9c1d"
      },
      "source": [
        "ranarr.argmin()"
      ],
      "execution_count": 29,
      "outputs": [
        {
          "output_type": "execute_result",
          "data": {
            "text/plain": [
              "2"
            ]
          },
          "metadata": {
            "tags": []
          },
          "execution_count": 29
        }
      ]
    },
    {
      "cell_type": "markdown",
      "metadata": {
        "id": "SMOW3mRsLRWm"
      },
      "source": [
        "## Shape"
      ]
    },
    {
      "cell_type": "code",
      "metadata": {
        "id": "PVhGcWuSLRWm",
        "colab": {
          "base_uri": "https://localhost:8080/"
        },
        "outputId": "d5f9f08b-7fa6-48a7-8df1-b1fe0dd3b213"
      },
      "source": [
        "arr"
      ],
      "execution_count": 30,
      "outputs": [
        {
          "output_type": "execute_result",
          "data": {
            "text/plain": [
              "array([ 0,  1,  2,  3,  4,  5,  6,  7,  8,  9, 10, 11, 12, 13, 14, 15, 16,\n",
              "       17, 18, 19, 20, 21, 22, 23, 24])"
            ]
          },
          "metadata": {
            "tags": []
          },
          "execution_count": 30
        }
      ]
    },
    {
      "cell_type": "code",
      "metadata": {
        "id": "_hoGB17ZLRWm",
        "colab": {
          "base_uri": "https://localhost:8080/"
        },
        "outputId": "c2c5a2c7-09da-4829-e056-0fab56be6afa"
      },
      "source": [
        "# Vector\n",
        "arr.shape"
      ],
      "execution_count": 31,
      "outputs": [
        {
          "output_type": "execute_result",
          "data": {
            "text/plain": [
              "(25,)"
            ]
          },
          "metadata": {
            "tags": []
          },
          "execution_count": 31
        }
      ]
    },
    {
      "cell_type": "code",
      "metadata": {
        "id": "PAXyFaN_LRWn",
        "colab": {
          "base_uri": "https://localhost:8080/"
        },
        "outputId": "6b88a255-6cc2-4ccd-9358-da4385795126"
      },
      "source": [
        "# Notice the two sets of brackets\n",
        "arr.reshape(1,25)"
      ],
      "execution_count": 32,
      "outputs": [
        {
          "output_type": "execute_result",
          "data": {
            "text/plain": [
              "array([[ 0,  1,  2,  3,  4,  5,  6,  7,  8,  9, 10, 11, 12, 13, 14, 15,\n",
              "        16, 17, 18, 19, 20, 21, 22, 23, 24]])"
            ]
          },
          "metadata": {
            "tags": []
          },
          "execution_count": 32
        }
      ]
    },
    {
      "cell_type": "code",
      "metadata": {
        "id": "9POhoKdqLRWn",
        "colab": {
          "base_uri": "https://localhost:8080/"
        },
        "outputId": "787968cc-248e-455b-d63b-fd2ebd2653d2"
      },
      "source": [
        "arr.reshape(1,25).shape"
      ],
      "execution_count": 33,
      "outputs": [
        {
          "output_type": "execute_result",
          "data": {
            "text/plain": [
              "(1, 25)"
            ]
          },
          "metadata": {
            "tags": []
          },
          "execution_count": 33
        }
      ]
    },
    {
      "cell_type": "code",
      "metadata": {
        "id": "a4xD_x6pLRWn",
        "colab": {
          "base_uri": "https://localhost:8080/"
        },
        "outputId": "628997f9-69d3-4d88-f9e4-a7bed53966e7"
      },
      "source": [
        "arr.reshape(25,1)"
      ],
      "execution_count": 34,
      "outputs": [
        {
          "output_type": "execute_result",
          "data": {
            "text/plain": [
              "array([[ 0],\n",
              "       [ 1],\n",
              "       [ 2],\n",
              "       [ 3],\n",
              "       [ 4],\n",
              "       [ 5],\n",
              "       [ 6],\n",
              "       [ 7],\n",
              "       [ 8],\n",
              "       [ 9],\n",
              "       [10],\n",
              "       [11],\n",
              "       [12],\n",
              "       [13],\n",
              "       [14],\n",
              "       [15],\n",
              "       [16],\n",
              "       [17],\n",
              "       [18],\n",
              "       [19],\n",
              "       [20],\n",
              "       [21],\n",
              "       [22],\n",
              "       [23],\n",
              "       [24]])"
            ]
          },
          "metadata": {
            "tags": []
          },
          "execution_count": 34
        }
      ]
    },
    {
      "cell_type": "code",
      "metadata": {
        "id": "0JmkVIZXLRWn",
        "colab": {
          "base_uri": "https://localhost:8080/"
        },
        "outputId": "e71c5fb0-d0d4-4f90-da00-c6060070f35f"
      },
      "source": [
        "arr.reshape(25,1).shape"
      ],
      "execution_count": 35,
      "outputs": [
        {
          "output_type": "execute_result",
          "data": {
            "text/plain": [
              "(25, 1)"
            ]
          },
          "metadata": {
            "tags": []
          },
          "execution_count": 35
        }
      ]
    },
    {
      "cell_type": "markdown",
      "metadata": {
        "id": "-zFcIjRGLRWn"
      },
      "source": [
        "### dtype\n",
        "\n",
        "배열에 있는 오브젝트의 데이터 타입 확인"
      ]
    },
    {
      "cell_type": "code",
      "metadata": {
        "id": "Rbo1HZ87LRWn",
        "colab": {
          "base_uri": "https://localhost:8080/"
        },
        "outputId": "da80af59-1c88-4d84-aba4-162e3337edea"
      },
      "source": [
        "arr.dtype"
      ],
      "execution_count": 36,
      "outputs": [
        {
          "output_type": "execute_result",
          "data": {
            "text/plain": [
              "dtype('int64')"
            ]
          },
          "metadata": {
            "tags": []
          },
          "execution_count": 36
        }
      ]
    },
    {
      "cell_type": "markdown",
      "metadata": {
        "id": "wFTAh4VjLRWo"
      },
      "source": [
        "# NumPy Indexing, Selection"
      ]
    },
    {
      "cell_type": "code",
      "metadata": {
        "id": "_pEH_yfYLRWo"
      },
      "source": [
        "#Creating sample array\n",
        "arr = np.arange(0,11)"
      ],
      "execution_count": 37,
      "outputs": []
    },
    {
      "cell_type": "code",
      "metadata": {
        "id": "FslrcrlpLRWo",
        "colab": {
          "base_uri": "https://localhost:8080/"
        },
        "outputId": "2de12864-a8b8-4506-8a22-a3c878b343a4"
      },
      "source": [
        "#Show\n",
        "arr"
      ],
      "execution_count": 38,
      "outputs": [
        {
          "output_type": "execute_result",
          "data": {
            "text/plain": [
              "array([ 0,  1,  2,  3,  4,  5,  6,  7,  8,  9, 10])"
            ]
          },
          "metadata": {
            "tags": []
          },
          "execution_count": 38
        }
      ]
    },
    {
      "cell_type": "code",
      "metadata": {
        "id": "NZFR1G4TLRWo",
        "colab": {
          "base_uri": "https://localhost:8080/"
        },
        "outputId": "e62cecba-0ff5-4a8e-a297-31eb78175a73"
      },
      "source": [
        "# index 위치의 값\n",
        "arr[8]"
      ],
      "execution_count": 39,
      "outputs": [
        {
          "output_type": "execute_result",
          "data": {
            "text/plain": [
              "8"
            ]
          },
          "metadata": {
            "tags": []
          },
          "execution_count": 39
        }
      ]
    },
    {
      "cell_type": "code",
      "metadata": {
        "id": "aoS2BvSJLRWo",
        "colab": {
          "base_uri": "https://localhost:8080/"
        },
        "outputId": "33832fff-8268-4e5b-98cf-08a2b783d340"
      },
      "source": [
        "# range 범위내의 값\n",
        "arr[1:5]"
      ],
      "execution_count": 40,
      "outputs": [
        {
          "output_type": "execute_result",
          "data": {
            "text/plain": [
              "array([1, 2, 3, 4])"
            ]
          },
          "metadata": {
            "tags": []
          },
          "execution_count": 40
        }
      ]
    },
    {
      "cell_type": "markdown",
      "metadata": {
        "id": "pGP67IiJLRWp"
      },
      "source": [
        "## Indexing a 2D array (matrices)"
      ]
    },
    {
      "cell_type": "code",
      "metadata": {
        "id": "ggRgtAcWLRWp",
        "colab": {
          "base_uri": "https://localhost:8080/"
        },
        "outputId": "89991dd3-0818-4c73-b072-72210d83006f"
      },
      "source": [
        "arr_2d = np.array(([5,10,15],[20,25,30],[35,40,45]))\n",
        "\n",
        "#Show\n",
        "arr_2d"
      ],
      "execution_count": 41,
      "outputs": [
        {
          "output_type": "execute_result",
          "data": {
            "text/plain": [
              "array([[ 5, 10, 15],\n",
              "       [20, 25, 30],\n",
              "       [35, 40, 45]])"
            ]
          },
          "metadata": {
            "tags": []
          },
          "execution_count": 41
        }
      ]
    },
    {
      "cell_type": "code",
      "metadata": {
        "id": "jbIolMgULRWp",
        "colab": {
          "base_uri": "https://localhost:8080/"
        },
        "outputId": "1fbcbbfc-9104-42f7-9927-2a7d40e19c9f"
      },
      "source": [
        "#Indexing row\n",
        "arr_2d[1]"
      ],
      "execution_count": 42,
      "outputs": [
        {
          "output_type": "execute_result",
          "data": {
            "text/plain": [
              "array([20, 25, 30])"
            ]
          },
          "metadata": {
            "tags": []
          },
          "execution_count": 42
        }
      ]
    },
    {
      "cell_type": "code",
      "metadata": {
        "id": "0a9v3CVdLRWp",
        "colab": {
          "base_uri": "https://localhost:8080/"
        },
        "outputId": "c4073e76-b1cc-4c19-9890-528f819a4274"
      },
      "source": [
        "# Getting individual element value\n",
        "arr_2d[1][0]"
      ],
      "execution_count": 43,
      "outputs": [
        {
          "output_type": "execute_result",
          "data": {
            "text/plain": [
              "20"
            ]
          },
          "metadata": {
            "tags": []
          },
          "execution_count": 43
        }
      ]
    },
    {
      "cell_type": "code",
      "metadata": {
        "id": "UQsGvgyOLRWp",
        "colab": {
          "base_uri": "https://localhost:8080/"
        },
        "outputId": "844d5b58-9ac7-4065-95eb-fb43087e7027"
      },
      "source": [
        "# 2D array slicing\n",
        "\n",
        "#Shape (2,2) from top right corner\n",
        "arr_2d[:2,1:]"
      ],
      "execution_count": 44,
      "outputs": [
        {
          "output_type": "execute_result",
          "data": {
            "text/plain": [
              "array([[10, 15],\n",
              "       [25, 30]])"
            ]
          },
          "metadata": {
            "tags": []
          },
          "execution_count": 44
        }
      ]
    },
    {
      "cell_type": "code",
      "metadata": {
        "id": "9kBf58kYLRWp",
        "colab": {
          "base_uri": "https://localhost:8080/"
        },
        "outputId": "a9c3aee4-f01e-4aa8-8cd6-3190925fbc4a"
      },
      "source": [
        "#Shape bottom row\n",
        "arr_2d[2,:]"
      ],
      "execution_count": 45,
      "outputs": [
        {
          "output_type": "execute_result",
          "data": {
            "text/plain": [
              "array([35, 40, 45])"
            ]
          },
          "metadata": {
            "tags": []
          },
          "execution_count": 45
        }
      ]
    },
    {
      "cell_type": "markdown",
      "metadata": {
        "id": "6Nq6clCZLRWq"
      },
      "source": [
        "## Selection"
      ]
    },
    {
      "cell_type": "code",
      "metadata": {
        "id": "_pH-GeNZLRWq",
        "colab": {
          "base_uri": "https://localhost:8080/"
        },
        "outputId": "889b3b9f-57b1-4448-d949-408f972cab14"
      },
      "source": [
        "arr = np.arange(1,11)\n",
        "arr"
      ],
      "execution_count": 46,
      "outputs": [
        {
          "output_type": "execute_result",
          "data": {
            "text/plain": [
              "array([ 1,  2,  3,  4,  5,  6,  7,  8,  9, 10])"
            ]
          },
          "metadata": {
            "tags": []
          },
          "execution_count": 46
        }
      ]
    },
    {
      "cell_type": "code",
      "metadata": {
        "id": "JgaCpEY-LRWq",
        "colab": {
          "base_uri": "https://localhost:8080/"
        },
        "outputId": "42e2002c-9952-488e-8685-75ef2ad126d1"
      },
      "source": [
        "arr > 4"
      ],
      "execution_count": 47,
      "outputs": [
        {
          "output_type": "execute_result",
          "data": {
            "text/plain": [
              "array([False, False, False, False,  True,  True,  True,  True,  True,\n",
              "        True])"
            ]
          },
          "metadata": {
            "tags": []
          },
          "execution_count": 47
        }
      ]
    },
    {
      "cell_type": "code",
      "metadata": {
        "id": "hOitHvPVLRWq"
      },
      "source": [
        "bool_arr = arr>4"
      ],
      "execution_count": 48,
      "outputs": []
    },
    {
      "cell_type": "code",
      "metadata": {
        "id": "yFsY5luVLRWq",
        "colab": {
          "base_uri": "https://localhost:8080/"
        },
        "outputId": "0f70e048-8701-4e32-fcca-4623c1b66d3f"
      },
      "source": [
        "bool_arr"
      ],
      "execution_count": 49,
      "outputs": [
        {
          "output_type": "execute_result",
          "data": {
            "text/plain": [
              "array([False, False, False, False,  True,  True,  True,  True,  True,\n",
              "        True])"
            ]
          },
          "metadata": {
            "tags": []
          },
          "execution_count": 49
        }
      ]
    },
    {
      "cell_type": "code",
      "metadata": {
        "id": "KFLLsFqDLRWr",
        "colab": {
          "base_uri": "https://localhost:8080/"
        },
        "outputId": "eb8a426d-761b-471d-ebab-cb76b3d996f1"
      },
      "source": [
        "arr[bool_arr]"
      ],
      "execution_count": 50,
      "outputs": [
        {
          "output_type": "execute_result",
          "data": {
            "text/plain": [
              "array([ 5,  6,  7,  8,  9, 10])"
            ]
          },
          "metadata": {
            "tags": []
          },
          "execution_count": 50
        }
      ]
    },
    {
      "cell_type": "code",
      "metadata": {
        "id": "9oD27F2_LRWr",
        "colab": {
          "base_uri": "https://localhost:8080/"
        },
        "outputId": "0ebe81e7-4088-4efe-c7d6-1840b72192f4"
      },
      "source": [
        "arr[arr>2]"
      ],
      "execution_count": 51,
      "outputs": [
        {
          "output_type": "execute_result",
          "data": {
            "text/plain": [
              "array([ 3,  4,  5,  6,  7,  8,  9, 10])"
            ]
          },
          "metadata": {
            "tags": []
          },
          "execution_count": 51
        }
      ]
    },
    {
      "cell_type": "code",
      "metadata": {
        "id": "QN6kx3syLRWr",
        "colab": {
          "base_uri": "https://localhost:8080/"
        },
        "outputId": "ba94b275-660b-488f-afd0-ef78a1bb3776"
      },
      "source": [
        "x = 2\n",
        "arr[arr>x]"
      ],
      "execution_count": 52,
      "outputs": [
        {
          "output_type": "execute_result",
          "data": {
            "text/plain": [
              "array([ 3,  4,  5,  6,  7,  8,  9, 10])"
            ]
          },
          "metadata": {
            "tags": []
          },
          "execution_count": 52
        }
      ]
    },
    {
      "cell_type": "markdown",
      "metadata": {
        "id": "hC9hS5SVLRWr"
      },
      "source": [
        "# NumPy 연산"
      ]
    },
    {
      "cell_type": "code",
      "metadata": {
        "id": "ZTsZeH6ULRWr"
      },
      "source": [
        "arr = np.arange(0,10)"
      ],
      "execution_count": 53,
      "outputs": []
    },
    {
      "cell_type": "code",
      "metadata": {
        "id": "J11R9dNtLRWr",
        "colab": {
          "base_uri": "https://localhost:8080/"
        },
        "outputId": "baba29fc-8c5c-49eb-eb56-73d0032cb874"
      },
      "source": [
        "arr + arr"
      ],
      "execution_count": 54,
      "outputs": [
        {
          "output_type": "execute_result",
          "data": {
            "text/plain": [
              "array([ 0,  2,  4,  6,  8, 10, 12, 14, 16, 18])"
            ]
          },
          "metadata": {
            "tags": []
          },
          "execution_count": 54
        }
      ]
    },
    {
      "cell_type": "code",
      "metadata": {
        "id": "wt3Tj4YHLRWs",
        "colab": {
          "base_uri": "https://localhost:8080/"
        },
        "outputId": "d7a16afa-9739-4d6d-f221-176d5280b045"
      },
      "source": [
        "arr * arr"
      ],
      "execution_count": 55,
      "outputs": [
        {
          "output_type": "execute_result",
          "data": {
            "text/plain": [
              "array([ 0,  1,  4,  9, 16, 25, 36, 49, 64, 81])"
            ]
          },
          "metadata": {
            "tags": []
          },
          "execution_count": 55
        }
      ]
    },
    {
      "cell_type": "code",
      "metadata": {
        "id": "yx0FGVu3LRWs",
        "colab": {
          "base_uri": "https://localhost:8080/"
        },
        "outputId": "9948adb4-1087-4ee9-faa9-4933542e7104"
      },
      "source": [
        "arr - arr"
      ],
      "execution_count": 56,
      "outputs": [
        {
          "output_type": "execute_result",
          "data": {
            "text/plain": [
              "array([0, 0, 0, 0, 0, 0, 0, 0, 0, 0])"
            ]
          },
          "metadata": {
            "tags": []
          },
          "execution_count": 56
        }
      ]
    },
    {
      "cell_type": "code",
      "metadata": {
        "id": "iUZTOcplLRWs",
        "colab": {
          "base_uri": "https://localhost:8080/"
        },
        "outputId": "38dcd493-8b2d-4d17-b5d1-e942a51b9b18"
      },
      "source": [
        "arr/arr"
      ],
      "execution_count": 57,
      "outputs": [
        {
          "output_type": "stream",
          "text": [
            "/usr/local/lib/python3.7/dist-packages/ipykernel_launcher.py:1: RuntimeWarning: invalid value encountered in true_divide\n",
            "  \"\"\"Entry point for launching an IPython kernel.\n"
          ],
          "name": "stderr"
        },
        {
          "output_type": "execute_result",
          "data": {
            "text/plain": [
              "array([nan,  1.,  1.,  1.,  1.,  1.,  1.,  1.,  1.,  1.])"
            ]
          },
          "metadata": {
            "tags": []
          },
          "execution_count": 57
        }
      ]
    },
    {
      "cell_type": "code",
      "metadata": {
        "id": "W_ssKTIsLRWs",
        "colab": {
          "base_uri": "https://localhost:8080/"
        },
        "outputId": "7b61d0b1-7e50-4399-88a2-8d3b89cf296c"
      },
      "source": [
        "1/arr"
      ],
      "execution_count": 58,
      "outputs": [
        {
          "output_type": "stream",
          "text": [
            "/usr/local/lib/python3.7/dist-packages/ipykernel_launcher.py:1: RuntimeWarning: divide by zero encountered in true_divide\n",
            "  \"\"\"Entry point for launching an IPython kernel.\n"
          ],
          "name": "stderr"
        },
        {
          "output_type": "execute_result",
          "data": {
            "text/plain": [
              "array([       inf, 1.        , 0.5       , 0.33333333, 0.25      ,\n",
              "       0.2       , 0.16666667, 0.14285714, 0.125     , 0.11111111])"
            ]
          },
          "metadata": {
            "tags": []
          },
          "execution_count": 58
        }
      ]
    },
    {
      "cell_type": "code",
      "metadata": {
        "id": "TCS6wSpWLRWs",
        "colab": {
          "base_uri": "https://localhost:8080/"
        },
        "outputId": "359723e8-2196-42b1-b9bc-b28b0c2594c6"
      },
      "source": [
        "arr**3"
      ],
      "execution_count": 59,
      "outputs": [
        {
          "output_type": "execute_result",
          "data": {
            "text/plain": [
              "array([  0,   1,   8,  27,  64, 125, 216, 343, 512, 729])"
            ]
          },
          "metadata": {
            "tags": []
          },
          "execution_count": 59
        }
      ]
    },
    {
      "cell_type": "code",
      "metadata": {
        "id": "WhA-0NSeLRWt",
        "colab": {
          "base_uri": "https://localhost:8080/"
        },
        "outputId": "e007f98d-55ba-462e-ffd0-deb0f3b24ba0"
      },
      "source": [
        "#Taking Square Roots\n",
        "np.sqrt(arr)"
      ],
      "execution_count": 60,
      "outputs": [
        {
          "output_type": "execute_result",
          "data": {
            "text/plain": [
              "array([0.        , 1.        , 1.41421356, 1.73205081, 2.        ,\n",
              "       2.23606798, 2.44948974, 2.64575131, 2.82842712, 3.        ])"
            ]
          },
          "metadata": {
            "tags": []
          },
          "execution_count": 60
        }
      ]
    },
    {
      "cell_type": "code",
      "metadata": {
        "id": "ePBwG36nLRWt",
        "colab": {
          "base_uri": "https://localhost:8080/"
        },
        "outputId": "c5b0a092-eeeb-4104-c602-819f23f9b697"
      },
      "source": [
        "#Calcualting exponential (e^)\n",
        "np.exp(arr)"
      ],
      "execution_count": 61,
      "outputs": [
        {
          "output_type": "execute_result",
          "data": {
            "text/plain": [
              "array([1.00000000e+00, 2.71828183e+00, 7.38905610e+00, 2.00855369e+01,\n",
              "       5.45981500e+01, 1.48413159e+02, 4.03428793e+02, 1.09663316e+03,\n",
              "       2.98095799e+03, 8.10308393e+03])"
            ]
          },
          "metadata": {
            "tags": []
          },
          "execution_count": 61
        }
      ]
    },
    {
      "cell_type": "code",
      "metadata": {
        "id": "rmNDlup_LRWt",
        "colab": {
          "base_uri": "https://localhost:8080/"
        },
        "outputId": "0210ed75-0e38-49f4-c102-bae7d9402749"
      },
      "source": [
        "np.max(arr) #same as arr.max()"
      ],
      "execution_count": 62,
      "outputs": [
        {
          "output_type": "execute_result",
          "data": {
            "text/plain": [
              "9"
            ]
          },
          "metadata": {
            "tags": []
          },
          "execution_count": 62
        }
      ]
    },
    {
      "cell_type": "code",
      "metadata": {
        "id": "qjDWIviWLRWt",
        "colab": {
          "base_uri": "https://localhost:8080/"
        },
        "outputId": "df94d45d-2159-4311-808a-d1cfa18442ec"
      },
      "source": [
        "np.sin(arr)"
      ],
      "execution_count": 63,
      "outputs": [
        {
          "output_type": "execute_result",
          "data": {
            "text/plain": [
              "array([ 0.        ,  0.84147098,  0.90929743,  0.14112001, -0.7568025 ,\n",
              "       -0.95892427, -0.2794155 ,  0.6569866 ,  0.98935825,  0.41211849])"
            ]
          },
          "metadata": {
            "tags": []
          },
          "execution_count": 63
        }
      ]
    },
    {
      "cell_type": "code",
      "metadata": {
        "id": "jvM37k-sLRWt",
        "colab": {
          "base_uri": "https://localhost:8080/"
        },
        "outputId": "f8013a91-760e-4c26-b274-3964f0faaf4b"
      },
      "source": [
        "np.log(arr)"
      ],
      "execution_count": 64,
      "outputs": [
        {
          "output_type": "stream",
          "text": [
            "/usr/local/lib/python3.7/dist-packages/ipykernel_launcher.py:1: RuntimeWarning: divide by zero encountered in log\n",
            "  \"\"\"Entry point for launching an IPython kernel.\n"
          ],
          "name": "stderr"
        },
        {
          "output_type": "execute_result",
          "data": {
            "text/plain": [
              "array([      -inf, 0.        , 0.69314718, 1.09861229, 1.38629436,\n",
              "       1.60943791, 1.79175947, 1.94591015, 2.07944154, 2.19722458])"
            ]
          },
          "metadata": {
            "tags": []
          },
          "execution_count": 64
        }
      ]
    },
    {
      "cell_type": "code",
      "metadata": {
        "id": "HPmW2p3dLRWu"
      },
      "source": [
        ""
      ],
      "execution_count": 64,
      "outputs": []
    }
  ]
}