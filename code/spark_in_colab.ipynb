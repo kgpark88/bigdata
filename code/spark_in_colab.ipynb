{
  "nbformat": 4,
  "nbformat_minor": 0,
  "metadata": {
    "colab": {
      "provenance": []
    },
    "kernelspec": {
      "name": "python3",
      "display_name": "Python 3"
    },
    "language_info": {
      "name": "python"
    }
  },
  "cells": [
    {
      "cell_type": "markdown",
      "metadata": {
        "id": "w43TrZtZq_C4"
      },
      "source": [
        "#  Colab에서 PySpark 실행하는 방법\n",
        "- 참조 : https://medium.com/@TheITspace/running-pyspark-on-google-colab-2552435972b3"
      ]
    },
    {
      "cell_type": "code",
      "metadata": {
        "colab": {
          "base_uri": "https://localhost:8080/"
        },
        "id": "7M4xT7qkpSrb",
        "outputId": "55fd1bfd-1015-4a30-f609-20b9c7a972db"
      },
      "source": [
        "# Colab에서 PySpark 사용하는 방법 1\n",
        "!pip install pyspark py4j"
      ],
      "execution_count": 1,
      "outputs": [
        {
          "output_type": "stream",
          "name": "stdout",
          "text": [
            "Looking in indexes: https://pypi.org/simple, https://us-python.pkg.dev/colab-wheels/public/simple/\n",
            "Collecting pyspark\n",
            "  Downloading pyspark-3.3.2.tar.gz (281.4 MB)\n",
            "\u001b[2K     \u001b[90m━━━━━━━━━━━━━━━━━━━━━━━━━━━━━━━━━━━━━━━\u001b[0m \u001b[32m281.4/281.4 MB\u001b[0m \u001b[31m3.7 MB/s\u001b[0m eta \u001b[36m0:00:00\u001b[0m\n",
            "\u001b[?25h  Preparing metadata (setup.py) ... \u001b[?25l\u001b[?25hdone\n",
            "Requirement already satisfied: py4j in /usr/local/lib/python3.9/dist-packages (0.10.9.7)\n",
            "Collecting py4j\n",
            "  Downloading py4j-0.10.9.5-py2.py3-none-any.whl (199 kB)\n",
            "\u001b[2K     \u001b[90m━━━━━━━━━━━━━━━━━━━━━━━━━━━━━━━━━━━━━━\u001b[0m \u001b[32m199.7/199.7 KB\u001b[0m \u001b[31m12.6 MB/s\u001b[0m eta \u001b[36m0:00:00\u001b[0m\n",
            "\u001b[?25hBuilding wheels for collected packages: pyspark\n",
            "  Building wheel for pyspark (setup.py) ... \u001b[?25l\u001b[?25hdone\n",
            "  Created wheel for pyspark: filename=pyspark-3.3.2-py2.py3-none-any.whl size=281824028 sha256=320cddfa70bb5bbcf2b89617c7883c29c6413a1cf478d3a0a7b77e8e921944f2\n",
            "  Stored in directory: /root/.cache/pip/wheels/6c/e3/9b/0525ce8a69478916513509d43693511463c6468db0de237c86\n",
            "Successfully built pyspark\n",
            "Installing collected packages: py4j, pyspark\n",
            "  Attempting uninstall: py4j\n",
            "    Found existing installation: py4j 0.10.9.7\n",
            "    Uninstalling py4j-0.10.9.7:\n",
            "      Successfully uninstalled py4j-0.10.9.7\n",
            "Successfully installed py4j-0.10.9.5 pyspark-3.3.2\n"
          ]
        }
      ]
    },
    {
      "cell_type": "code",
      "source": [
        "# # Colab에서 PySpark 사용하는 방법 2\n",
        "# !apt-get install openjdk-8-jdk-headless -qq \n",
        "# !wget -q !wget -q https://downloads.apache.org/spark/spark-3.3.2/spark-3.3.2-bin-hadoop3.tgz  \n",
        "# !tar -xf spark-3.3.2-bin-hadoop3.tgz\n",
        "# !pip install -q findspark\n",
        "\n",
        "# import os\n",
        "# import findspark\n",
        "\n",
        "# os.environ[\"JAVA_HOME\"] = \"/usr/lib/jvm/java-8-openjdk-amd64\"\n",
        "# os.environ[\"SPARK_HOME\"] = \"/content/spark-3.3.2-bin-hadoop3\"\n",
        "\n",
        "# findspark.init()\n",
        "# findspark.find()"
      ],
      "metadata": {
        "id": "gvxaWK6oC7zd"
      },
      "execution_count": 2,
      "outputs": []
    },
    {
      "cell_type": "code",
      "metadata": {
        "id": "dRdkpnOkr_-n"
      },
      "source": [
        "from pyspark.sql import SparkSession\n",
        "\n",
        "spark = SparkSession.builder\\\n",
        "        .master(\"local\")\\\n",
        "        .appName(\"demo\")\\\n",
        "        .config('spark.ui.port', '4050')\\\n",
        "        .getOrCreate()"
      ],
      "execution_count": 3,
      "outputs": []
    },
    {
      "cell_type": "code",
      "metadata": {
        "colab": {
          "base_uri": "https://localhost:8080/",
          "height": 222
        },
        "id": "LIfnIselsYnH",
        "outputId": "842754a8-9c42-4362-cd3e-e2c50cbc4bab"
      },
      "source": [
        "spark"
      ],
      "execution_count": 4,
      "outputs": [
        {
          "output_type": "execute_result",
          "data": {
            "text/plain": [
              "<pyspark.sql.session.SparkSession at 0x7f16f8059700>"
            ],
            "text/html": [
              "\n",
              "            <div>\n",
              "                <p><b>SparkSession - in-memory</b></p>\n",
              "                \n",
              "        <div>\n",
              "            <p><b>SparkContext</b></p>\n",
              "\n",
              "            <p><a href=\"http://b1eb46fb93d7:4050\">Spark UI</a></p>\n",
              "\n",
              "            <dl>\n",
              "              <dt>Version</dt>\n",
              "                <dd><code>v3.3.2</code></dd>\n",
              "              <dt>Master</dt>\n",
              "                <dd><code>local</code></dd>\n",
              "              <dt>AppName</dt>\n",
              "                <dd><code>demo</code></dd>\n",
              "            </dl>\n",
              "        </div>\n",
              "        \n",
              "            </div>\n",
              "        "
            ]
          },
          "metadata": {},
          "execution_count": 4
        }
      ]
    },
    {
      "cell_type": "markdown",
      "metadata": {
        "id": "fCRjuwBBs-EO"
      },
      "source": [
        "## ngrok를 사용하여 Spark UI 접속"
      ]
    },
    {
      "cell_type": "code",
      "source": [
        "!wget https://bin.equinox.io/c/bNyj1mQVY4c/ngrok-v3-stable-linux-amd64.tgz"
      ],
      "metadata": {
        "colab": {
          "base_uri": "https://localhost:8080/"
        },
        "id": "jCVzdOsmjcDg",
        "outputId": "0b9598f3-89bf-44e7-a963-13c13bf720e6"
      },
      "execution_count": 5,
      "outputs": [
        {
          "output_type": "stream",
          "name": "stdout",
          "text": [
            "--2023-03-22 12:56:27--  https://bin.equinox.io/c/bNyj1mQVY4c/ngrok-v3-stable-linux-amd64.tgz\n",
            "Resolving bin.equinox.io (bin.equinox.io)... 52.202.168.65, 54.161.241.46, 18.205.222.128, ...\n",
            "Connecting to bin.equinox.io (bin.equinox.io)|52.202.168.65|:443... connected.\n",
            "HTTP request sent, awaiting response... 200 OK\n",
            "Length: 8162036 (7.8M) [application/octet-stream]\n",
            "Saving to: ‘ngrok-v3-stable-linux-amd64.tgz’\n",
            "\n",
            "ngrok-v3-stable-lin 100%[===================>]   7.78M  35.9MB/s    in 0.2s    \n",
            "\n",
            "2023-03-22 12:56:28 (35.9 MB/s) - ‘ngrok-v3-stable-linux-amd64.tgz’ saved [8162036/8162036]\n",
            "\n"
          ]
        }
      ]
    },
    {
      "cell_type": "code",
      "metadata": {
        "id": "_tEiX_8Lsi5Y"
      },
      "source": [
        "!tar xf ngrok-v3-stable-linux-amd64.tgz"
      ],
      "execution_count": 6,
      "outputs": []
    },
    {
      "cell_type": "code",
      "source": [
        "#  !./ngrok authtoken <authtoken > # https://dashboard.ngrok.com/\n",
        "!./ngrok authtoken 68EgMVst4xkntqLofArnK_7VuGPawLqhayeXRFfNLtH"
      ],
      "metadata": {
        "colab": {
          "base_uri": "https://localhost:8080/"
        },
        "id": "IG0zwVsqhvoG",
        "outputId": "4ffa6466-e8ac-479a-e599-a2f03825e357"
      },
      "execution_count": 16,
      "outputs": [
        {
          "output_type": "stream",
          "name": "stdout",
          "text": [
            "Authtoken saved to configuration file: /root/.config/ngrok/ngrok.yml\n"
          ]
        }
      ]
    },
    {
      "cell_type": "code",
      "source": [
        "get_ipython().system_raw('./ngrok http 4050 &')"
      ],
      "metadata": {
        "id": "lKuVPlG2x_sj"
      },
      "execution_count": 22,
      "outputs": []
    },
    {
      "cell_type": "code",
      "source": [
        "!ps -ef | grep ngrok"
      ],
      "metadata": {
        "colab": {
          "base_uri": "https://localhost:8080/"
        },
        "id": "L8P-sBy7x4HZ",
        "outputId": "9f89ba0a-aa59-48fe-929b-b3bf29bf6676"
      },
      "execution_count": 23,
      "outputs": [
        {
          "output_type": "stream",
          "name": "stdout",
          "text": [
            "root        2621       1  2 13:01 ?        00:00:00 ./ngrok http 4050\n",
            "root        2654     758  0 13:01 ?        00:00:00 /bin/bash -c ps -ef | grep ngrok\n",
            "root        2656    2654  0 13:01 ?        00:00:00 grep ngrok\n"
          ]
        }
      ]
    },
    {
      "cell_type": "code",
      "source": [
        "!curl -s http://localhost:4040/api/tunnels | python3 -c \\\n",
        "\"import sys, json; print(json.load(sys.stdin)['tunnels'][0]['public_url'])\""
      ],
      "metadata": {
        "id": "lwGSayC3liEA",
        "colab": {
          "base_uri": "https://localhost:8080/"
        },
        "outputId": "4ec9eaea-924f-4da2-d025-fced04e685be"
      },
      "execution_count": 26,
      "outputs": [
        {
          "output_type": "stream",
          "name": "stdout",
          "text": [
            "https://044d-35-196-217-58.ngrok.io\n"
          ]
        }
      ]
    },
    {
      "cell_type": "markdown",
      "metadata": {
        "id": "cnFEnB0-tE2H"
      },
      "source": [
        "## 데이터 로딩\n",
        "- 데이터 출처 : https://www.kaggle.com/sdolezel/black-friday"
      ]
    },
    {
      "cell_type": "code",
      "metadata": {
        "id": "7Sh8w4-stFld"
      },
      "source": [
        "df = spark.read.csv(\"train.csv\", header=True, inferSchema=True)"
      ],
      "execution_count": 27,
      "outputs": []
    },
    {
      "cell_type": "code",
      "metadata": {
        "colab": {
          "base_uri": "https://localhost:8080/"
        },
        "id": "KV0mt-KFvVTO",
        "outputId": "7bed03fc-774d-4229-b12e-0490e0e46f50"
      },
      "source": [
        "df.printSchema()"
      ],
      "execution_count": 28,
      "outputs": [
        {
          "output_type": "stream",
          "name": "stdout",
          "text": [
            "root\n",
            " |-- User_ID: integer (nullable = true)\n",
            " |-- Product_ID: string (nullable = true)\n",
            " |-- Gender: string (nullable = true)\n",
            " |-- Age: string (nullable = true)\n",
            " |-- Occupation: integer (nullable = true)\n",
            " |-- City_Category: string (nullable = true)\n",
            " |-- Stay_In_Current_City_Years: string (nullable = true)\n",
            " |-- Marital_Status: integer (nullable = true)\n",
            " |-- Product_Category_1: integer (nullable = true)\n",
            " |-- Product_Category_2: integer (nullable = true)\n",
            " |-- Product_Category_3: integer (nullable = true)\n",
            " |-- Purchase: integer (nullable = true)\n",
            "\n"
          ]
        }
      ]
    },
    {
      "cell_type": "code",
      "metadata": {
        "colab": {
          "base_uri": "https://localhost:8080/"
        },
        "id": "ma4yZtIUvZUB",
        "outputId": "b1a74f6d-9334-403e-ce6b-218cf7758fd8"
      },
      "source": [
        "df.show(5)"
      ],
      "execution_count": 29,
      "outputs": [
        {
          "output_type": "stream",
          "name": "stdout",
          "text": [
            "+-------+----------+------+----+----------+-------------+--------------------------+--------------+------------------+------------------+------------------+--------+\n",
            "|User_ID|Product_ID|Gender| Age|Occupation|City_Category|Stay_In_Current_City_Years|Marital_Status|Product_Category_1|Product_Category_2|Product_Category_3|Purchase|\n",
            "+-------+----------+------+----+----------+-------------+--------------------------+--------------+------------------+------------------+------------------+--------+\n",
            "|1000001| P00069042|     F|0-17|        10|            A|                         2|             0|                 3|              null|              null|    8370|\n",
            "|1000001| P00248942|     F|0-17|        10|            A|                         2|             0|                 1|                 6|                14|   15200|\n",
            "|1000001| P00087842|     F|0-17|        10|            A|                         2|             0|                12|              null|              null|    1422|\n",
            "|1000001| P00085442|     F|0-17|        10|            A|                         2|             0|                12|                14|              null|    1057|\n",
            "|1000002| P00285442|     M| 55+|        16|            C|                        4+|             0|                 8|              null|              null|    7969|\n",
            "+-------+----------+------+----+----------+-------------+--------------------------+--------------+------------------+------------------+------------------+--------+\n",
            "only showing top 5 rows\n",
            "\n"
          ]
        }
      ]
    },
    {
      "cell_type": "code",
      "metadata": {
        "colab": {
          "base_uri": "https://localhost:8080/"
        },
        "id": "hYx0MlbxvbrO",
        "outputId": "6b539893-6399-4a9a-b052-4168791c6da3"
      },
      "source": [
        "df.count()"
      ],
      "execution_count": 30,
      "outputs": [
        {
          "output_type": "execute_result",
          "data": {
            "text/plain": [
              "22589"
            ]
          },
          "metadata": {},
          "execution_count": 30
        }
      ]
    },
    {
      "cell_type": "markdown",
      "metadata": {
        "id": "eNtLYEZY0YFb"
      },
      "source": [
        "## PySpark 사용법"
      ]
    },
    {
      "cell_type": "markdown",
      "metadata": {
        "id": "uKFIX3Z2wDCF"
      },
      "source": [
        "### 특정 컬럼 데이터 보기"
      ]
    },
    {
      "cell_type": "code",
      "metadata": {
        "colab": {
          "base_uri": "https://localhost:8080/"
        },
        "id": "2x3jxCsgvetF",
        "outputId": "d9f9b8d6-86d0-4d19-de8e-0b059aad9d73"
      },
      "source": [
        "df.select(\"User_ID\",\"Gender\",\"Age\",\"Occupation\").show(5)"
      ],
      "execution_count": 31,
      "outputs": [
        {
          "output_type": "stream",
          "name": "stdout",
          "text": [
            "+-------+------+----+----------+\n",
            "|User_ID|Gender| Age|Occupation|\n",
            "+-------+------+----+----------+\n",
            "|1000001|     F|0-17|        10|\n",
            "|1000001|     F|0-17|        10|\n",
            "|1000001|     F|0-17|        10|\n",
            "|1000001|     F|0-17|        10|\n",
            "|1000002|     M| 55+|        16|\n",
            "+-------+------+----+----------+\n",
            "only showing top 5 rows\n",
            "\n"
          ]
        }
      ]
    },
    {
      "cell_type": "markdown",
      "metadata": {
        "id": "WYhSOc-JwIZO"
      },
      "source": [
        "### 컬럼"
      ]
    },
    {
      "cell_type": "code",
      "metadata": {
        "colab": {
          "base_uri": "https://localhost:8080/"
        },
        "id": "dOjfXzNLvh5G",
        "outputId": "be3ce229-c25a-4161-edfd-8cd91058f06c"
      },
      "source": [
        "df.describe().show()"
      ],
      "execution_count": 32,
      "outputs": [
        {
          "output_type": "stream",
          "name": "stdout",
          "text": [
            "+-------+------------------+----------+------+-----+------------------+-------------+--------------------------+-------------------+------------------+------------------+------------------+-----------------+\n",
            "|summary|           User_ID|Product_ID|Gender|  Age|        Occupation|City_Category|Stay_In_Current_City_Years|     Marital_Status|Product_Category_1|Product_Category_2|Product_Category_3|         Purchase|\n",
            "+-------+------------------+----------+------+-----+------------------+-------------+--------------------------+-------------------+------------------+------------------+------------------+-----------------+\n",
            "|  count|             22589|     22589| 22589|22589|             22589|        22589|                     22589|              22589|             22589|             15375|              6786|            22589|\n",
            "|   mean|1001753.7059188101|      null|  null| null| 8.271636637301341|         null|        1.4850456501206841|0.40134578777280977| 5.303112134224623| 9.865430894308943|12.735779546124373|9242.095931648148|\n",
            "| stddev|1014.4041765189739|      null|  null| null|6.5481125123563855|         null|        0.9982468236387632| 0.4901815820247444|3.6871381992850525|5.0715998511422065| 4.112730791748281|4931.126240961528|\n",
            "|    min|           1000001| P00000142|     F| 0-17|                 0|            A|                         0|                  0|                 1|                 2|                 3|              186|\n",
            "|    max|           1003539|  P0099942|     M|  55+|                20|            C|                        4+|                  1|                18|                18|                18|            23958|\n",
            "+-------+------------------+----------+------+-----+------------------+-------------+--------------------------+-------------------+------------------+------------------+------------------+-----------------+\n",
            "\n"
          ]
        }
      ]
    },
    {
      "cell_type": "markdown",
      "metadata": {
        "id": "CWWTzjgswQo9"
      },
      "source": [
        "### 범주형 컬럼(Categorical columns)의 유일값 확인"
      ]
    },
    {
      "cell_type": "code",
      "metadata": {
        "colab": {
          "base_uri": "https://localhost:8080/"
        },
        "id": "4OUqG4Fgv1e1",
        "outputId": "c0f96cb9-7e17-4aea-d3eb-9b88278f8d9a"
      },
      "source": [
        "df.select(\"City_Category\").distinct().show()"
      ],
      "execution_count": 33,
      "outputs": [
        {
          "output_type": "stream",
          "name": "stdout",
          "text": [
            "+-------------+\n",
            "|City_Category|\n",
            "+-------------+\n",
            "|            B|\n",
            "|            C|\n",
            "|            A|\n",
            "+-------------+\n",
            "\n"
          ]
        }
      ]
    },
    {
      "cell_type": "markdown",
      "metadata": {
        "id": "pQq2TqJVv99W"
      },
      "source": [
        "### Groupby 집계\n"
      ]
    },
    {
      "cell_type": "code",
      "metadata": {
        "colab": {
          "base_uri": "https://localhost:8080/"
        },
        "id": "NPdZ51Zqv6Q-",
        "outputId": "acb811f3-434e-479b-e691-a5b29167aa1d"
      },
      "source": [
        "from pyspark.sql import functions as F\n",
        "df.groupBy(\"City_Category\").agg(F.sum(\"Purchase\")).show()"
      ],
      "execution_count": 34,
      "outputs": [
        {
          "output_type": "stream",
          "name": "stdout",
          "text": [
            "+-------------+-------------+\n",
            "|City_Category|sum(Purchase)|\n",
            "+-------------+-------------+\n",
            "|            B|     85896015|\n",
            "|            C|     66335351|\n",
            "|            A|     56538339|\n",
            "+-------------+-------------+\n",
            "\n"
          ]
        }
      ]
    },
    {
      "cell_type": "markdown",
      "metadata": {
        "id": "XivhGYj2xYXQ"
      },
      "source": [
        "### Null value 확인 및 처리"
      ]
    },
    {
      "cell_type": "code",
      "metadata": {
        "colab": {
          "base_uri": "https://localhost:8080/"
        },
        "id": "53a2MopNxZBZ",
        "outputId": "90cb89a3-9dcd-4190-daf5-c9051ea7ab16"
      },
      "source": [
        "df.select([F.count(F.when(F.isnull(c), c)).alias(c) for c in df.columns]).show()"
      ],
      "execution_count": 35,
      "outputs": [
        {
          "output_type": "stream",
          "name": "stdout",
          "text": [
            "+-------+----------+------+---+----------+-------------+--------------------------+--------------+------------------+------------------+------------------+--------+\n",
            "|User_ID|Product_ID|Gender|Age|Occupation|City_Category|Stay_In_Current_City_Years|Marital_Status|Product_Category_1|Product_Category_2|Product_Category_3|Purchase|\n",
            "+-------+----------+------+---+----------+-------------+--------------------------+--------------+------------------+------------------+------------------+--------+\n",
            "|      0|         0|     0|  0|         0|            0|                         0|             0|                 0|              7214|             15803|       0|\n",
            "+-------+----------+------+---+----------+-------------+--------------------------+--------------+------------------+------------------+------------------+--------+\n",
            "\n"
          ]
        }
      ]
    },
    {
      "cell_type": "code",
      "metadata": {
        "id": "PMpyfrcaxkO1"
      },
      "source": [
        "df = df.fillna({'Product_Category_2':0, 'Product_Category_3':0})"
      ],
      "execution_count": 36,
      "outputs": []
    },
    {
      "cell_type": "code",
      "metadata": {
        "colab": {
          "base_uri": "https://localhost:8080/"
        },
        "id": "Keo7HZhpxmuG",
        "outputId": "449d3c1a-d096-4de3-a7f5-f78f408f8e41"
      },
      "source": [
        "df.select([F.count(F.when(F.isnull(c), c)).alias(c) for c in df.columns]).show()"
      ],
      "execution_count": 37,
      "outputs": [
        {
          "output_type": "stream",
          "name": "stdout",
          "text": [
            "+-------+----------+------+---+----------+-------------+--------------------------+--------------+------------------+------------------+------------------+--------+\n",
            "|User_ID|Product_ID|Gender|Age|Occupation|City_Category|Stay_In_Current_City_Years|Marital_Status|Product_Category_1|Product_Category_2|Product_Category_3|Purchase|\n",
            "+-------+----------+------+---+----------+-------------+--------------------------+--------------+------------------+------------------+------------------+--------+\n",
            "|      0|         0|     0|  0|         0|            0|                         0|             0|                 0|                 0|                 0|       0|\n",
            "+-------+----------+------+---+----------+-------------+--------------------------+--------------+------------------+------------------+------------------+--------+\n",
            "\n"
          ]
        }
      ]
    },
    {
      "cell_type": "markdown",
      "metadata": {
        "id": "baECVey4xrv8"
      },
      "source": [
        "## 데이터 저장"
      ]
    },
    {
      "cell_type": "code",
      "metadata": {
        "id": "uTISG3d7xsmX"
      },
      "source": [
        "df.write.csv(\"pre_processed_data\")"
      ],
      "execution_count": 38,
      "outputs": []
    },
    {
      "cell_type": "code",
      "metadata": {
        "colab": {
          "base_uri": "https://localhost:8080/"
        },
        "id": "zI9c5KVeyCq1",
        "outputId": "e29e49fd-cf29-4a33-af18-916e27cffc00"
      },
      "source": [
        "df.rdd.getNumPartitions()"
      ],
      "execution_count": 39,
      "outputs": [
        {
          "output_type": "execute_result",
          "data": {
            "text/plain": [
              "1"
            ]
          },
          "metadata": {},
          "execution_count": 39
        }
      ]
    },
    {
      "cell_type": "markdown",
      "metadata": {
        "id": "wD_y2nWqyilM"
      },
      "source": [
        "## Pandas 데이터프레임으로 저장"
      ]
    },
    {
      "cell_type": "code",
      "metadata": {
        "id": "gCFbr3mzyjWY"
      },
      "source": [
        "df_pd = df.toPandas()\n",
        "df_pd.to_csv(\"pandas_pre_processed_data.csv\")"
      ],
      "execution_count": 40,
      "outputs": []
    },
    {
      "cell_type": "code",
      "source": [],
      "metadata": {
        "id": "abZ2tIuu6OYt"
      },
      "execution_count": 40,
      "outputs": []
    }
  ]
}