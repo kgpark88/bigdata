{
  "nbformat": 4,
  "nbformat_minor": 0,
  "metadata": {
    "colab": {
      "name": "python_tutorial .ipynb",
      "provenance": [],
      "collapsed_sections": []
    },
    "kernelspec": {
      "name": "python3",
      "display_name": "Python 3"
    },
    "language_info": {
      "name": "python"
    }
  },
  "cells": [
    {
      "cell_type": "markdown",
      "metadata": {
        "id": "I_cRQkqmEZyK"
      },
      "source": [
        "# Python 3 Tutorial - Learn Python in 30 Minutes  \n",
        "출처 : https://www.programiz.com/python-programming/tutorial"
      ]
    },
    {
      "cell_type": "markdown",
      "metadata": {
        "id": "MEbeKrybE-8-"
      },
      "source": [
        "## \"Hello, World!\" Program"
      ]
    },
    {
      "cell_type": "code",
      "metadata": {
        "colab": {
          "base_uri": "https://localhost:8080/"
        },
        "id": "-5vgqfUHEY_h",
        "outputId": "0aba859e-01f1-40b6-f4ff-43263df57c6a"
      },
      "source": [
        "print(\"Hello, World!\")"
      ],
      "execution_count": 1,
      "outputs": [
        {
          "output_type": "stream",
          "text": [
            "Hello, World!\n"
          ],
          "name": "stdout"
        }
      ]
    },
    {
      "cell_type": "markdown",
      "metadata": {
        "id": "Mf2yVrURFL6F"
      },
      "source": [
        "## Variables and Literals\n",
        "- A variable is a named location used to store data in the memory. Here's an example:  \n",
        "- We do not need to define variable type in Python. You can do something like this:"
      ]
    },
    {
      "cell_type": "code",
      "metadata": {
        "colab": {
          "base_uri": "https://localhost:8080/"
        },
        "id": "8QQ81nFhES0t",
        "outputId": "55930d70-abe3-4b78-af43-08f454d947bc"
      },
      "source": [
        "a = 5\n",
        "print(\"a =\", 5)\n",
        "a = \"High five\"\n",
        "print(\"a =\", a)"
      ],
      "execution_count": 2,
      "outputs": [
        {
          "output_type": "stream",
          "text": [
            "a = 5\n",
            "a = High five\n"
          ],
          "name": "stdout"
        }
      ]
    },
    {
      "cell_type": "markdown",
      "metadata": {
        "id": "ZuBxjhgtFksh"
      },
      "source": [
        "## Operators"
      ]
    },
    {
      "cell_type": "code",
      "metadata": {
        "colab": {
          "base_uri": "https://localhost:8080/"
        },
        "id": "ukKnp-olFV3W",
        "outputId": "48765867-b416-4738-d2ed-3df17ded8478"
      },
      "source": [
        "x = 14\n",
        "y = 4\n",
        "\n",
        "# Add two operands\n",
        "print('x + y =', x+y) # Output: x + y = 18\n",
        "\n",
        "# Subtract right operand from the left\n",
        "print('x - y =', x-y) # Output: x - y = 10\n",
        "\n",
        "# Multiply two operands\n",
        "print('x * y =', x*y) # Output: x * y = 56\n",
        "\n",
        "# Divide left operand by the right one \n",
        "print('x / y =', x/y) # Output: x / y = 3.5\n",
        "\n",
        "# Floor division (quotient)\n",
        "print('x // y =', x//y) # Output: x // y = 3\n",
        "\n",
        "# Remainder of the division of left operand by the right\n",
        "print('x % y =', x%y) # Output: x % y = 2\n",
        "\n",
        "# Left operand raised to the power of right (x^y)\n",
        "print('x ** y =', x**y) # Output: x ** y = 38416"
      ],
      "execution_count": 5,
      "outputs": [
        {
          "output_type": "stream",
          "text": [
            "x + y = 18\n",
            "x - y = 10\n",
            "x * y = 56\n",
            "x / y = 3.5\n",
            "x // y = 3\n",
            "x % y = 2\n",
            "x ** y = 38416\n"
          ],
          "name": "stdout"
        }
      ]
    },
    {
      "cell_type": "markdown",
      "metadata": {
        "id": "QFBTgPrkF9pD"
      },
      "source": [
        "## Get Input from User"
      ]
    },
    {
      "cell_type": "code",
      "metadata": {
        "colab": {
          "base_uri": "https://localhost:8080/"
        },
        "id": "K1pGj0q4FpeE",
        "outputId": "63f89878-79b1-44c2-ec6c-d8af99eed8aa"
      },
      "source": [
        "inputString = input('Enter a sentence:')\n",
        "print('The inputted string is:', inputString)"
      ],
      "execution_count": 7,
      "outputs": [
        {
          "output_type": "stream",
          "text": [
            "Enter a sentence:Hello there\n",
            "The inputted string is: Hello there\n"
          ],
          "name": "stdout"
        }
      ]
    },
    {
      "cell_type": "markdown",
      "metadata": {
        "id": "UC46y7PRGE_E"
      },
      "source": [
        "## Python Comments"
      ]
    },
    {
      "cell_type": "code",
      "metadata": {
        "id": "-pQcFlObF_l0"
      },
      "source": [
        "# This is a comment"
      ],
      "execution_count": 8,
      "outputs": []
    },
    {
      "cell_type": "code",
      "metadata": {
        "colab": {
          "base_uri": "https://localhost:8080/",
          "height": 35
        },
        "id": "OZJ5nqH7GGpN",
        "outputId": "00cd2c68-3986-4418-ec8a-d343b3b614e8"
      },
      "source": [
        "  \"\"\"This is a \n",
        "    multiline\n",
        "    comment.\"\"\""
      ],
      "execution_count": 9,
      "outputs": [
        {
          "output_type": "execute_result",
          "data": {
            "application/vnd.google.colaboratory.intrinsic+json": {
              "type": "string"
            },
            "text/plain": [
              "'This is a \\n  multiline\\n  comment.'"
            ]
          },
          "metadata": {
            "tags": []
          },
          "execution_count": 9
        }
      ]
    },
    {
      "cell_type": "code",
      "metadata": {
        "colab": {
          "base_uri": "https://localhost:8080/",
          "height": 35
        },
        "id": "MCOzRdXIGIJM",
        "outputId": "efe3d4db-7673-48ce-e494-7c3ee83b95ca"
      },
      "source": [
        "  '''This is also a\n",
        "     multiline\n",
        "     comment.'''"
      ],
      "execution_count": 10,
      "outputs": [
        {
          "output_type": "execute_result",
          "data": {
            "application/vnd.google.colaboratory.intrinsic+json": {
              "type": "string"
            },
            "text/plain": [
              "'This is also a\\n   multiline\\n   comment.'"
            ]
          },
          "metadata": {
            "tags": []
          },
          "execution_count": 10
        }
      ]
    },
    {
      "cell_type": "markdown",
      "metadata": {
        "id": "u9nKvPihGKrG"
      },
      "source": [
        "## Type Conversion\n",
        "### Implicit Type Conversion"
      ]
    },
    {
      "cell_type": "code",
      "metadata": {
        "colab": {
          "base_uri": "https://localhost:8080/"
        },
        "id": "VUIYYWOwGJKN",
        "outputId": "1005d95f-e8f4-41a0-ede0-9b23cbef80a1"
      },
      "source": [
        "num_int = 123  # integer type\n",
        "num_flo = 1.23 # float type\n",
        "\n",
        "num_new = num_int + num_flo\n",
        "\n",
        "print(\"Value of num_new:\",num_new)\n",
        "print(\"datatype of num_new:\",type(num_new))"
      ],
      "execution_count": 11,
      "outputs": [
        {
          "output_type": "stream",
          "text": [
            "Value of num_new: 124.23\n",
            "datatype of num_new: <class 'float'>\n"
          ],
          "name": "stdout"
        }
      ]
    },
    {
      "cell_type": "code",
      "metadata": {
        "colab": {
          "base_uri": "https://localhost:8080/",
          "height": 208
        },
        "id": "qFdtxK9QGSBo",
        "outputId": "456e1d9a-5043-47c1-a3ad-381f91f08cd7"
      },
      "source": [
        "num_int = 123     # int type\n",
        "num_str = \"456\"   # str type\n",
        "\n",
        "print(num_int+num_str)"
      ],
      "execution_count": 12,
      "outputs": [
        {
          "output_type": "error",
          "ename": "TypeError",
          "evalue": "ignored",
          "traceback": [
            "\u001b[0;31m---------------------------------------------------------------------------\u001b[0m",
            "\u001b[0;31mTypeError\u001b[0m                                 Traceback (most recent call last)",
            "\u001b[0;32m<ipython-input-12-3cacd04777e1>\u001b[0m in \u001b[0;36m<module>\u001b[0;34m()\u001b[0m\n\u001b[1;32m      2\u001b[0m \u001b[0mnum_str\u001b[0m \u001b[0;34m=\u001b[0m \u001b[0;34m\"456\"\u001b[0m   \u001b[0;31m# str type\u001b[0m\u001b[0;34m\u001b[0m\u001b[0;34m\u001b[0m\u001b[0m\n\u001b[1;32m      3\u001b[0m \u001b[0;34m\u001b[0m\u001b[0m\n\u001b[0;32m----> 4\u001b[0;31m \u001b[0mprint\u001b[0m\u001b[0;34m(\u001b[0m\u001b[0mnum_int\u001b[0m\u001b[0;34m+\u001b[0m\u001b[0mnum_str\u001b[0m\u001b[0;34m)\u001b[0m\u001b[0;34m\u001b[0m\u001b[0;34m\u001b[0m\u001b[0m\n\u001b[0m",
            "\u001b[0;31mTypeError\u001b[0m: unsupported operand type(s) for +: 'int' and 'str'"
          ]
        }
      ]
    },
    {
      "cell_type": "markdown",
      "metadata": {
        "id": "Xs7sYz5lGbOo"
      },
      "source": [
        "## Explicit Conversion"
      ]
    },
    {
      "cell_type": "code",
      "metadata": {
        "colab": {
          "base_uri": "https://localhost:8080/"
        },
        "id": "FZR1JyJNGayK",
        "outputId": "dd8e6165-b6cf-4ed6-adff-ba67f5f8dc9d"
      },
      "source": [
        "num_int = 123  # int type\n",
        "num_str = \"456\" # str type\n",
        "\n",
        "# explicitly converted to int type\n",
        "num_str = int(num_str) \n",
        "\n",
        "print(num_int+num_str)"
      ],
      "execution_count": 13,
      "outputs": [
        {
          "output_type": "stream",
          "text": [
            "579\n"
          ],
          "name": "stdout"
        }
      ]
    },
    {
      "cell_type": "markdown",
      "metadata": {
        "id": "DUkx8rpAGigH"
      },
      "source": [
        "## Python Numeric Types"
      ]
    },
    {
      "cell_type": "code",
      "metadata": {
        "colab": {
          "base_uri": "https://localhost:8080/"
        },
        "id": "PDZ_c2sTGX1l",
        "outputId": "a79c7f8b-6ace-4a10-fa7c-0d887027eda9"
      },
      "source": [
        "# Output: <class 'int'>\n",
        "print(type(5))\n",
        "\n",
        "# Output: <class 'float'>\n",
        "print(type(5.0))\n",
        "\n",
        "c = 5 + 3j\n",
        "\n",
        "# Output: <class 'complex'>\n",
        "print(type(c))"
      ],
      "execution_count": 14,
      "outputs": [
        {
          "output_type": "stream",
          "text": [
            "<class 'int'>\n",
            "<class 'float'>\n",
            "<class 'complex'>\n"
          ],
          "name": "stdout"
        }
      ]
    },
    {
      "cell_type": "markdown",
      "metadata": {
        "id": "Q-eFh1JVGrHg"
      },
      "source": [
        "# Python Data Structures"
      ]
    },
    {
      "cell_type": "markdown",
      "metadata": {
        "id": "vMaVOGvrGxgI"
      },
      "source": [
        "## Lists\n",
        "- A list is created by placing all the items (elements) inside a square bracket [] separated by commas.\n",
        "- It can have any number of items and they may be of different types (integer, float, string etc.)"
      ]
    },
    {
      "cell_type": "code",
      "metadata": {
        "id": "MNd_lDFPGqVq"
      },
      "source": [
        "# empty list\n",
        "my_list = []\n",
        "\n",
        "# list of integers\n",
        "my_list = [1, 2, 3]\n",
        "\n",
        "# list with mixed data types\n",
        "my_list = [1, \"Hello\", 3.4]"
      ],
      "execution_count": 15,
      "outputs": []
    },
    {
      "cell_type": "markdown",
      "metadata": {
        "id": "0ShZH6jgHAJ6"
      },
      "source": [
        "- You use the index operator [] to access an item in a list. \n",
        "- Index starts from 0.   \n",
        "- So, a list having 10 elements will have index from 0 to 9."
      ]
    },
    {
      "cell_type": "code",
      "metadata": {
        "colab": {
          "base_uri": "https://localhost:8080/"
        },
        "id": "F3loIsNVGmX0",
        "outputId": "0837f3cd-216d-4579-df00-137f2f0e4f1d"
      },
      "source": [
        "language = [\"French\", \"German\", \"English\", \"Polish\"]\n",
        "\n",
        "# Accessing first element\n",
        "print(language[0])\n",
        "\n",
        "\n",
        "# Accessing fourth element\n",
        "print(language[3])"
      ],
      "execution_count": 16,
      "outputs": [
        {
          "output_type": "stream",
          "text": [
            "French\n",
            "Polish\n"
          ],
          "name": "stdout"
        }
      ]
    },
    {
      "cell_type": "markdown",
      "metadata": {
        "id": "DOu_GOOBHTBt"
      },
      "source": [
        "## Tuples\n",
        "- Tuple is similar to a list except you cannot change elements of a tuple once it is defined. Whereas in a list, items can be modified.\n",
        "\n",
        "- Basically, list is mutable whereas tuple is immutable."
      ]
    },
    {
      "cell_type": "code",
      "metadata": {
        "colab": {
          "base_uri": "https://localhost:8080/"
        },
        "id": "rAVAG1NWG9f4",
        "outputId": "2c9beaed-af44-4e51-be2a-21f96a61da0e"
      },
      "source": [
        "language = (\"French\", \"German\", \"English\", \"Polish\")\n",
        "print(language)"
      ],
      "execution_count": 17,
      "outputs": [
        {
          "output_type": "stream",
          "text": [
            "('French', 'German', 'English', 'Polish')\n"
          ],
          "name": "stdout"
        }
      ]
    },
    {
      "cell_type": "code",
      "metadata": {
        "colab": {
          "base_uri": "https://localhost:8080/"
        },
        "id": "Q0VUfIiOHaag",
        "outputId": "bcf98bb6-713e-4e28-e426-91028be54706"
      },
      "source": [
        "language = (\"French\", \"German\", \"English\", \"Polish\")\n",
        "\n",
        "print(language[1]) #Output: German\n",
        "print(language[3]) #Output: Polish\n",
        "print(language[-1]) # Output: Polish"
      ],
      "execution_count": 18,
      "outputs": [
        {
          "output_type": "stream",
          "text": [
            "German\n",
            "Polish\n",
            "Polish\n"
          ],
          "name": "stdout"
        }
      ]
    },
    {
      "cell_type": "markdown",
      "metadata": {
        "id": "wstUZn8sHiv-"
      },
      "source": [
        "You cannot delete elements of a tuple, however, you can entirely delete a tuple itself using del operator."
      ]
    },
    {
      "cell_type": "code",
      "metadata": {
        "colab": {
          "base_uri": "https://localhost:8080/",
          "height": 208
        },
        "id": "HT4YnuHVHb2o",
        "outputId": "74d3a284-6b63-4a90-b819-555ff9055754"
      },
      "source": [
        "language = (\"French\", \"German\", \"English\", \"Polish\")\n",
        "del language\n",
        "\n",
        "# NameError: name 'language' is not defined\n",
        "print(language)"
      ],
      "execution_count": 19,
      "outputs": [
        {
          "output_type": "error",
          "ename": "NameError",
          "evalue": "ignored",
          "traceback": [
            "\u001b[0;31m---------------------------------------------------------------------------\u001b[0m",
            "\u001b[0;31mNameError\u001b[0m                                 Traceback (most recent call last)",
            "\u001b[0;32m<ipython-input-19-80805fc0af21>\u001b[0m in \u001b[0;36m<module>\u001b[0;34m()\u001b[0m\n\u001b[1;32m      3\u001b[0m \u001b[0;34m\u001b[0m\u001b[0m\n\u001b[1;32m      4\u001b[0m \u001b[0;31m# NameError: name 'language' is not defined\u001b[0m\u001b[0;34m\u001b[0m\u001b[0;34m\u001b[0m\u001b[0;34m\u001b[0m\u001b[0m\n\u001b[0;32m----> 5\u001b[0;31m \u001b[0mprint\u001b[0m\u001b[0;34m(\u001b[0m\u001b[0mlanguage\u001b[0m\u001b[0;34m)\u001b[0m\u001b[0;34m\u001b[0m\u001b[0;34m\u001b[0m\u001b[0m\n\u001b[0m",
            "\u001b[0;31mNameError\u001b[0m: name 'language' is not defined"
          ]
        }
      ]
    },
    {
      "cell_type": "markdown",
      "metadata": {
        "id": "_On87AYnHlla"
      },
      "source": [
        "## String\n",
        "A string is a sequence of characters. Here are different ways to create a string."
      ]
    },
    {
      "cell_type": "code",
      "metadata": {
        "colab": {
          "base_uri": "https://localhost:8080/"
        },
        "id": "8aRim-bIHfD6",
        "outputId": "c33e7450-efee-42e9-ba43-c3f804da1e81"
      },
      "source": [
        "# all of the following are equivalent\n",
        "my_string = 'Hello'\n",
        "print(my_string)\n",
        "\n",
        "my_string = \"Hello\"\n",
        "print(my_string)\n",
        "\n",
        "my_string = '''Hello'''\n",
        "print(my_string)\n",
        "\n",
        "# triple quotes string can extend multiple lines\n",
        "my_string = \"\"\"Hello, welcome to\n",
        "           the world of Python\"\"\"\n",
        "print(my_string)"
      ],
      "execution_count": 20,
      "outputs": [
        {
          "output_type": "stream",
          "text": [
            "Hello\n",
            "Hello\n",
            "Hello\n",
            "Hello, welcome to\n",
            "           the world of Python\n"
          ],
          "name": "stdout"
        }
      ]
    },
    {
      "cell_type": "markdown",
      "metadata": {
        "id": "xUSrR7pdHvon"
      },
      "source": [
        "You can access individual characters of a string using indexing (in a similar manner like lists and tuples)."
      ]
    },
    {
      "cell_type": "code",
      "metadata": {
        "colab": {
          "base_uri": "https://localhost:8080/"
        },
        "id": "ZSDPvNv-Hs3u",
        "outputId": "8993d4c5-d0e1-41cf-84c8-20629f07edcd"
      },
      "source": [
        "str = 'programiz'\n",
        "print('str = ', str)\n",
        "\n",
        "print('str[0] = ', str[0]) # Output: p\n",
        "\n",
        "print('str[-1] = ', str[-1]) # Output: z\n",
        "\n",
        "#slicing 2nd to 5th character\n",
        "print('str[1:5] = ', str[1:5]) # Output: rogr\n",
        "\n",
        "#slicing 6th to 2nd last character\n",
        "print('str[5:-2] = ', str[5:-2]) # Output: am"
      ],
      "execution_count": 21,
      "outputs": [
        {
          "output_type": "stream",
          "text": [
            "str =  programiz\n",
            "str[0] =  p\n",
            "str[-1] =  z\n",
            "str[1:5] =  rogr\n",
            "str[5:-2] =  am\n"
          ],
          "name": "stdout"
        }
      ]
    },
    {
      "cell_type": "markdown",
      "metadata": {
        "id": "tuwPYrzUH7IH"
      },
      "source": [
        "- Concatenation is probably the most common string operation. To concatenate strings, you use + operator. \n",
        "- Similarly, the * operator can be used to repeat the string for a given number of times."
      ]
    },
    {
      "cell_type": "code",
      "metadata": {
        "colab": {
          "base_uri": "https://localhost:8080/"
        },
        "id": "-3bDB8-wHxME",
        "outputId": "b33e9e8a-5319-41b9-c3a7-b7f397028fb0"
      },
      "source": [
        "str1 = 'Hello '\n",
        "str2 ='World!'\n",
        "\n",
        "# Output: Hello World!\n",
        "print(str1 + str2)\n",
        "\n",
        "# Hello Hello Hello\n",
        "print(str1 * 3)"
      ],
      "execution_count": 22,
      "outputs": [
        {
          "output_type": "stream",
          "text": [
            "Hello World!\n",
            "Hello Hello Hello \n"
          ],
          "name": "stdout"
        }
      ]
    },
    {
      "cell_type": "markdown",
      "metadata": {
        "id": "fNFRlHoZIAbB"
      },
      "source": [
        "## Sets\n",
        "A set is an unordered collection of items where every element is unique (no duplicates)."
      ]
    },
    {
      "cell_type": "code",
      "metadata": {
        "colab": {
          "base_uri": "https://localhost:8080/"
        },
        "id": "7MiTdv3AH-IA",
        "outputId": "65fd1442-d951-40c1-a362-a83ba716d594"
      },
      "source": [
        "# set of integers\n",
        "my_set = {1, 2, 3}\n",
        "print(my_set)\n",
        "\n",
        "# set of mixed datatypes\n",
        "my_set = {1.0, \"Hello\", (1, 2, 3)}\n",
        "print(my_set)"
      ],
      "execution_count": 23,
      "outputs": [
        {
          "output_type": "stream",
          "text": [
            "{1, 2, 3}\n",
            "{1.0, 'Hello', (1, 2, 3)}\n"
          ],
          "name": "stdout"
        }
      ]
    },
    {
      "cell_type": "markdown",
      "metadata": {
        "id": "DFNh-S9IIRhG"
      },
      "source": [
        "Sets are mutable. You can add, remove and delete elements of a set."
      ]
    },
    {
      "cell_type": "code",
      "metadata": {
        "colab": {
          "base_uri": "https://localhost:8080/"
        },
        "id": "jJPRYpnjIGKV",
        "outputId": "6a55efbb-061b-4dc0-e059-cde5d0764e83"
      },
      "source": [
        "|# set of integers\n",
        "my_set = {1, 2, 3}\n",
        "\n",
        "my_set.add(4)\n",
        "print(my_set) # Output: {1, 2, 3, 4}\n",
        "\n",
        "my_set.add(2)\n",
        "print(my_set) # Output: {1, 2, 3, 4}\n",
        "\n",
        "my_set.update([3, 4, 5])\n",
        "print(my_set) # Output: {1, 2, 3, 4, 5}\n",
        "\n",
        "my_set.remove(4)\n",
        "print(my_set) # Output: {1, 2, 3, 5}"
      ],
      "execution_count": 24,
      "outputs": [
        {
          "output_type": "stream",
          "text": [
            "{1, 2, 3, 4}\n",
            "{1, 2, 3, 4}\n",
            "{1, 2, 3, 4, 5}\n",
            "{1, 2, 3, 5}\n"
          ],
          "name": "stdout"
        }
      ]
    },
    {
      "cell_type": "code",
      "metadata": {
        "colab": {
          "base_uri": "https://localhost:8080/"
        },
        "id": "0OlpbsEIIMbd",
        "outputId": "240ffd88-8e7b-4dbc-f2d1-1d624e5f54d2"
      },
      "source": [
        "A = {1, 2, 3}\n",
        "B = {2, 3, 4, 5}\n",
        "\n",
        "# Equivalent to A.union(B) \n",
        "# Also equivalent to B.union(A)\n",
        "print(A | B) # Output: {1, 2, 3, 4, 5}\n",
        "\n",
        "# Equivalent to A.intersection(B)\n",
        "# Also equivalent to B.intersection(A)\n",
        "print (A & B) # Output: {2, 3}\n",
        "\n",
        "# Set Difference\n",
        "print (A - B) # Output: {1}\n",
        "\n",
        "# Set Symmetric Difference\n",
        "print(A ^ B)  # Output: {1, 4,"
      ],
      "execution_count": 25,
      "outputs": [
        {
          "output_type": "stream",
          "text": [
            "{1, 2, 3, 4, 5}\n",
            "{2, 3}\n",
            "{1}\n",
            "{1, 4, 5}\n"
          ],
          "name": "stdout"
        }
      ]
    },
    {
      "cell_type": "markdown",
      "metadata": {
        "id": "Etqc2ZJsIXI6"
      },
      "source": [
        "## Dictionaries\n",
        "- Dictionary is an unordered collection of items. \n",
        "- While other compound data types have only value as an element, a dictionary has a key: value pair. For example:"
      ]
    },
    {
      "cell_type": "code",
      "metadata": {
        "id": "2_msrA9KIVFi"
      },
      "source": [
        "# empty dictionary\n",
        "my_dict = {}\n",
        "\n",
        "# dictionary with integer keys\n",
        "my_dict = {1: 'apple', 2: 'ball'}\n",
        "\n",
        "# dictionary with mixed keys\n",
        "my_dict = {'name': 'John', 1: [2, 4, 3]}"
      ],
      "execution_count": 26,
      "outputs": []
    },
    {
      "cell_type": "markdown",
      "metadata": {
        "id": "keSwLwMoIhXH"
      },
      "source": [
        "- You can also use dict() function to create dictionaries.\n",
        "\n",
        "- To access value from a dictionary, you use key. For example:"
      ]
    },
    {
      "cell_type": "code",
      "metadata": {
        "colab": {
          "base_uri": "https://localhost:8080/"
        },
        "id": "tiF7OcsEIZb9",
        "outputId": "5c8e0fa9-9694-4665-a2a2-fee14f58c2b4"
      },
      "source": [
        "person = {'name':'Jack', 'age': 26, 'salary': 4534.2}\n",
        "print(person['age']) # Output: 26"
      ],
      "execution_count": 27,
      "outputs": [
        {
          "output_type": "stream",
          "text": [
            "26\n"
          ],
          "name": "stdout"
        }
      ]
    },
    {
      "cell_type": "markdown",
      "metadata": {
        "id": "t1ns7rHkIvZQ"
      },
      "source": [
        "## Python range()\n",
        "range() returns an immutable sequence of numbers between the given start integer to the stop integer."
      ]
    },
    {
      "cell_type": "code",
      "metadata": {
        "colab": {
          "base_uri": "https://localhost:8080/"
        },
        "id": "4iZK3uq-IcIO",
        "outputId": "16eafa47-2236-465c-dec5-7b88665fb336"
      },
      "source": [
        "print(range(1, 10)) # Output: range(1, 10)"
      ],
      "execution_count": 28,
      "outputs": [
        {
          "output_type": "stream",
          "text": [
            "range(1, 10)\n"
          ],
          "name": "stdout"
        }
      ]
    },
    {
      "cell_type": "code",
      "metadata": {
        "colab": {
          "base_uri": "https://localhost:8080/"
        },
        "id": "GuCRyhTgIzFw",
        "outputId": "ac207a70-00bf-4d21-b494-e073d0db8b1e"
      },
      "source": [
        "numbers = range(1, 6)\n",
        "\n",
        "print(list(numbers)) # Output: [1, 2, 3, 4, 5]\n",
        "print(tuple(numbers)) # Output: (1, 2, 3, 4, 5)\n",
        "print(set(numbers)) # Output: {1, 2, 3, 4, 5}\n",
        "\n",
        "# Output: {1: 99, 2: 99, 3: 99, 4: 99, 5: 99} \n",
        "print(dict.fromkeys(numbers, 99))"
      ],
      "execution_count": 29,
      "outputs": [
        {
          "output_type": "stream",
          "text": [
            "[1, 2, 3, 4, 5]\n",
            "(1, 2, 3, 4, 5)\n",
            "{1, 2, 3, 4, 5}\n",
            "{1: 99, 2: 99, 3: 99, 4: 99, 5: 99}\n"
          ],
          "name": "stdout"
        }
      ]
    },
    {
      "cell_type": "markdown",
      "metadata": {
        "id": "Mvgu6RIjJCjf"
      },
      "source": [
        "Let's try few examples with step parameter."
      ]
    },
    {
      "cell_type": "code",
      "metadata": {
        "colab": {
          "base_uri": "https://localhost:8080/"
        },
        "id": "PlAsKNJQI5dN",
        "outputId": "36de7f87-fe77-4018-f368-71f7747e3ee2"
      },
      "source": [
        "# Equivalent to: numbers = range(1, 6)\n",
        "numbers1 = range(1, 6 , 1)\n",
        "print(list(numbers1)) # Output: [1, 2, 3, 4, 5]\n",
        "\n",
        "numbers2 = range(1, 6, 2)\n",
        "print(list(numbers2)) # Output: [1, 3, 5]\n",
        "\n",
        "numbers3 = range(5, 0, -1)\n",
        "print(list(numbers3)) # Output: [5, 4, "
      ],
      "execution_count": 30,
      "outputs": [
        {
          "output_type": "stream",
          "text": [
            "[1, 2, 3, 4, 5]\n",
            "[1, 3, 5]\n",
            "[5, 4, 3, 2, 1]\n"
          ],
          "name": "stdout"
        }
      ]
    },
    {
      "cell_type": "markdown",
      "metadata": {
        "id": "ZjxQ0jppJHVw"
      },
      "source": [
        "# Python Control Flow"
      ]
    },
    {
      "cell_type": "markdown",
      "metadata": {
        "id": "Pfbf6b5LJKAZ"
      },
      "source": [
        "## if...else Statement"
      ]
    },
    {
      "cell_type": "code",
      "metadata": {
        "colab": {
          "base_uri": "https://localhost:8080/"
        },
        "id": "vdk89XThJJpj",
        "outputId": "dc282296-bebb-4ead-bebc-9fdbf8eb0d19"
      },
      "source": [
        "num = -1\n",
        "\n",
        "if num > 0:\n",
        "    print(\"Positive number\")\n",
        "elif num == 0:\n",
        "    print(\"Zero\")\n",
        "else:\n",
        "    print(\"Negative number\")\n",
        "    \n",
        "# Output: Negative number"
      ],
      "execution_count": 32,
      "outputs": [
        {
          "output_type": "stream",
          "text": [
            "Negative number\n"
          ],
          "name": "stdout"
        }
      ]
    },
    {
      "cell_type": "markdown",
      "metadata": {
        "id": "vO-Yy2_vJZL8"
      },
      "source": [
        "## while Loop"
      ]
    },
    {
      "cell_type": "code",
      "metadata": {
        "colab": {
          "base_uri": "https://localhost:8080/"
        },
        "id": "M7zLE6bIJGL_",
        "outputId": "88ab7254-2046-434b-cc15-130dde2dc858"
      },
      "source": [
        "n = 100\n",
        "\n",
        "# initialize sum and counter\n",
        "sum = 0\n",
        "i = 1\n",
        "\n",
        "while i <= n:\n",
        "    sum = sum + i\n",
        "    i = i+1    # update counter\n",
        "\n",
        "print(\"The sum is\", sum)\n",
        "\n",
        "# Output: The sum is 5050"
      ],
      "execution_count": 33,
      "outputs": [
        {
          "output_type": "stream",
          "text": [
            "The sum is 5050\n"
          ],
          "name": "stdout"
        }
      ]
    },
    {
      "cell_type": "markdown",
      "metadata": {
        "id": "Ez_tC4LeJgfv"
      },
      "source": [
        "## for Loop"
      ]
    },
    {
      "cell_type": "code",
      "metadata": {
        "colab": {
          "base_uri": "https://localhost:8080/"
        },
        "id": "2f-gExhmJEBR",
        "outputId": "c2ca9181-ad51-4480-db68-c2f24cf2b263"
      },
      "source": [
        "numbers = [6, 5, 3, 8, 4, 2]\n",
        "\n",
        "sum = 0\n",
        "\n",
        "# iterate over the list\n",
        "for val in numbers:\n",
        "  sum = sum+val\n",
        "\n",
        "print(\"The sum is\", sum) # Output: The sum is 28"
      ],
      "execution_count": 34,
      "outputs": [
        {
          "output_type": "stream",
          "text": [
            "The sum is 28\n"
          ],
          "name": "stdout"
        }
      ]
    },
    {
      "cell_type": "markdown",
      "metadata": {
        "id": "EtYooVpWJkjw"
      },
      "source": [
        "## break Statement"
      ]
    },
    {
      "cell_type": "code",
      "metadata": {
        "colab": {
          "base_uri": "https://localhost:8080/"
        },
        "id": "Yii3fQEGJivN",
        "outputId": "39a31ad2-8851-45b1-def0-79319b609079"
      },
      "source": [
        "for val in \"string\":\n",
        "    if val == \"r\":\n",
        "        break\n",
        "    print(val)\n",
        "\n",
        "print(\"The end\")"
      ],
      "execution_count": 35,
      "outputs": [
        {
          "output_type": "stream",
          "text": [
            "s\n",
            "t\n",
            "The end\n"
          ],
          "name": "stdout"
        }
      ]
    },
    {
      "cell_type": "markdown",
      "metadata": {
        "id": "mpBlLmzwJws1"
      },
      "source": [
        "## continue Statement"
      ]
    },
    {
      "cell_type": "code",
      "metadata": {
        "colab": {
          "base_uri": "https://localhost:8080/"
        },
        "id": "JC30BIMkJoDJ",
        "outputId": "c81d6728-41db-4453-891c-85a8d30b711f"
      },
      "source": [
        "for val in \"string\":\n",
        "    if val == \"r\":\n",
        "        continue\n",
        "    print(val)\n",
        "\n",
        "print(\"The end\")"
      ],
      "execution_count": 36,
      "outputs": [
        {
          "output_type": "stream",
          "text": [
            "s\n",
            "t\n",
            "i\n",
            "n\n",
            "g\n",
            "The end\n"
          ],
          "name": "stdout"
        }
      ]
    },
    {
      "cell_type": "markdown",
      "metadata": {
        "id": "iz7fi7XOJ3SV"
      },
      "source": [
        "## pass Statement"
      ]
    },
    {
      "cell_type": "code",
      "metadata": {
        "id": "EQW_E8cDJyjt"
      },
      "source": [
        "sequence = {'p', 'a', 's', 's'}\n",
        "for val in sequence:\n",
        "    pass"
      ],
      "execution_count": 37,
      "outputs": []
    },
    {
      "cell_type": "markdown",
      "metadata": {
        "id": "4XIjYwKYJ7MV"
      },
      "source": [
        "## Python Function"
      ]
    },
    {
      "cell_type": "code",
      "metadata": {
        "id": "sT6xV64yJ8UF"
      },
      "source": [
        "def print_lines():\n",
        "  print(\"I am line1.\")\n",
        "  print(\"I am line2.\")"
      ],
      "execution_count": 38,
      "outputs": []
    },
    {
      "cell_type": "code",
      "metadata": {
        "colab": {
          "base_uri": "https://localhost:8080/"
        },
        "id": "77n2j9gSKCUk",
        "outputId": "aa73ca7b-5072-4ca7-a9c2-ff7bb9d11e03"
      },
      "source": [
        "# function call\n",
        "print_lines()"
      ],
      "execution_count": 39,
      "outputs": [
        {
          "output_type": "stream",
          "text": [
            "I am line1.\n",
            "I am line2.\n"
          ],
          "name": "stdout"
        }
      ]
    },
    {
      "cell_type": "markdown",
      "metadata": {
        "id": "xA5JlZ97KHk0"
      },
      "source": [
        "### A function can accept arguments."
      ]
    },
    {
      "cell_type": "code",
      "metadata": {
        "colab": {
          "base_uri": "https://localhost:8080/"
        },
        "id": "tK0Bj5LHKF0s",
        "outputId": "34b9775c-f2be-48d0-ef00-4491c4c0aaa3"
      },
      "source": [
        "def add_numbers(a, b):\n",
        "  sum = a + b\n",
        "  print(sum)\n",
        "\n",
        "add_numbers(4, 5)"
      ],
      "execution_count": 40,
      "outputs": [
        {
          "output_type": "stream",
          "text": [
            "9\n"
          ],
          "name": "stdout"
        }
      ]
    },
    {
      "cell_type": "markdown",
      "metadata": {
        "id": "vdy3SUm6KPuZ"
      },
      "source": [
        "### You can also return value from a function using return statement."
      ]
    },
    {
      "cell_type": "code",
      "metadata": {
        "colab": {
          "base_uri": "https://localhost:8080/"
        },
        "id": "ZaJj_35VKPk3",
        "outputId": "d5d9061f-49b0-4179-b041-fb0c2f7a9f77"
      },
      "source": [
        "def add_numbers(a, b):\n",
        "  sum = a + b\n",
        "  return sum\n",
        "\n",
        "result = add_numbers(4, 5)\n",
        "print(result)"
      ],
      "execution_count": 41,
      "outputs": [
        {
          "output_type": "stream",
          "text": [
            "9\n"
          ],
          "name": "stdout"
        }
      ]
    },
    {
      "cell_type": "markdown",
      "metadata": {
        "id": "o8ZJV1IPKcOe"
      },
      "source": [
        "### Recursion (Recursive function)\n",
        "- A function that calls itself is known as recursive function and this process is called recursion.\n",
        "\n",
        "- Every recursive function must have a base condition that stops the recursion or else the function calls itself infinitely."
      ]
    },
    {
      "cell_type": "code",
      "metadata": {
        "id": "yHoMp1jsKPOW"
      },
      "source": [
        "You can also return value from a function using return statement."
      ],
      "execution_count": null,
      "outputs": []
    },
    {
      "cell_type": "code",
      "metadata": {
        "colab": {
          "base_uri": "https://localhost:8080/"
        },
        "id": "Xx9W5fz3KGJX",
        "outputId": "e3b90bd5-8ccc-4c96-9ff5-1c81205e2438"
      },
      "source": [
        "# Recursive function to find the factorial of a number\n",
        "\n",
        "def calc_factorial(x):\n",
        "\n",
        "    if x == 1:\n",
        "        return 1\n",
        "    else:\n",
        "        return (x * calc_factorial(x-1))\n",
        "\n",
        "num = 6\n",
        "print(\"The factorial of\", num, \"is\", calc_factorial(num)) \n"
      ],
      "execution_count": 42,
      "outputs": [
        {
          "output_type": "stream",
          "text": [
            "The factorial of 6 is 720\n"
          ],
          "name": "stdout"
        }
      ]
    },
    {
      "cell_type": "markdown",
      "metadata": {
        "id": "DY36X4tmKtin"
      },
      "source": [
        "## Lambda Function\n",
        "- In Python, you can define functions without a name. \n",
        "- These functions are called lambda or anonymous function. \n",
        "- To create a lambda function, lambda keyword is used."
      ]
    },
    {
      "cell_type": "code",
      "metadata": {
        "colab": {
          "base_uri": "https://localhost:8080/"
        },
        "id": "gxOsHtpbKoWN",
        "outputId": "2d9267d6-c5b9-41e8-c220-c28b7a48b57b"
      },
      "source": [
        "square = lambda x: x ** 2\n",
        "\n",
        "print(square(5))"
      ],
      "execution_count": 44,
      "outputs": [
        {
          "output_type": "stream",
          "text": [
            "25\n"
          ],
          "name": "stdout"
        }
      ]
    },
    {
      "cell_type": "markdown",
      "metadata": {
        "id": "4hd3GJxcK4uJ"
      },
      "source": [
        "# Modules\n",
        "\n",
        "- Modules refer to a file containing Python statements and definitions.\n",
        "\n",
        "- A file containing Python code, for e.g.: example.py, is called a module and its module name would be example.\n",
        "\n",
        "- Let us create it and save it as example.py."
      ]
    },
    {
      "cell_type": "code",
      "metadata": {
        "id": "426zDdcbK2Mf"
      },
      "source": [
        "! echo -e  \"def add(a, b):\\\\n\\\\treturn a + b\" > example.py\n",
        "\n",
        "# def add(a, b):\n",
        "#    return a + b"
      ],
      "execution_count": 59,
      "outputs": []
    },
    {
      "cell_type": "code",
      "metadata": {
        "colab": {
          "base_uri": "https://localhost:8080/"
        },
        "id": "Ra3nJ_hSLePE",
        "outputId": "abb41477-b506-4911-8806-95b71ee79bde"
      },
      "source": [
        "! cat example.py"
      ],
      "execution_count": 60,
      "outputs": [
        {
          "output_type": "stream",
          "text": [
            "def add(a, b):\n",
            "\treturn a + b\n"
          ],
          "name": "stdout"
        }
      ]
    },
    {
      "cell_type": "markdown",
      "metadata": {
        "id": "9YtxuC5dMPhO"
      },
      "source": [
        "To use this module, we use import keyword."
      ]
    },
    {
      "cell_type": "code",
      "metadata": {
        "colab": {
          "base_uri": "https://localhost:8080/"
        },
        "id": "3UJyNnNeLgS2",
        "outputId": "ebbf5dfe-8c84-43e7-c0ba-21c3d16d0059"
      },
      "source": [
        "# importing example module\n",
        "import example \n",
        "\n",
        "# accessing the function inside the module using . operator\n",
        "example.add(4, 5.5) "
      ],
      "execution_count": 61,
      "outputs": [
        {
          "output_type": "execute_result",
          "data": {
            "text/plain": [
              "9.5"
            ]
          },
          "metadata": {
            "tags": []
          },
          "execution_count": 61
        }
      ]
    },
    {
      "cell_type": "markdown",
      "metadata": {
        "id": "1Z3f4IjOMTOX"
      },
      "source": [
        "Python has a ton of standard modules readily available for use. For example:"
      ]
    },
    {
      "cell_type": "code",
      "metadata": {
        "colab": {
          "base_uri": "https://localhost:8080/"
        },
        "id": "yuQT7w-_MTmE",
        "outputId": "0e5ba514-f67a-487d-8429-4fcbc69981a8"
      },
      "source": [
        "import math\n",
        "\n",
        "result = math.log2(5) # return the base-2 logarithm\n",
        "print(result) # Output: 2.321928094887362"
      ],
      "execution_count": 62,
      "outputs": [
        {
          "output_type": "stream",
          "text": [
            "2.321928094887362\n"
          ],
          "name": "stdout"
        }
      ]
    },
    {
      "cell_type": "code",
      "metadata": {
        "colab": {
          "base_uri": "https://localhost:8080/"
        },
        "id": "rSblzeaWMUoK",
        "outputId": "c65ed627-a92f-47d2-96db-7727f8d970c0"
      },
      "source": [
        "from math import pi\n",
        "print(\"The value of pi is\", pi)\n",
        "\n",
        "# Output: The value of pi is 3.141592653589793"
      ],
      "execution_count": 63,
      "outputs": [
        {
          "output_type": "stream",
          "text": [
            "The value of pi is 3.141592653589793\n"
          ],
          "name": "stdout"
        }
      ]
    },
    {
      "cell_type": "markdown",
      "metadata": {
        "id": "Qck9TtVNMZve"
      },
      "source": [
        ""
      ]
    },
    {
      "cell_type": "markdown",
      "metadata": {
        "id": "HRsqSnWPMYmD"
      },
      "source": [
        "# Python File I/O\n",
        "A file operation takes place in the following order.\n",
        "\n",
        "- Open a file\n",
        "- Read or write (perform operation)\n",
        "- Close the file"
      ]
    },
    {
      "cell_type": "code",
      "metadata": {
        "colab": {
          "base_uri": "https://localhost:8080/"
        },
        "id": "2-QrYM1eM0e6",
        "outputId": "bac58854-c186-4ad5-9657-4f345e25438c"
      },
      "source": [
        "! echo -e  \"Hello\\nPython\" > test.txt\n",
        "!ls"
      ],
      "execution_count": 70,
      "outputs": [
        {
          "output_type": "stream",
          "text": [
            "example.py  __pycache__  sample_data  test.txt\ttext.txt\n"
          ],
          "name": "stdout"
        }
      ]
    },
    {
      "cell_type": "markdown",
      "metadata": {
        "id": "-GIdmJvINo8N"
      },
      "source": [
        "### How to open a file?"
      ]
    },
    {
      "cell_type": "code",
      "metadata": {
        "id": "wyPB0hRuMZc0"
      },
      "source": [
        "f = open(\"text.txt\")    # open file in current directory"
      ],
      "execution_count": 71,
      "outputs": []
    },
    {
      "cell_type": "code",
      "metadata": {
        "colab": {
          "base_uri": "https://localhost:8080/",
          "height": 208
        },
        "id": "0hRzKFRQMuJK",
        "outputId": "a148fd4c-b137-4af3-fe38-6e0953bf37d1"
      },
      "source": [
        "f = open(\"test.txt\")      # equivalent to 'r' or 'rt'\n",
        "f = open(\"test.txt\",'w')  # write in text mode\n",
        "# f = open(\"img.bmp\",'r+b') # read and write in binary mode"
      ],
      "execution_count": 72,
      "outputs": [
        {
          "output_type": "error",
          "ename": "FileNotFoundError",
          "evalue": "ignored",
          "traceback": [
            "\u001b[0;31m---------------------------------------------------------------------------\u001b[0m",
            "\u001b[0;31mFileNotFoundError\u001b[0m                         Traceback (most recent call last)",
            "\u001b[0;32m<ipython-input-72-29631e6ac1f0>\u001b[0m in \u001b[0;36m<module>\u001b[0;34m()\u001b[0m\n\u001b[1;32m      1\u001b[0m \u001b[0mf\u001b[0m \u001b[0;34m=\u001b[0m \u001b[0mopen\u001b[0m\u001b[0;34m(\u001b[0m\u001b[0;34m\"test.txt\"\u001b[0m\u001b[0;34m)\u001b[0m      \u001b[0;31m# equivalent to 'r' or 'rt'\u001b[0m\u001b[0;34m\u001b[0m\u001b[0;34m\u001b[0m\u001b[0m\n\u001b[1;32m      2\u001b[0m \u001b[0mf\u001b[0m \u001b[0;34m=\u001b[0m \u001b[0mopen\u001b[0m\u001b[0;34m(\u001b[0m\u001b[0;34m\"test.txt\"\u001b[0m\u001b[0;34m,\u001b[0m\u001b[0;34m'w'\u001b[0m\u001b[0;34m)\u001b[0m  \u001b[0;31m# write in text mode\u001b[0m\u001b[0;34m\u001b[0m\u001b[0;34m\u001b[0m\u001b[0m\n\u001b[0;32m----> 3\u001b[0;31m \u001b[0mf\u001b[0m \u001b[0;34m=\u001b[0m \u001b[0mopen\u001b[0m\u001b[0;34m(\u001b[0m\u001b[0;34m\"img.bmp\"\u001b[0m\u001b[0;34m,\u001b[0m\u001b[0;34m'r+b'\u001b[0m\u001b[0;34m)\u001b[0m \u001b[0;31m# read and write in binary mode\u001b[0m\u001b[0;34m\u001b[0m\u001b[0;34m\u001b[0m\u001b[0m\n\u001b[0m",
            "\u001b[0;31mFileNotFoundError\u001b[0m: [Errno 2] No such file or directory: 'img.bmp'"
          ]
        }
      ]
    },
    {
      "cell_type": "markdown",
      "metadata": {
        "id": "kUhndgtzNR29"
      },
      "source": [
        "### How to close a file?"
      ]
    },
    {
      "cell_type": "code",
      "metadata": {
        "id": "Snaqbv3JM-8c"
      },
      "source": [
        "f = open(\"test.txt\",encoding = 'utf-8')\n",
        "# perform file operations\n",
        "f.close()"
      ],
      "execution_count": 73,
      "outputs": []
    },
    {
      "cell_type": "markdown",
      "metadata": {
        "id": "eXsNsHIRNTOY"
      },
      "source": [
        "### How to write to a file?"
      ]
    },
    {
      "cell_type": "code",
      "metadata": {
        "id": "BUU7hTt-NNJd"
      },
      "source": [
        "with open(\"test.txt\",'w',encoding = 'utf-8') as f:\n",
        "   f.write(\"my first file\\n\")\n",
        "   f.write(\"This file\\n\\n\")\n",
        "   f.write(\"contains three lines\\n\")"
      ],
      "execution_count": 74,
      "outputs": []
    },
    {
      "cell_type": "markdown",
      "metadata": {
        "id": "vlWH1yYMNt8M"
      },
      "source": [
        "# Python Directory\n",
        "- A directory or folder is a collection of files and sub directories. \n",
        "- Python has the os module, which provides many useful methods to work with directories and files."
      ]
    },
    {
      "cell_type": "code",
      "metadata": {
        "colab": {
          "base_uri": "https://localhost:8080/"
        },
        "id": "Rk6iyaqXOAfi",
        "outputId": "1a8c47d1-3401-49a5-df49-9f02203cc360"
      },
      "source": [
        "!ls"
      ],
      "execution_count": 84,
      "outputs": [
        {
          "output_type": "stream",
          "text": [
            "anscombe.json\t\t      mnist_test.csv\t     tasty\n",
            "california_housing_test.csv   mnist_train_small.csv\n",
            "california_housing_train.csv  README.md\n"
          ],
          "name": "stdout"
        }
      ]
    },
    {
      "cell_type": "code",
      "metadata": {
        "colab": {
          "base_uri": "https://localhost:8080/",
          "height": 244
        },
        "id": "E5Di_FNwNuZF",
        "outputId": "c208fb73-590c-4413-8d0e-8f988c62e6d3"
      },
      "source": [
        "import os\n",
        "\n",
        "os.getcwd()  # present working directory\n",
        "os.chdir('sample_data') # Changing current directory to D:\\Hello\n",
        "os.listdir()  # list all sub directories and files in that path\n",
        "os.mkdir('test') # making a new directory test\n",
        "os.rename('test','tasty') # renaming the directory test to tasty\n",
        "os.remove('old.txt')  # deleting old.txt fil#"
      ],
      "execution_count": 85,
      "outputs": [
        {
          "output_type": "error",
          "ename": "FileNotFoundError",
          "evalue": "ignored",
          "traceback": [
            "\u001b[0;31m---------------------------------------------------------------------------\u001b[0m",
            "\u001b[0;31mFileNotFoundError\u001b[0m                         Traceback (most recent call last)",
            "\u001b[0;32m<ipython-input-85-2bbc02572da3>\u001b[0m in \u001b[0;36m<module>\u001b[0;34m()\u001b[0m\n\u001b[1;32m      2\u001b[0m \u001b[0;34m\u001b[0m\u001b[0m\n\u001b[1;32m      3\u001b[0m \u001b[0mos\u001b[0m\u001b[0;34m.\u001b[0m\u001b[0mgetcwd\u001b[0m\u001b[0;34m(\u001b[0m\u001b[0;34m)\u001b[0m  \u001b[0;31m# present working directory\u001b[0m\u001b[0;34m\u001b[0m\u001b[0;34m\u001b[0m\u001b[0m\n\u001b[0;32m----> 4\u001b[0;31m \u001b[0mos\u001b[0m\u001b[0;34m.\u001b[0m\u001b[0mchdir\u001b[0m\u001b[0;34m(\u001b[0m\u001b[0;34m'sample_data'\u001b[0m\u001b[0;34m)\u001b[0m \u001b[0;31m# Changing current directory to D:\\Hello\u001b[0m\u001b[0;34m\u001b[0m\u001b[0;34m\u001b[0m\u001b[0m\n\u001b[0m\u001b[1;32m      5\u001b[0m \u001b[0mos\u001b[0m\u001b[0;34m.\u001b[0m\u001b[0mlistdir\u001b[0m\u001b[0;34m(\u001b[0m\u001b[0;34m)\u001b[0m  \u001b[0;31m# list all sub directories and files in that path\u001b[0m\u001b[0;34m\u001b[0m\u001b[0;34m\u001b[0m\u001b[0m\n\u001b[1;32m      6\u001b[0m \u001b[0mos\u001b[0m\u001b[0;34m.\u001b[0m\u001b[0mmkdir\u001b[0m\u001b[0;34m(\u001b[0m\u001b[0;34m'test'\u001b[0m\u001b[0;34m)\u001b[0m \u001b[0;31m# making a new directory test\u001b[0m\u001b[0;34m\u001b[0m\u001b[0;34m\u001b[0m\u001b[0m\n",
            "\u001b[0;31mFileNotFoundError\u001b[0m: [Errno 2] No such file or directory: 'sample_data'"
          ]
        }
      ]
    },
    {
      "cell_type": "markdown",
      "metadata": {
        "id": "em4nUkQEOdHu"
      },
      "source": [
        "# Python Exception Handling\n",
        "- Errors that occur at runtime are called exceptions. \n",
        "- They occur, for example, when a file we try to open does not exist FileNotFoundError, \n",
        "- dividing a number by zero ZeroDivisionError etc."
      ]
    },
    {
      "cell_type": "code",
      "metadata": {
        "colab": {
          "base_uri": "https://localhost:8080/"
        },
        "id": "cER9xDv6Nzpc",
        "outputId": "a4170366-a620-4278-96e9-8c5f52bc1e0b"
      },
      "source": [
        "# import module sys to get the type of exception\n",
        "import sys\n",
        "\n",
        "randomList = ['a', 0, 2]\n",
        "\n",
        "for entry in randomList:\n",
        "    try:\n",
        "        print(\"The entry is\", entry)\n",
        "        r = 1/int(entry)\n",
        "        break\n",
        "    except:\n",
        "        print(\"Oops!\",sys.exc_info()[0],\"occurred.\")\n",
        "        print(\"Next entry.\")\n",
        "        print()\n",
        "print(\"The reciprocal of\",entry,\"is\",r)"
      ],
      "execution_count": 86,
      "outputs": [
        {
          "output_type": "stream",
          "text": [
            "The entry is a\n",
            "Oops! <class 'ValueError'> occurred.\n",
            "Next entry.\n",
            "\n",
            "The entry is 0\n",
            "Oops! <class 'ZeroDivisionError'> occurred.\n",
            "Next entry.\n",
            "\n",
            "The entry is 2\n",
            "The reciprocal of 2 is 0.5\n"
          ],
          "name": "stdout"
        }
      ]
    },
    {
      "cell_type": "markdown",
      "metadata": {
        "id": "gJV_9eS1PD4a"
      },
      "source": [
        "# Python OOP\n",
        "Everything in Python is an object including integers, floats, functions, classes, and None. "
      ]
    },
    {
      "cell_type": "markdown",
      "metadata": {
        "id": "FnXH-FgIPPFW"
      },
      "source": [
        "## Class and Objects\n",
        "### How to define a class?"
      ]
    },
    {
      "cell_type": "code",
      "metadata": {
        "id": "xrnQ6Q9JPEc5"
      },
      "source": [
        "class MyClass:\n",
        "    a = 10\n",
        "    def func(self):\n",
        "        print('Hello')  "
      ],
      "execution_count": 88,
      "outputs": []
    },
    {
      "cell_type": "markdown",
      "metadata": {
        "id": "iau0otLMPvDh"
      },
      "source": [
        "## Creating Objects"
      ]
    },
    {
      "cell_type": "code",
      "metadata": {
        "colab": {
          "base_uri": "https://localhost:8080/"
        },
        "id": "vo19hQ5XPTry",
        "outputId": "4aef4c20-7e5d-4325-c722-6873a4e98389"
      },
      "source": [
        "obj1 = MyClass()\n",
        "print(obj1.a)        # Output: 10\n",
        " \n",
        "obj2 = MyClass()\n",
        "print(obj1.a + 5)    # Output: 15"
      ],
      "execution_count": 90,
      "outputs": [
        {
          "output_type": "stream",
          "text": [
            "10\n",
            "15\n"
          ],
          "name": "stdout"
        }
      ]
    },
    {
      "cell_type": "markdown",
      "metadata": {
        "id": "2sl7T6FxPx0f"
      },
      "source": [
        "### Python Constructors\n",
        "- In Python, a method with name __init()__ is a constructor. \n",
        "- This method is automatically called when an object is instantiated."
      ]
    },
    {
      "cell_type": "code",
      "metadata": {
        "colab": {
          "base_uri": "https://localhost:8080/"
        },
        "id": "NVt0IC2ePfSS",
        "outputId": "29eff639-93c3-45f4-cb5f-adf7f3862eb2"
      },
      "source": [
        "class ComplexNumber:\n",
        "    def __init__(self,r = 0,i = 0):  # constructor\n",
        "        self.real = r\n",
        "        self.imag = i\n",
        "\n",
        "    def getData(self):\n",
        "        print(\"{0}+{1}j\".format(self.real,self.imag))\n",
        "\n",
        "\n",
        "c1 = ComplexNumber(2,3) # Create a new ComplexNumber object\n",
        "c1.getData() # Output: 2+3j\n",
        "\n",
        "c2 = ComplexNumber() # Create a new ComplexNumber object\n",
        "c2.getData() # Output: 0+0j"
      ],
      "execution_count": 91,
      "outputs": [
        {
          "output_type": "stream",
          "text": [
            "2+3j\n",
            "0+0j\n"
          ],
          "name": "stdout"
        }
      ]
    },
    {
      "cell_type": "markdown",
      "metadata": {
        "id": "_00uFyhMP85g"
      },
      "source": [
        "### Python Inheritance\n",
        "Inheritance refers to defining a new class with little or no modification to an existing class."
      ]
    },
    {
      "cell_type": "code",
      "metadata": {
        "id": "5SXNGHGnP-8U"
      },
      "source": [
        "class Mammal:\n",
        "    def displayMammalFeatures(self):\n",
        "        print('Mammal is a warm-blooded animal.')"
      ],
      "execution_count": 93,
      "outputs": []
    },
    {
      "cell_type": "code",
      "metadata": {
        "id": "Gje47Jy0QACS"
      },
      "source": [
        "class Dog(Mammal):\n",
        "    def displayDogFeatures(self):\n",
        "        print('Dog has 4 legs.')"
      ],
      "execution_count": 94,
      "outputs": []
    },
    {
      "cell_type": "code",
      "metadata": {
        "colab": {
          "base_uri": "https://localhost:8080/"
        },
        "id": "3ijnn90CQJfT",
        "outputId": "9760573a-ae31-4a9a-9999-25c3b1cad435"
      },
      "source": [
        "d = Dog()\n",
        "d.displayDogFeatures()\n",
        "d.displayMammalFeatures()"
      ],
      "execution_count": 95,
      "outputs": [
        {
          "output_type": "stream",
          "text": [
            "Dog has 4 legs.\n",
            "Mammal is a warm-blooded animal.\n"
          ],
          "name": "stdout"
        }
      ]
    },
    {
      "cell_type": "code",
      "metadata": {
        "id": "4McPfR3BQWDs"
      },
      "source": [
        ""
      ],
      "execution_count": null,
      "outputs": []
    }
  ]
}