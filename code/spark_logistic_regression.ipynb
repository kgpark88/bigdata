{
  "nbformat": 4,
  "nbformat_minor": 0,
  "metadata": {
    "anaconda-cloud": {},
    "kernelspec": {
      "display_name": "Python [conda root]",
      "language": "python",
      "name": "conda-root-py"
    },
    "language_info": {
      "codemirror_mode": {
        "name": "ipython",
        "version": 3
      },
      "file_extension": ".py",
      "mimetype": "text/x-python",
      "name": "python",
      "nbconvert_exporter": "python",
      "pygments_lexer": "ipython3",
      "version": "3.5.3"
    },
    "colab": {
      "name": "spark_logistic_regression.ipynb",
      "provenance": []
    }
  },
  "cells": [
    {
      "cell_type": "code",
      "metadata": {
        "colab": {
          "base_uri": "https://localhost:8080/",
          "height": 36
        },
        "id": "dA5WXnHhQBEj",
        "outputId": "d385a534-aafa-4b7c-ef89-9ebc5265d777"
      },
      "source": [
        "!apt-get install openjdk-8-jdk-headless -qq > /dev/null\n",
        "!wget -q https://downloads.apache.org/spark/spark-3.1.2/spark-3.1.2-bin-hadoop2.7.tgz \n",
        "!tar xf spark-3.1.2-bin-hadoop2.7.tgz\n",
        "!pip install -q findspark\n",
        "\n",
        "import os\n",
        "import findspark\n",
        "\n",
        "os.environ[\"JAVA_HOME\"] = \"/usr/lib/jvm/java-8-openjdk-amd64\"\n",
        "os.environ[\"SPARK_HOME\"] = \"/content/spark-3.1.2-bin-hadoop2.7\"\n",
        "\n",
        "findspark.init()\n",
        "findspark.find()"
      ],
      "execution_count": 2,
      "outputs": [
        {
          "output_type": "execute_result",
          "data": {
            "application/vnd.google.colaboratory.intrinsic+json": {
              "type": "string"
            },
            "text/plain": [
              "'/content/spark-3.1.2-bin-hadoop2.7'"
            ]
          },
          "metadata": {
            "tags": []
          },
          "execution_count": 2
        }
      ]
    },
    {
      "cell_type": "markdown",
      "metadata": {
        "id": "G0D1HesgP6L9"
      },
      "source": [
        "# Logistic Regression\n",
        "\n",
        "- 참고 : https://spark.apache.org/docs/latest/ml-classification-regression.html"
      ]
    },
    {
      "cell_type": "code",
      "metadata": {
        "collapsed": true,
        "id": "fyBUXv2xP6MA"
      },
      "source": [
        "from pyspark.sql import SparkSession\n",
        "spark = SparkSession.builder.appName('mylogreg').getOrCreate()"
      ],
      "execution_count": 4,
      "outputs": []
    },
    {
      "cell_type": "code",
      "metadata": {
        "collapsed": true,
        "id": "ZI5Ji_NMP6MA"
      },
      "source": [
        "from pyspark.ml.classification import LogisticRegression"
      ],
      "execution_count": 5,
      "outputs": []
    },
    {
      "cell_type": "markdown",
      "metadata": {
        "id": "GiS6MlHD6ru0"
      },
      "source": [
        "## Load training data"
      ]
    },
    {
      "cell_type": "code",
      "metadata": {
        "colab": {
          "base_uri": "https://localhost:8080/"
        },
        "id": "7H80XMai62W9",
        "outputId": "6b4a4d82-e0b7-41cc-ee99-f4b22106f59c"
      },
      "source": [
        "!ls /content/spark-3.1.2-bin-hadoop2.7/sample_libsvm_data.txt"
      ],
      "execution_count": 7,
      "outputs": [
        {
          "output_type": "stream",
          "text": [
            "ls: cannot access '/content/spark-3.1.2-bin-hadoop2.7/sample_libsvm_data.txt': No such file or directory\n"
          ],
          "name": "stdout"
        }
      ]
    },
    {
      "cell_type": "code",
      "metadata": {
        "id": "jKjDWZ-MP6MB"
      },
      "source": [
        "my_data = spark.read.format(\"libsvm\").load(\"/content/spark-3.1.2-bin-hadoop2.7/data/mllib/sample_libsvm_data.txt\")"
      ],
      "execution_count": 13,
      "outputs": []
    },
    {
      "cell_type": "code",
      "metadata": {
        "colab": {
          "base_uri": "https://localhost:8080/"
        },
        "id": "bm6rRC6J7gnU",
        "outputId": "3575cec9-c5e5-4190-fbcb-de754ea9c1ef"
      },
      "source": [
        "my_data.show()"
      ],
      "execution_count": 14,
      "outputs": [
        {
          "output_type": "stream",
          "text": [
            "+-----+--------------------+\n",
            "|label|            features|\n",
            "+-----+--------------------+\n",
            "|  0.0|(692,[127,128,129...|\n",
            "|  1.0|(692,[158,159,160...|\n",
            "|  1.0|(692,[124,125,126...|\n",
            "|  1.0|(692,[152,153,154...|\n",
            "|  1.0|(692,[151,152,153...|\n",
            "|  0.0|(692,[129,130,131...|\n",
            "|  1.0|(692,[158,159,160...|\n",
            "|  1.0|(692,[99,100,101,...|\n",
            "|  0.0|(692,[154,155,156...|\n",
            "|  0.0|(692,[127,128,129...|\n",
            "|  1.0|(692,[154,155,156...|\n",
            "|  0.0|(692,[153,154,155...|\n",
            "|  0.0|(692,[151,152,153...|\n",
            "|  1.0|(692,[129,130,131...|\n",
            "|  0.0|(692,[154,155,156...|\n",
            "|  1.0|(692,[150,151,152...|\n",
            "|  0.0|(692,[124,125,126...|\n",
            "|  0.0|(692,[152,153,154...|\n",
            "|  1.0|(692,[97,98,99,12...|\n",
            "|  1.0|(692,[124,125,126...|\n",
            "+-----+--------------------+\n",
            "only showing top 20 rows\n",
            "\n"
          ],
          "name": "stdout"
        }
      ]
    },
    {
      "cell_type": "markdown",
      "metadata": {
        "id": "OayAwG6P7N-n"
      },
      "source": [
        "## Fit the model"
      ]
    },
    {
      "cell_type": "code",
      "metadata": {
        "id": "dHb0zJ8c6ufI"
      },
      "source": [
        "model = LogisticRegression()"
      ],
      "execution_count": 16,
      "outputs": []
    },
    {
      "cell_type": "code",
      "metadata": {
        "id": "vt45pd36-UCp"
      },
      "source": [
        "fitted_model = model.fit(my_data)"
      ],
      "execution_count": 18,
      "outputs": []
    },
    {
      "cell_type": "code",
      "metadata": {
        "id": "rYV-Znyi7LOR"
      },
      "source": [
        "log_summary = fitted_model.summary"
      ],
      "execution_count": 20,
      "outputs": []
    },
    {
      "cell_type": "code",
      "metadata": {
        "colab": {
          "base_uri": "https://localhost:8080/"
        },
        "id": "iq_CqcX67LAD",
        "outputId": "e72c551e-8953-475a-abcd-1ecb07accc0f"
      },
      "source": [
        "log_summary.predictions.printSchema()"
      ],
      "execution_count": 21,
      "outputs": [
        {
          "output_type": "stream",
          "text": [
            "root\n",
            " |-- label: double (nullable = true)\n",
            " |-- features: vector (nullable = true)\n",
            " |-- rawPrediction: vector (nullable = true)\n",
            " |-- probability: vector (nullable = true)\n",
            " |-- prediction: double (nullable = false)\n",
            "\n"
          ],
          "name": "stdout"
        }
      ]
    },
    {
      "cell_type": "code",
      "metadata": {
        "colab": {
          "base_uri": "https://localhost:8080/"
        },
        "id": "THdovRwsP6MB",
        "outputId": "805656d0-5b4b-4715-d16f-cb36c9f8ff2b"
      },
      "source": [
        "log_summary.predictions.show()"
      ],
      "execution_count": 22,
      "outputs": [
        {
          "output_type": "stream",
          "text": [
            "+-----+--------------------+--------------------+--------------------+----------+\n",
            "|label|            features|       rawPrediction|         probability|prediction|\n",
            "+-----+--------------------+--------------------+--------------------+----------+\n",
            "|  0.0|(692,[127,128,129...|[19.8534775947478...|[0.99999999761359...|       0.0|\n",
            "|  1.0|(692,[158,159,160...|[-20.377398194908...|[1.41321555111048...|       1.0|\n",
            "|  1.0|(692,[124,125,126...|[-27.401459284891...|[1.25804865126974...|       1.0|\n",
            "|  1.0|(692,[152,153,154...|[-18.862741612668...|[6.42710509170280...|       1.0|\n",
            "|  1.0|(692,[151,152,153...|[-20.483011833009...|[1.27157209200599...|       1.0|\n",
            "|  0.0|(692,[129,130,131...|[19.8506078990277...|[0.99999999760673...|       0.0|\n",
            "|  1.0|(692,[158,159,160...|[-20.337256674833...|[1.47109814695573...|       1.0|\n",
            "|  1.0|(692,[99,100,101,...|[-19.595579753418...|[3.08850168102630...|       1.0|\n",
            "|  0.0|(692,[154,155,156...|[19.2708803215613...|[0.99999999572670...|       0.0|\n",
            "|  0.0|(692,[127,128,129...|[23.6202328360423...|[0.99999999994480...|       0.0|\n",
            "|  1.0|(692,[154,155,156...|[-24.385235147661...|[2.56818872776492...|       1.0|\n",
            "|  0.0|(692,[153,154,155...|[26.3082522490179...|[0.99999999999624...|       0.0|\n",
            "|  0.0|(692,[151,152,153...|[25.8329060318703...|[0.99999999999396...|       0.0|\n",
            "|  1.0|(692,[129,130,131...|[-19.794609139086...|[2.53110684529565...|       1.0|\n",
            "|  0.0|(692,[154,155,156...|[21.0260440948067...|[0.99999999926123...|       0.0|\n",
            "|  1.0|(692,[150,151,152...|[-22.764979942873...|[1.29806018790933...|       1.0|\n",
            "|  0.0|(692,[124,125,126...|[21.5049307193955...|[0.99999999954235...|       0.0|\n",
            "|  0.0|(692,[152,153,154...|[31.9927184226421...|[0.99999999999998...|       0.0|\n",
            "|  1.0|(692,[97,98,99,12...|[-20.521067180414...|[1.22409115616499...|       1.0|\n",
            "|  1.0|(692,[124,125,126...|[-22.245377742755...|[2.18250475400319...|       1.0|\n",
            "+-----+--------------------+--------------------+--------------------+----------+\n",
            "only showing top 20 rows\n",
            "\n"
          ],
          "name": "stdout"
        }
      ]
    },
    {
      "cell_type": "markdown",
      "metadata": {
        "id": "KMxMDnW6_YPq"
      },
      "source": [
        "## train_data, test_data 데이터셋 분리"
      ]
    },
    {
      "cell_type": "code",
      "metadata": {
        "id": "H1E8LnW-_Zh2"
      },
      "source": [
        "train, test = my_data.randomSplit([0.7, 0.3])"
      ],
      "execution_count": 23,
      "outputs": []
    },
    {
      "cell_type": "markdown",
      "metadata": {
        "id": "MnBoIYddAL1J"
      },
      "source": [
        "## Fit the model"
      ]
    },
    {
      "cell_type": "code",
      "metadata": {
        "id": "lvFVULwq_a0q"
      },
      "source": [
        "final_model = LogisticRegression()"
      ],
      "execution_count": 24,
      "outputs": []
    },
    {
      "cell_type": "code",
      "metadata": {
        "id": "8twyV08R_aw7"
      },
      "source": [
        "fit_final = final_model.fit(train)"
      ],
      "execution_count": 25,
      "outputs": []
    },
    {
      "cell_type": "markdown",
      "metadata": {
        "id": "R5Wpfn-OAIIu"
      },
      "source": [
        "## Evaluation"
      ]
    },
    {
      "cell_type": "code",
      "metadata": {
        "id": "HFvDaEgV_aoK"
      },
      "source": [
        "prediction_and_labels = fit_final.evaluate(train)"
      ],
      "execution_count": 26,
      "outputs": []
    },
    {
      "cell_type": "code",
      "metadata": {
        "colab": {
          "base_uri": "https://localhost:8080/"
        },
        "id": "05Y1TbRj_ab1",
        "outputId": "d23207b8-bed4-4368-9ae9-6e1c99a80ade"
      },
      "source": [
        "prediction_and_labels.predictions.show()"
      ],
      "execution_count": 28,
      "outputs": [
        {
          "output_type": "stream",
          "text": [
            "+-----+--------------------+--------------------+--------------------+----------+\n",
            "|label|            features|       rawPrediction|         probability|prediction|\n",
            "+-----+--------------------+--------------------+--------------------+----------+\n",
            "|  0.0|(692,[95,96,97,12...|[23.4730613312538...|[0.99999999993605...|       0.0|\n",
            "|  0.0|(692,[98,99,100,1...|[27.5581854406991...|[0.99999999999892...|       0.0|\n",
            "|  0.0|(692,[100,101,102...|[19.2602546077710...|[0.99999999568105...|       0.0|\n",
            "|  0.0|(692,[121,122,123...|[22.9836776122599...|[0.99999999989569...|       0.0|\n",
            "|  0.0|(692,[122,123,124...|[19.7150728796769...|[0.99999999725935...|       0.0|\n",
            "|  0.0|(692,[122,123,148...|[20.7479806713662...|[0.99999999902441...|       0.0|\n",
            "|  0.0|(692,[123,124,125...|[32.3557626994730...|[0.99999999999999...|       0.0|\n",
            "|  0.0|(692,[123,124,125...|[21.3015946779741...|[0.99999999943916...|       0.0|\n",
            "|  0.0|(692,[124,125,126...|[22.8133657164778...|[0.99999999987632...|       0.0|\n",
            "|  0.0|(692,[124,125,126...|[30.8934393433498...|[0.99999999999996...|       0.0|\n",
            "|  0.0|(692,[124,125,126...|[23.9789408695458...|[0.99999999996144...|       0.0|\n",
            "|  0.0|(692,[125,126,127...|[20.8317426670888...|[0.99999999910280...|       0.0|\n",
            "|  0.0|(692,[126,127,128...|[27.3500170128986...|[0.99999999999867...|       0.0|\n",
            "|  0.0|(692,[126,127,128...|[21.3529060349453...|[0.99999999946721...|       0.0|\n",
            "|  0.0|(692,[126,127,128...|[25.0466570236797...|[0.99999999998674...|       0.0|\n",
            "|  0.0|(692,[126,127,128...|[29.6671528713174...|[0.99999999999986...|       0.0|\n",
            "|  0.0|(692,[126,127,128...|[21.2939289763938...|[0.99999999943484...|       0.0|\n",
            "|  0.0|(692,[127,128,129...|[20.6622345965281...|[0.99999999893706...|       0.0|\n",
            "|  0.0|(692,[128,129,130...|[23.1617339747571...|[0.99999999991270...|       0.0|\n",
            "|  0.0|(692,[129,130,131...|[21.1632804123917...|[0.99999999935597...|       0.0|\n",
            "+-----+--------------------+--------------------+--------------------+----------+\n",
            "only showing top 20 rows\n",
            "\n"
          ],
          "name": "stdout"
        }
      ]
    },
    {
      "cell_type": "code",
      "metadata": {
        "id": "4NKoP1uqBUcU"
      },
      "source": [
        "from pyspark.ml.evaluation import ( BinaryClassificationEvaluator, \n",
        "                                 MulticlassClassificationEvaluator)"
      ],
      "execution_count": 33,
      "outputs": []
    },
    {
      "cell_type": "code",
      "metadata": {
        "id": "X6HsFZSfBUYk"
      },
      "source": [
        "my_eval = BinaryClassificationEvaluator()"
      ],
      "execution_count": 34,
      "outputs": []
    },
    {
      "cell_type": "code",
      "metadata": {
        "id": "uO-Hm4mCBUVI"
      },
      "source": [
        "my_final_roc = my_eval.evaluate(prediction_and_labels.predictions)"
      ],
      "execution_count": 35,
      "outputs": []
    },
    {
      "cell_type": "code",
      "metadata": {
        "colab": {
          "base_uri": "https://localhost:8080/"
        },
        "id": "05e9qzdeBURt",
        "outputId": "e7f990b0-bd86-440a-bd13-1c97803a1b09"
      },
      "source": [
        "my_final_roc"
      ],
      "execution_count": 36,
      "outputs": [
        {
          "output_type": "execute_result",
          "data": {
            "text/plain": [
              "1.0"
            ]
          },
          "metadata": {
            "tags": []
          },
          "execution_count": 36
        }
      ]
    }
  ]
}