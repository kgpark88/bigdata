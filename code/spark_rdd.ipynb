{
  "nbformat": 4,
  "nbformat_minor": 0,
  "metadata": {
    "anaconda-cloud": {},
    "kernelspec": {
      "display_name": "Python [conda root]",
      "language": "python",
      "name": "conda-root-py"
    },
    "language_info": {
      "codemirror_mode": {
        "name": "ipython",
        "version": 3
      },
      "file_extension": ".py",
      "mimetype": "text/x-python",
      "name": "python",
      "nbconvert_exporter": "python",
      "pygments_lexer": "ipython3",
      "version": "3.5.3"
    },
    "nbpresent": {
      "slides": {},
      "themes": {
        "default": "0535adbc-b74f-46cc-9cd6-4eabe2477c8e",
        "theme": {
          "0535adbc-b74f-46cc-9cd6-4eabe2477c8e": {
            "backgrounds": {
              "backgroundColor": {
                "background-color": "backgroundColor",
                "id": "backgroundColor"
              }
            },
            "id": "0535adbc-b74f-46cc-9cd6-4eabe2477c8e",
            "palette": {
              "backgroundColor": {
                "id": "backgroundColor",
                "rgb": [
                  43,
                  43,
                  43
                ]
              },
              "headingColor": {
                "id": "headingColor",
                "rgb": [
                  238,
                  238,
                  238
                ]
              },
              "linkColor": {
                "id": "linkColor",
                "rgb": [
                  19,
                  218,
                  236
                ]
              },
              "mainColor": {
                "id": "mainColor",
                "rgb": [
                  238,
                  238,
                  238
                ]
              }
            },
            "rules": {
              "a": {
                "color": "linkColor"
              },
              "h1": {
                "color": "headingColor",
                "font-family": "Oswald",
                "font-size": 7
              },
              "h2": {
                "color": "headingColor",
                "font-family": "Oswald",
                "font-size": 5
              },
              "h3": {
                "color": "headingColor",
                "font-family": "Oswald",
                "font-size": 3.75
              },
              "h4": {
                "color": "headingColor",
                "font-family": "Oswald",
                "font-size": 3
              },
              "h5": {
                "color": "headingColor",
                "font-family": "Oswald"
              },
              "h6": {
                "color": "headingColor",
                "font-family": "Oswald"
              },
              "h7": {
                "color": "headingColor",
                "font-family": "Oswald"
              },
              "li": {
                "color": "mainColor",
                "font-family": "Lato",
                "font-size": 5
              },
              "p": {
                "color": "mainColor",
                "font-family": "Lato",
                "font-size": 5
              }
            },
            "text-base": {
              "color": "mainColor",
              "font-family": "Lato",
              "font-size": 5
            }
          },
          "cc59980f-cb69-400a-b63a-1fb85ca73c8a": {
            "backgrounds": {
              "dc7afa04-bf90-40b1-82a5-726e3cff5267": {
                "background-color": "31af15d2-7e15-44c5-ab5e-e04b16a89eff",
                "id": "dc7afa04-bf90-40b1-82a5-726e3cff5267"
              }
            },
            "id": "cc59980f-cb69-400a-b63a-1fb85ca73c8a",
            "palette": {
              "19cc588f-0593-49c9-9f4b-e4d7cc113b1c": {
                "id": "19cc588f-0593-49c9-9f4b-e4d7cc113b1c",
                "rgb": [
                  252,
                  252,
                  252
                ]
              },
              "31af15d2-7e15-44c5-ab5e-e04b16a89eff": {
                "id": "31af15d2-7e15-44c5-ab5e-e04b16a89eff",
                "rgb": [
                  68,
                  68,
                  68
                ]
              },
              "50f92c45-a630-455b-aec3-788680ec7410": {
                "id": "50f92c45-a630-455b-aec3-788680ec7410",
                "rgb": [
                  197,
                  226,
                  245
                ]
              },
              "c5cc3653-2ee1-402a-aba2-7caae1da4f6c": {
                "id": "c5cc3653-2ee1-402a-aba2-7caae1da4f6c",
                "rgb": [
                  43,
                  126,
                  184
                ]
              },
              "efa7f048-9acb-414c-8b04-a26811511a21": {
                "id": "efa7f048-9acb-414c-8b04-a26811511a21",
                "rgb": [
                  25.118061674008803,
                  73.60176211453744,
                  107.4819383259912
                ]
              }
            },
            "rules": {
              "a": {
                "color": "19cc588f-0593-49c9-9f4b-e4d7cc113b1c"
              },
              "blockquote": {
                "color": "50f92c45-a630-455b-aec3-788680ec7410",
                "font-size": 3
              },
              "code": {
                "font-family": "Anonymous Pro"
              },
              "h1": {
                "color": "19cc588f-0593-49c9-9f4b-e4d7cc113b1c",
                "font-family": "Merriweather",
                "font-size": 8
              },
              "h2": {
                "color": "19cc588f-0593-49c9-9f4b-e4d7cc113b1c",
                "font-family": "Merriweather",
                "font-size": 6
              },
              "h3": {
                "color": "50f92c45-a630-455b-aec3-788680ec7410",
                "font-family": "Lato",
                "font-size": 5.5
              },
              "h4": {
                "color": "c5cc3653-2ee1-402a-aba2-7caae1da4f6c",
                "font-family": "Lato",
                "font-size": 5
              },
              "h5": {
                "font-family": "Lato"
              },
              "h6": {
                "font-family": "Lato"
              },
              "h7": {
                "font-family": "Lato"
              },
              "li": {
                "color": "50f92c45-a630-455b-aec3-788680ec7410",
                "font-size": 3.25
              },
              "pre": {
                "font-family": "Anonymous Pro",
                "font-size": 4
              }
            },
            "text-base": {
              "color": "19cc588f-0593-49c9-9f4b-e4d7cc113b1c",
              "font-family": "Lato",
              "font-size": 4
            }
          }
        }
      }
    },
    "colab": {
      "provenance": [],
      "include_colab_link": true
    }
  },
  "cells": [
    {
      "cell_type": "markdown",
      "metadata": {
        "id": "view-in-github",
        "colab_type": "text"
      },
      "source": [
        "<a href=\"https://colab.research.google.com/github/kgpark88/bigdata/blob/main/code/spark_rdd.ipynb\" target=\"_parent\"><img src=\"https://colab.research.google.com/assets/colab-badge.svg\" alt=\"Open In Colab\"/></a>"
      ]
    },
    {
      "cell_type": "markdown",
      "metadata": {
        "id": "_UpR5UYQ5oWs"
      },
      "source": [
        "# RDD(Resilient Distributed Dataset)\n",
        "- Apache Spark의 기본적인 자료구조는 RDD 자료구조입니다.\n",
        "- RDD는 스파크의 클러스터 내부의 노드들 간에 공유되어 병렬적으로 연산될 수 있는 자료구조입니다.\n",
        "- 참고 : https://github.com/Mountasser/books/blob/master/data-analytics-spark-using-python%20(1).pdf     \n",
        "4 Learning Spark Programming Basics"
      ]
    },
    {
      "cell_type": "markdown",
      "metadata": {
        "id": "2NKszSgetLAU"
      },
      "source": [
        "## Spark 설치"
      ]
    },
    {
      "cell_type": "code",
      "metadata": {
        "colab": {
          "base_uri": "https://localhost:8080/",
          "height": 800
        },
        "id": "xRIBV9ACu9uc",
        "outputId": "4973aa80-4bc8-4038-d0e5-f3f47b9472b6"
      },
      "source": [
        "!apt-get install openjdk-8-jdk-headless -qq\n",
        "!wget -q !wget -q https://downloads.apache.org/spark/spark-3.3.2/spark-3.3.2-bin-hadoop3.tgz\n",
        "!tar -xf spark-3.3.2-bin-hadoop3.tgz\n",
        "!pip install -q findspark\n",
        "\n",
        "import os\n",
        "import findspark\n",
        "\n",
        "os.environ[\"JAVA_HOME\"] = \"/usr/lib/jvm/java-8-openjdk-amd64\"\n",
        "os.environ[\"SPARK_HOME\"] = \"/content/spark-3.3.2-bin-hadoop3\"\n",
        "\n",
        "findspark.init()\n",
        "findspark.find()"
      ],
      "execution_count": 1,
      "outputs": [
        {
          "output_type": "stream",
          "name": "stdout",
          "text": [
            "Selecting previously unselected package libxtst6:amd64.\n",
            "(Reading database ... 120828 files and directories currently installed.)\n",
            "Preparing to unpack .../libxtst6_2%3a1.2.3-1build4_amd64.deb ...\n",
            "Unpacking libxtst6:amd64 (2:1.2.3-1build4) ...\n",
            "Selecting previously unselected package openjdk-8-jre-headless:amd64.\n",
            "Preparing to unpack .../openjdk-8-jre-headless_8u382-ga-1~22.04.1_amd64.deb ...\n",
            "Unpacking openjdk-8-jre-headless:amd64 (8u382-ga-1~22.04.1) ...\n",
            "Selecting previously unselected package openjdk-8-jdk-headless:amd64.\n",
            "Preparing to unpack .../openjdk-8-jdk-headless_8u382-ga-1~22.04.1_amd64.deb ...\n",
            "Unpacking openjdk-8-jdk-headless:amd64 (8u382-ga-1~22.04.1) ...\n",
            "Setting up libxtst6:amd64 (2:1.2.3-1build4) ...\n",
            "Setting up openjdk-8-jre-headless:amd64 (8u382-ga-1~22.04.1) ...\n",
            "update-alternatives: using /usr/lib/jvm/java-8-openjdk-amd64/jre/bin/orbd to provide /usr/bin/orbd (orbd) in auto mode\n",
            "update-alternatives: using /usr/lib/jvm/java-8-openjdk-amd64/jre/bin/servertool to provide /usr/bin/servertool (servertool) in auto mode\n",
            "update-alternatives: using /usr/lib/jvm/java-8-openjdk-amd64/jre/bin/tnameserv to provide /usr/bin/tnameserv (tnameserv) in auto mode\n",
            "Setting up openjdk-8-jdk-headless:amd64 (8u382-ga-1~22.04.1) ...\n",
            "update-alternatives: using /usr/lib/jvm/java-8-openjdk-amd64/bin/clhsdb to provide /usr/bin/clhsdb (clhsdb) in auto mode\n",
            "update-alternatives: using /usr/lib/jvm/java-8-openjdk-amd64/bin/extcheck to provide /usr/bin/extcheck (extcheck) in auto mode\n",
            "update-alternatives: using /usr/lib/jvm/java-8-openjdk-amd64/bin/hsdb to provide /usr/bin/hsdb (hsdb) in auto mode\n",
            "update-alternatives: using /usr/lib/jvm/java-8-openjdk-amd64/bin/idlj to provide /usr/bin/idlj (idlj) in auto mode\n",
            "update-alternatives: using /usr/lib/jvm/java-8-openjdk-amd64/bin/javah to provide /usr/bin/javah (javah) in auto mode\n",
            "update-alternatives: using /usr/lib/jvm/java-8-openjdk-amd64/bin/jhat to provide /usr/bin/jhat (jhat) in auto mode\n",
            "update-alternatives: using /usr/lib/jvm/java-8-openjdk-amd64/bin/jsadebugd to provide /usr/bin/jsadebugd (jsadebugd) in auto mode\n",
            "update-alternatives: using /usr/lib/jvm/java-8-openjdk-amd64/bin/native2ascii to provide /usr/bin/native2ascii (native2ascii) in auto mode\n",
            "update-alternatives: using /usr/lib/jvm/java-8-openjdk-amd64/bin/schemagen to provide /usr/bin/schemagen (schemagen) in auto mode\n",
            "update-alternatives: using /usr/lib/jvm/java-8-openjdk-amd64/bin/wsgen to provide /usr/bin/wsgen (wsgen) in auto mode\n",
            "update-alternatives: using /usr/lib/jvm/java-8-openjdk-amd64/bin/wsimport to provide /usr/bin/wsimport (wsimport) in auto mode\n",
            "update-alternatives: using /usr/lib/jvm/java-8-openjdk-amd64/bin/xjc to provide /usr/bin/xjc (xjc) in auto mode\n",
            "Processing triggers for libc-bin (2.35-0ubuntu3.1) ...\n",
            "/sbin/ldconfig.real: /usr/local/lib/libtbbmalloc.so.2 is not a symbolic link\n",
            "\n",
            "/sbin/ldconfig.real: /usr/local/lib/libtbbbind.so.3 is not a symbolic link\n",
            "\n",
            "/sbin/ldconfig.real: /usr/local/lib/libtbbbind_2_0.so.3 is not a symbolic link\n",
            "\n",
            "/sbin/ldconfig.real: /usr/local/lib/libtbb.so.12 is not a symbolic link\n",
            "\n",
            "/sbin/ldconfig.real: /usr/local/lib/libtbbbind_2_5.so.3 is not a symbolic link\n",
            "\n",
            "/sbin/ldconfig.real: /usr/local/lib/libtbbmalloc_proxy.so.2 is not a symbolic link\n",
            "\n"
          ]
        },
        {
          "output_type": "execute_result",
          "data": {
            "text/plain": [
              "'/content/spark-3.3.2-bin-hadoop3'"
            ],
            "application/vnd.google.colaboratory.intrinsic+json": {
              "type": "string"
            }
          },
          "metadata": {},
          "execution_count": 1
        }
      ]
    },
    {
      "cell_type": "code",
      "metadata": {
        "id": "8JOzZE4GtyVR"
      },
      "source": [
        "from pyspark import SparkContext, SparkConf\n",
        "sc = SparkContext.getOrCreate()"
      ],
      "execution_count": 2,
      "outputs": []
    },
    {
      "cell_type": "markdown",
      "metadata": {
        "id": "ZgVSZr4GulYp"
      },
      "source": [
        "## 파일에서 단어 검색"
      ]
    },
    {
      "cell_type": "code",
      "metadata": {
        "colab": {
          "base_uri": "https://localhost:8080/"
        },
        "id": "mIfrGwIcwk6h",
        "outputId": "d7ed81ff-4b54-43e9-af17-4f742fabe42b"
      },
      "source": [
        "!ls /content/spark-3.3.2-bin-hadoop3/licenses/"
      ],
      "execution_count": 3,
      "outputs": [
        {
          "output_type": "stream",
          "name": "stdout",
          "text": [
            "LICENSE-AnchorJS.txt\t\t\t       LICENSE-json-formatter.txt\n",
            "LICENSE-antlr.txt\t\t\t       LICENSE-jsp-api.txt\n",
            "LICENSE-arpack.txt\t\t\t       LICENSE-JTransforms.txt\n",
            "LICENSE-automaton.txt\t\t\t       LICENSE-kryo.txt\n",
            "LICENSE-blas.txt\t\t\t       LICENSE-leveldbjni.txt\n",
            "LICENSE-bootstrap.txt\t\t\t       LICENSE-machinist.txt\n",
            "LICENSE-CC0.txt\t\t\t\t       LICENSE-matchMedia-polyfill.txt\n",
            "LICENSE-cloudpickle.txt\t\t\t       LICENSE-minlog.txt\n",
            "LICENSE-d3.min.js.txt\t\t\t       LICENSE-modernizr.txt\n",
            "LICENSE-dagre-d3.txt\t\t\t       LICENSE-mustache.txt\n",
            "LICENSE-datatables.txt\t\t\t       LICENSE-netlib.txt\n",
            "LICENSE-dnsjava.txt\t\t\t       LICENSE-paranamer.txt\n",
            "LICENSE-f2j.txt\t\t\t\t       LICENSE-pmml-model.txt\n",
            "LICENSE-graphlib-dot.txt\t\t       LICENSE-protobuf.txt\n",
            "LICENSE-istack-commons-runtime.txt\t       LICENSE-py4j.txt\n",
            "LICENSE-jakarta.activation-api.txt\t       LICENSE-pyrolite.txt\n",
            "LICENSE-jakarta-annotation-api\t\t       LICENSE-re2j.txt\n",
            "LICENSE-jakarta-ws-rs-api\t\t       LICENSE-reflectasm.txt\n",
            "LICENSE-jakarta.xml.bind-api.txt\t       LICENSE-respond.txt\n",
            "LICENSE-janino.txt\t\t\t       LICENSE-sbt-launch-lib.txt\n",
            "LICENSE-javassist.html\t\t\t       LICENSE-scala.txt\n",
            "LICENSE-javax-transaction-transaction-api.txt  LICENSE-scopt.txt\n",
            "LICENSE-javolution.txt\t\t\t       LICENSE-slf4j.txt\n",
            "LICENSE-jaxb-runtime.txt\t\t       LICENSE-sorttable.js.txt\n",
            "LICENSE-JLargeArrays.txt\t\t       LICENSE-spire.txt\n",
            "LICENSE-jline.txt\t\t\t       LICENSE-vis-timeline.txt\n",
            "LICENSE-jodd.txt\t\t\t       LICENSE-xmlenc.txt\n",
            "LICENSE-join.txt\t\t\t       LICENSE-zstd-jni.txt\n",
            "LICENSE-jquery.txt\t\t\t       LICENSE-zstd.txt\n"
          ]
        }
      ]
    },
    {
      "cell_type": "code",
      "metadata": {
        "colab": {
          "base_uri": "https://localhost:8080/"
        },
        "id": "69ssCAs8xm6l",
        "outputId": "d50c4681-7178-48f4-ea68-ed9218173691"
      },
      "source": [
        "!cat /content/spark-3.3.2-bin-hadoop3/licenses/LICENSE-zstd.txt"
      ],
      "execution_count": 4,
      "outputs": [
        {
          "output_type": "stream",
          "name": "stdout",
          "text": [
            "BSD License\n",
            "\n",
            "For Zstandard software\n",
            "\n",
            "Copyright (c) 2016-present, Facebook, Inc. All rights reserved.\n",
            "\n",
            "Redistribution and use in source and binary forms, with or without modification,\n",
            "are permitted provided that the following conditions are met:\n",
            "\n",
            " * Redistributions of source code must retain the above copyright notice, this\n",
            "   list of conditions and the following disclaimer.\n",
            "\n",
            " * Redistributions in binary form must reproduce the above copyright notice,\n",
            "   this list of conditions and the following disclaimer in the documentation\n",
            "   and/or other materials provided with the distribution.\n",
            "\n",
            " * Neither the name Facebook nor the names of its contributors may be used to\n",
            "   endorse or promote products derived from this software without specific\n",
            "   prior written permission.\n",
            "\n",
            "THIS SOFTWARE IS PROVIDED BY THE COPYRIGHT HOLDERS AND CONTRIBUTORS \"AS IS\" AND\n",
            "ANY EXPRESS OR IMPLIED WARRANTIES, INCLUDING, BUT NOT LIMITED TO, THE IMPLIED\n",
            "WARRANTIES OF MERCHANTABILITY AND FITNESS FOR A PARTICULAR PURPOSE ARE\n",
            "DISCLAIMED. IN NO EVENT SHALL THE COPYRIGHT HOLDER OR CONTRIBUTORS BE LIABLE FOR\n",
            "ANY DIRECT, INDIRECT, INCIDENTAL, SPECIAL, EXEMPLARY, OR CONSEQUENTIAL DAMAGES\n",
            "(INCLUDING, BUT NOT LIMITED TO, PROCUREMENT OF SUBSTITUTE GOODS OR SERVICES;\n",
            "LOSS OF USE, DATA, OR PROFITS; OR BUSINESS INTERRUPTION) HOWEVER CAUSED AND ON\n",
            "ANY THEORY OF LIABILITY, WHETHER IN CONTRACT, STRICT LIABILITY, OR TORT\n",
            "(INCLUDING NEGLIGENCE OR OTHERWISE) ARISING IN ANY WAY OUT OF THE USE OF THIS\n",
            "SOFTWARE, EVEN IF ADVISED OF THE POSSIBILITY OF SUCH DAMAGE.\n"
          ]
        }
      ]
    },
    {
      "cell_type": "code",
      "metadata": {
        "id": "p0oWyFrat2Mx"
      },
      "source": [
        "# 로컬 파일시스템에서 파일 로드\n",
        "rdd1 = sc.textFile(\"file:///content/spark-3.3.2-bin-hadoop3/licenses/LICENSE-*\")\n",
        "\n",
        "# 파일 레코드 필터링\n",
        "rdd2 = rdd1.filter(lambda line: \"SOFTWARE\" in line)\n",
        "\n",
        "# 파일로 저장\n",
        "rdd2.saveAsTextFile(\"file:///content/output\")"
      ],
      "execution_count": 5,
      "outputs": []
    },
    {
      "cell_type": "code",
      "metadata": {
        "colab": {
          "base_uri": "https://localhost:8080/"
        },
        "id": "EaB88U4GtvsY",
        "outputId": "4bf8e475-49a3-4c3d-bdf0-85ad597c1bc8"
      },
      "source": [
        "!cat  /content/output/part-00000"
      ],
      "execution_count": 6,
      "outputs": [
        {
          "output_type": "stream",
          "name": "stdout",
          "text": [
            "THE SOFTWARE IS PROVIDED \"AS IS\", WITHOUT WARRANTY OF ANY KIND, EXPRESS OR\n",
            "OUT OF OR IN CONNECTION WITH THE SOFTWARE OR THE USE OR OTHER DEALINGS IN\n",
            "THE SOFTWARE.\n"
          ]
        }
      ]
    },
    {
      "cell_type": "markdown",
      "metadata": {
        "id": "o5COYGRQ0PYx"
      },
      "source": [
        "## textFile() 메소드를 사용해 RDD 만들기"
      ]
    },
    {
      "cell_type": "code",
      "metadata": {
        "id": "y0jvjYzm1fLC"
      },
      "source": [
        "# licenses RDD에 전체 디렉토리의 내용 로드\n",
        "license_files = sc.textFile(\"file:///content/spark-3.3.2-bin-hadoop3/licenses/\")"
      ],
      "execution_count": 7,
      "outputs": []
    },
    {
      "cell_type": "code",
      "metadata": {
        "colab": {
          "base_uri": "https://localhost:8080/"
        },
        "id": "NLvgh2c11gzZ",
        "outputId": "5b25663a-3a84-4848-a6c4-20b20309452d"
      },
      "source": [
        "# 생성된 객체 검사\n",
        "license_files"
      ],
      "execution_count": 8,
      "outputs": [
        {
          "output_type": "execute_result",
          "data": {
            "text/plain": [
              "file:///content/spark-3.3.2-bin-hadoop3/licenses/ MapPartitionsRDD[6] at textFile at NativeMethodAccessorImpl.java:0"
            ]
          },
          "metadata": {},
          "execution_count": 8
        }
      ]
    },
    {
      "cell_type": "code",
      "metadata": {
        "colab": {
          "base_uri": "https://localhost:8080/"
        },
        "id": "dKxIkp0Y1nYz",
        "outputId": "8dbbdc4b-35e4-4e87-9ba9-56a58aa40707"
      },
      "source": [
        "license_files.take(1)"
      ],
      "execution_count": 9,
      "outputs": [
        {
          "output_type": "execute_result",
          "data": {
            "text/plain": [
              "['Copyright © 2018 The University of Tennessee. All rights reserved.']"
            ]
          },
          "metadata": {},
          "execution_count": 9
        }
      ]
    },
    {
      "cell_type": "code",
      "metadata": {
        "colab": {
          "base_uri": "https://localhost:8080/"
        },
        "id": "LUt6Hc-71tgF",
        "outputId": "59e6b771-110a-4be2-a9fe-16e592f50b65"
      },
      "source": [
        "license_files.getNumPartitions()"
      ],
      "execution_count": 10,
      "outputs": [
        {
          "output_type": "execute_result",
          "data": {
            "text/plain": [
              "58"
            ]
          },
          "metadata": {},
          "execution_count": 10
        }
      ]
    },
    {
      "cell_type": "code",
      "metadata": {
        "colab": {
          "base_uri": "https://localhost:8080/"
        },
        "id": "fcCHM1vk11f-",
        "outputId": "19bcc089-dacb-484f-ac8d-9b32dd0b5a54"
      },
      "source": [
        "# 모든 파일에서 총 라인 수\n",
        "license_files.count()"
      ],
      "execution_count": 11,
      "outputs": [
        {
          "output_type": "execute_result",
          "data": {
            "text/plain": [
              "2998"
            ]
          },
          "metadata": {},
          "execution_count": 11
        }
      ]
    },
    {
      "cell_type": "markdown",
      "metadata": {
        "id": "kQ_4nD7y4HYu"
      },
      "source": [
        "## 데이터 소스에서 RDD 생성"
      ]
    },
    {
      "cell_type": "code",
      "metadata": {
        "id": "qgjnPr-V5ECE"
      },
      "source": [
        "from pyspark.sql import SparkSession\n",
        "\n",
        "spark = SparkSession.builder.appName('rdd').getOrCreate()"
      ],
      "execution_count": 12,
      "outputs": []
    },
    {
      "cell_type": "markdown",
      "metadata": {
        "id": "SSBMRstw4WXe"
      },
      "source": [
        "`spark.read.jdbc(url, table,\n",
        "    column=None,\n",
        "    lowerBound=None,\n",
        "    upperBound=None,\n",
        "    numPartitions=None,\n",
        "    predicates=None,\n",
        "    properties=None)`"
      ]
    },
    {
      "cell_type": "markdown",
      "metadata": {
        "id": "JUxKYrE74-1B"
      },
      "source": [
        "## JSON 파일에서 RDD 생성"
      ]
    },
    {
      "cell_type": "code",
      "metadata": {
        "id": "EJT-Hgyj4HDg"
      },
      "source": [
        "people = spark.read.json(\"/content/spark-3.3.2-bin-hadoop3/examples/src/main/resources/people.json\")"
      ],
      "execution_count": 13,
      "outputs": []
    },
    {
      "cell_type": "code",
      "metadata": {
        "colab": {
          "base_uri": "https://localhost:8080/"
        },
        "id": "DnoTwUjN588E",
        "outputId": "5fddec7d-f3e8-41b7-c0b6-97e9e0642a19"
      },
      "source": [
        "people"
      ],
      "execution_count": 14,
      "outputs": [
        {
          "output_type": "execute_result",
          "data": {
            "text/plain": [
              "DataFrame[age: bigint, name: string]"
            ]
          },
          "metadata": {},
          "execution_count": 14
        }
      ]
    },
    {
      "cell_type": "code",
      "metadata": {
        "colab": {
          "base_uri": "https://localhost:8080/"
        },
        "id": "hhBPnWvh6Ei8",
        "outputId": "5adbfcde-151f-4de6-81b7-db29aa75f1a9"
      },
      "source": [
        "people.dtypes"
      ],
      "execution_count": 15,
      "outputs": [
        {
          "output_type": "execute_result",
          "data": {
            "text/plain": [
              "[('age', 'bigint'), ('name', 'string')]"
            ]
          },
          "metadata": {},
          "execution_count": 15
        }
      ]
    },
    {
      "cell_type": "code",
      "metadata": {
        "colab": {
          "base_uri": "https://localhost:8080/"
        },
        "id": "PP1YSs6k6Il2",
        "outputId": "6a2d3df5-cff1-4799-9178-5bf60ce6dae0"
      },
      "source": [
        "people.show()"
      ],
      "execution_count": 16,
      "outputs": [
        {
          "output_type": "stream",
          "name": "stdout",
          "text": [
            "+----+-------+\n",
            "| age|   name|\n",
            "+----+-------+\n",
            "|null|Michael|\n",
            "|  30|   Andy|\n",
            "|  19| Justin|\n",
            "+----+-------+\n",
            "\n"
          ]
        }
      ]
    },
    {
      "cell_type": "code",
      "metadata": {
        "colab": {
          "base_uri": "https://localhost:8080/"
        },
        "id": "1S9MSYVn65ki",
        "outputId": "8ce707c6-82e0-48d4-f981-cac17afa4786"
      },
      "source": [
        "from pyspark.sql import SQLContext\n",
        "\n",
        "# as with all DataFrames you can create use them to run SQL queries as follows\n",
        "sqlContext = SQLContext(sc)\n",
        "sqlContext.registerDataFrameAsTable(people, \"people\")\n",
        "df2 = spark.sql(\"SELECT name, age FROM people WHERE age > 20\")\n",
        "df2.show()"
      ],
      "execution_count": 17,
      "outputs": [
        {
          "output_type": "stream",
          "name": "stderr",
          "text": [
            "/content/spark-3.3.2-bin-hadoop3/python/pyspark/sql/context.py:112: FutureWarning: Deprecated in 3.0.0. Use SparkSession.builder.getOrCreate() instead.\n",
            "  warnings.warn(\n"
          ]
        },
        {
          "output_type": "stream",
          "name": "stdout",
          "text": [
            "+----+---+\n",
            "|name|age|\n",
            "+----+---+\n",
            "|Andy| 30|\n",
            "+----+---+\n",
            "\n"
          ]
        }
      ]
    },
    {
      "cell_type": "markdown",
      "metadata": {
        "id": "lUjU-4ubtT_T"
      },
      "source": [
        "## 프로그래밍 방식으로 RDD 생성\n"
      ]
    },
    {
      "cell_type": "code",
      "metadata": {
        "id": "3-u3exFu5oWv"
      },
      "source": [
        "parallel_rdd = sc.parallelize([0, 1, 2, 3, 4, 5, 6, 7, 8])"
      ],
      "execution_count": 18,
      "outputs": []
    },
    {
      "cell_type": "code",
      "metadata": {
        "colab": {
          "base_uri": "https://localhost:8080/"
        },
        "id": "2MY69_Z3-ADY",
        "outputId": "87d64d47-eba5-4e77-83a7-17d160c940c7"
      },
      "source": [
        "parallel_rdd"
      ],
      "execution_count": 19,
      "outputs": [
        {
          "output_type": "execute_result",
          "data": {
            "text/plain": [
              "ParallelCollectionRDD[21] at readRDDFromFile at PythonRDD.scala:274"
            ]
          },
          "metadata": {},
          "execution_count": 19
        }
      ]
    },
    {
      "cell_type": "code",
      "metadata": {
        "colab": {
          "base_uri": "https://localhost:8080/"
        },
        "id": "sN5e-3Su-Dgw",
        "outputId": "8f4e971c-838d-4137-b324-ae489c739a52"
      },
      "source": [
        "parallel_rdd.count()"
      ],
      "execution_count": 20,
      "outputs": [
        {
          "output_type": "execute_result",
          "data": {
            "text/plain": [
              "9"
            ]
          },
          "metadata": {},
          "execution_count": 20
        }
      ]
    },
    {
      "cell_type": "code",
      "metadata": {
        "id": "wyPj4FWT5oWw",
        "colab": {
          "base_uri": "https://localhost:8080/"
        },
        "outputId": "e81cadeb-d962-46fe-d25f-b9779673caad"
      },
      "source": [
        "# 0에서 시작해서 1000개의 정수로, 2개의 파티션에서 1씩 증가하는 RDD 생성\n",
        "range_rdd = sc.range(0, 1000, 1, 2)\n",
        "range_rdd"
      ],
      "execution_count": 21,
      "outputs": [
        {
          "output_type": "execute_result",
          "data": {
            "text/plain": [
              "PythonRDD[24] at RDD at PythonRDD.scala:53"
            ]
          },
          "metadata": {},
          "execution_count": 21
        }
      ]
    },
    {
      "cell_type": "code",
      "metadata": {
        "colab": {
          "base_uri": "https://localhost:8080/"
        },
        "id": "q1ZTQ_zo-UZ-",
        "outputId": "7f0a0c72-6f0d-4a43-e92e-cb27803ca902"
      },
      "source": [
        "range_rdd.getNumPartitions()"
      ],
      "execution_count": 22,
      "outputs": [
        {
          "output_type": "execute_result",
          "data": {
            "text/plain": [
              "2"
            ]
          },
          "metadata": {},
          "execution_count": 22
        }
      ]
    },
    {
      "cell_type": "code",
      "metadata": {
        "colab": {
          "base_uri": "https://localhost:8080/"
        },
        "id": "XOvi8uar-rx-",
        "outputId": "477e00c2-0346-4e8d-a1e0-f21ce5b63401"
      },
      "source": [
        "range_rdd.max()"
      ],
      "execution_count": 23,
      "outputs": [
        {
          "output_type": "execute_result",
          "data": {
            "text/plain": [
              "999"
            ]
          },
          "metadata": {},
          "execution_count": 23
        }
      ]
    },
    {
      "cell_type": "markdown",
      "metadata": {
        "id": "h8j1jbnC5oW6"
      },
      "source": [
        "## 시퀀스 파일 로딩과 저장\n",
        "- 텍스트 파일과 마찬가지로 경로를 지정하여 SequenceFiles를 저장하고 불러올 수 있습니다.  \n",
        "- key와 value 클래스를 지정할 수 있지만 표준 Writables의 경우에는 필요하지 않습니다."
      ]
    },
    {
      "cell_type": "code",
      "metadata": {
        "colab": {
          "base_uri": "https://localhost:8080/"
        },
        "id": "24uFRu4N7EUz",
        "outputId": "f59e7cc7-2ca6-4cfe-8320-1587288dbcbf"
      },
      "source": [
        "rdd = sc.parallelize(range(1, 4)).map(lambda x: (x, \"a\" * x))\n",
        "rdd.saveAsSequenceFile(\"./sf\")\n",
        "sorted(sc.sequenceFile(\"./sf\").collect())"
      ],
      "execution_count": 24,
      "outputs": [
        {
          "output_type": "execute_result",
          "data": {
            "text/plain": [
              "[(1, 'a'), (2, 'aa'), (3, 'aaa')]"
            ]
          },
          "metadata": {},
          "execution_count": 24
        }
      ]
    },
    {
      "cell_type": "code",
      "metadata": {
        "colab": {
          "base_uri": "https://localhost:8080/"
        },
        "id": "EMc0TJRL-uyJ",
        "outputId": "88d4a99a-7474-4b81-db99-5c880daab3e5"
      },
      "source": [
        "range_rdd.take(5)"
      ],
      "execution_count": 25,
      "outputs": [
        {
          "output_type": "execute_result",
          "data": {
            "text/plain": [
              "[0, 1, 2, 3, 4]"
            ]
          },
          "metadata": {},
          "execution_count": 25
        }
      ]
    },
    {
      "cell_type": "markdown",
      "metadata": {
        "id": "Lay5GPV292gb"
      },
      "source": [
        "## RDD 연산"
      ]
    },
    {
      "cell_type": "code",
      "metadata": {
        "id": "uw3xGQuG7TjF"
      },
      "source": [
        "original_rdd = sc.parallelize([0, 1, 2, 3, 4, 5, 6, 7, 8])\n",
        "new_rdd = original_rdd.filter(lambda x: x % 2)"
      ],
      "execution_count": 26,
      "outputs": []
    },
    {
      "cell_type": "code",
      "metadata": {
        "colab": {
          "base_uri": "https://localhost:8080/"
        },
        "id": "jkAg4cpI_ELM",
        "outputId": "f16cc947-91ba-4b6b-9b81-3c2a3b20a8a2"
      },
      "source": [
        "new_rdd.collect()"
      ],
      "execution_count": 27,
      "outputs": [
        {
          "output_type": "execute_result",
          "data": {
            "text/plain": [
              "[1, 3, 5, 7]"
            ]
          },
          "metadata": {},
          "execution_count": 27
        }
      ]
    },
    {
      "cell_type": "markdown",
      "metadata": {
        "id": "dioXo719ABxz"
      },
      "source": [
        "## 기본 RDD 변환"
      ]
    },
    {
      "cell_type": "code",
      "metadata": {
        "colab": {
          "base_uri": "https://localhost:8080/"
        },
        "id": "VRG_uG6DAb4H",
        "outputId": "e99d4ccf-8b03-46a8-af13-db0cc7bda187"
      },
      "source": [
        "!cat /content/spark-3.3.2-bin-hadoop3/licenses/LICENSE-AnchorJS.txt"
      ],
      "execution_count": 28,
      "outputs": [
        {
          "output_type": "stream",
          "name": "stdout",
          "text": [
            "The MIT License (MIT)\n",
            "\n",
            "Copyright (c) <year> <copyright holders>\n",
            "\n",
            "Permission is hereby granted, free of charge, to any person obtaining a copy\n",
            "of this software and associated documentation files (the \"Software\"), to deal\n",
            "in the Software without restriction, including without limitation the rights\n",
            "to use, copy, modify, merge, publish, distribute, sublicense, and/or sell\n",
            "copies of the Software, and to permit persons to whom the Software is\n",
            "furnished to do so, subject to the following conditions:\n",
            "\n",
            "The above copyright notice and this permission notice shall be included in\n",
            "all copies or substantial portions of the Software.\n",
            "\n",
            "THE SOFTWARE IS PROVIDED \"AS IS\", WITHOUT WARRANTY OF ANY KIND, EXPRESS OR\n",
            "IMPLIED, INCLUDING BUT NOT LIMITED TO THE WARRANTIES OF MERCHANTABILITY,\n",
            "FITNESS FOR A PARTICULAR PURPOSE AND NONINFRINGEMENT. IN NO EVENT SHALL THE\n",
            "AUTHORS OR COPYRIGHT HOLDERS BE LIABLE FOR ANY CLAIM, DAMAGES OR OTHER\n",
            "LIABILITY, WHETHER IN AN ACTION OF CONTRACT, TORT OR OTHERWISE, ARISING FROM,\n",
            "OUT OF OR IN CONNECTION WITH THE SOFTWARE OR THE USE OR OTHER DEALINGS IN\n",
            "THE SOFTWARE."
          ]
        }
      ]
    },
    {
      "cell_type": "code",
      "metadata": {
        "id": "uSGeFpDUCX_H"
      },
      "source": [
        "licenses = sc.textFile('file:///content/spark-3.3.2-bin-hadoop3/licenses/LICENSE-AnchorJS.txt')"
      ],
      "execution_count": 29,
      "outputs": []
    },
    {
      "cell_type": "markdown",
      "metadata": {
        "id": "ToScXei2A8KU"
      },
      "source": [
        "### map(), flatMap(), filter()"
      ]
    },
    {
      "cell_type": "code",
      "metadata": {
        "colab": {
          "base_uri": "https://localhost:8080/"
        },
        "id": "hGqYRPVjABd8",
        "outputId": "94b8d78e-406e-4769-8c68-31aee5c2f6f1"
      },
      "source": [
        "words = licenses.flatMap(lambda x: x.split(' '))\n",
        "words.take(5)"
      ],
      "execution_count": 30,
      "outputs": [
        {
          "output_type": "execute_result",
          "data": {
            "text/plain": [
              "['The', 'MIT', 'License', '(MIT)', '']"
            ]
          },
          "metadata": {},
          "execution_count": 30
        }
      ]
    },
    {
      "cell_type": "code",
      "metadata": {
        "colab": {
          "base_uri": "https://localhost:8080/"
        },
        "id": "be9ZgKGp_zKt",
        "outputId": "fcc054ea-e01b-46c1-ad94-9244044931e9"
      },
      "source": [
        "lowercase = words.map(lambda x: x.lower())\n",
        "lowercase.take(5)"
      ],
      "execution_count": 31,
      "outputs": [
        {
          "output_type": "execute_result",
          "data": {
            "text/plain": [
              "['the', 'mit', 'license', '(mit)', '']"
            ]
          },
          "metadata": {},
          "execution_count": 31
        }
      ]
    },
    {
      "cell_type": "code",
      "metadata": {
        "colab": {
          "base_uri": "https://localhost:8080/"
        },
        "id": "PmFJ7sDcAn7N",
        "outputId": "a115bb1b-c563-4300-f064-74b945374f36"
      },
      "source": [
        "longwords = lowercase.filter(lambda x: len(x) > 12)\n",
        "longwords.take(2)"
      ],
      "execution_count": 32,
      "outputs": [
        {
          "output_type": "execute_result",
          "data": {
            "text/plain": [
              "['documentation', 'merchantability,']"
            ]
          },
          "metadata": {},
          "execution_count": 32
        }
      ]
    },
    {
      "cell_type": "markdown",
      "metadata": {
        "id": "nU1sPQrDBfbd"
      },
      "source": [
        "### count()"
      ]
    },
    {
      "cell_type": "code",
      "metadata": {
        "colab": {
          "base_uri": "https://localhost:8080/"
        },
        "id": "M3DrPV_zBej8",
        "outputId": "1343935a-bc74-4e70-81e0-7e2377b93fbb"
      },
      "source": [
        "words = licenses.flatMap(lambda x: x.split(' '))\n",
        "words.count()"
      ],
      "execution_count": 33,
      "outputs": [
        {
          "output_type": "execute_result",
          "data": {
            "text/plain": [
              "175"
            ]
          },
          "metadata": {},
          "execution_count": 33
        }
      ]
    },
    {
      "cell_type": "markdown",
      "metadata": {
        "id": "XH-jbayzBDbh"
      },
      "source": [
        "### distinct()"
      ]
    },
    {
      "cell_type": "code",
      "metadata": {
        "colab": {
          "base_uri": "https://localhost:8080/"
        },
        "id": "EkUfewuYBE8u",
        "outputId": "6f179e4c-5b1c-4f56-b49d-93f98ea743a5"
      },
      "source": [
        "words = licenses.flatMap(lambda x: x.split(' '))\n",
        "lowercase = words.map(lambda x: x.lower())\n",
        "allwords = lowercase.count()\n",
        "distinctwords = lowercase.distinct().count()\n",
        "print(\"Total words: {}, Distinct Words:{}\".format(allwords, distinctwords))"
      ],
      "execution_count": 34,
      "outputs": [
        {
          "output_type": "stream",
          "name": "stdout",
          "text": [
            "Total words: 175, Distinct Words:107\n"
          ]
        }
      ]
    },
    {
      "cell_type": "markdown",
      "metadata": {
        "id": "5sLY_kodCNUf"
      },
      "source": [
        "### collect()"
      ]
    },
    {
      "cell_type": "code",
      "metadata": {
        "colab": {
          "base_uri": "https://localhost:8080/"
        },
        "id": "uPLePdF8CN_I",
        "outputId": "abb1c7c8-e748-44d0-9469-6a040b07ae95"
      },
      "source": [
        "words = licenses.flatMap(lambda x: x.split(' '))\n",
        "words.collect()"
      ],
      "execution_count": 35,
      "outputs": [
        {
          "output_type": "execute_result",
          "data": {
            "text/plain": [
              "['The',\n",
              " 'MIT',\n",
              " 'License',\n",
              " '(MIT)',\n",
              " '',\n",
              " 'Copyright',\n",
              " '(c)',\n",
              " '<year>',\n",
              " '<copyright',\n",
              " 'holders>',\n",
              " '',\n",
              " 'Permission',\n",
              " 'is',\n",
              " 'hereby',\n",
              " 'granted,',\n",
              " 'free',\n",
              " 'of',\n",
              " 'charge,',\n",
              " 'to',\n",
              " 'any',\n",
              " 'person',\n",
              " 'obtaining',\n",
              " 'a',\n",
              " 'copy',\n",
              " 'of',\n",
              " 'this',\n",
              " 'software',\n",
              " 'and',\n",
              " 'associated',\n",
              " 'documentation',\n",
              " 'files',\n",
              " '(the',\n",
              " '\"Software\"),',\n",
              " 'to',\n",
              " 'deal',\n",
              " 'in',\n",
              " 'the',\n",
              " 'Software',\n",
              " 'without',\n",
              " 'restriction,',\n",
              " 'including',\n",
              " 'without',\n",
              " 'limitation',\n",
              " 'the',\n",
              " 'rights',\n",
              " 'to',\n",
              " 'use,',\n",
              " 'copy,',\n",
              " 'modify,',\n",
              " 'merge,',\n",
              " 'publish,',\n",
              " 'distribute,',\n",
              " 'sublicense,',\n",
              " 'and/or',\n",
              " 'sell',\n",
              " 'copies',\n",
              " 'of',\n",
              " 'the',\n",
              " 'Software,',\n",
              " 'and',\n",
              " 'to',\n",
              " 'permit',\n",
              " 'persons',\n",
              " 'to',\n",
              " 'whom',\n",
              " 'the',\n",
              " 'Software',\n",
              " 'is',\n",
              " 'furnished',\n",
              " 'to',\n",
              " 'do',\n",
              " 'so,',\n",
              " 'subject',\n",
              " 'to',\n",
              " 'the',\n",
              " 'following',\n",
              " 'conditions:',\n",
              " '',\n",
              " 'The',\n",
              " 'above',\n",
              " 'copyright',\n",
              " 'notice',\n",
              " 'and',\n",
              " 'this',\n",
              " 'permission',\n",
              " 'notice',\n",
              " 'shall',\n",
              " 'be',\n",
              " 'included',\n",
              " 'in',\n",
              " 'all',\n",
              " 'copies',\n",
              " 'or',\n",
              " 'substantial',\n",
              " 'portions',\n",
              " 'of',\n",
              " 'the',\n",
              " 'Software.',\n",
              " '',\n",
              " 'THE',\n",
              " 'SOFTWARE',\n",
              " 'IS',\n",
              " 'PROVIDED',\n",
              " '\"AS',\n",
              " 'IS\",',\n",
              " 'WITHOUT',\n",
              " 'WARRANTY',\n",
              " 'OF',\n",
              " 'ANY',\n",
              " 'KIND,',\n",
              " 'EXPRESS',\n",
              " 'OR',\n",
              " 'IMPLIED,',\n",
              " 'INCLUDING',\n",
              " 'BUT',\n",
              " 'NOT',\n",
              " 'LIMITED',\n",
              " 'TO',\n",
              " 'THE',\n",
              " 'WARRANTIES',\n",
              " 'OF',\n",
              " 'MERCHANTABILITY,',\n",
              " 'FITNESS',\n",
              " 'FOR',\n",
              " 'A',\n",
              " 'PARTICULAR',\n",
              " 'PURPOSE',\n",
              " 'AND',\n",
              " 'NONINFRINGEMENT.',\n",
              " 'IN',\n",
              " 'NO',\n",
              " 'EVENT',\n",
              " 'SHALL',\n",
              " 'THE',\n",
              " 'AUTHORS',\n",
              " 'OR',\n",
              " 'COPYRIGHT',\n",
              " 'HOLDERS',\n",
              " 'BE',\n",
              " 'LIABLE',\n",
              " 'FOR',\n",
              " 'ANY',\n",
              " 'CLAIM,',\n",
              " 'DAMAGES',\n",
              " 'OR',\n",
              " 'OTHER',\n",
              " 'LIABILITY,',\n",
              " 'WHETHER',\n",
              " 'IN',\n",
              " 'AN',\n",
              " 'ACTION',\n",
              " 'OF',\n",
              " 'CONTRACT,',\n",
              " 'TORT',\n",
              " 'OR',\n",
              " 'OTHERWISE,',\n",
              " 'ARISING',\n",
              " 'FROM,',\n",
              " 'OUT',\n",
              " 'OF',\n",
              " 'OR',\n",
              " 'IN',\n",
              " 'CONNECTION',\n",
              " 'WITH',\n",
              " 'THE',\n",
              " 'SOFTWARE',\n",
              " 'OR',\n",
              " 'THE',\n",
              " 'USE',\n",
              " 'OR',\n",
              " 'OTHER',\n",
              " 'DEALINGS',\n",
              " 'IN',\n",
              " 'THE',\n",
              " 'SOFTWARE.']"
            ]
          },
          "metadata": {},
          "execution_count": 35
        }
      ]
    },
    {
      "cell_type": "markdown",
      "metadata": {
        "id": "OdOMvbyNCndI"
      },
      "source": [
        "### take()"
      ]
    },
    {
      "cell_type": "code",
      "metadata": {
        "colab": {
          "base_uri": "https://localhost:8080/"
        },
        "id": "_3Bu6dRVCgUT",
        "outputId": "b4d6bad2-d336-45a4-ec7d-83858ac473df"
      },
      "source": [
        "words = licenses.flatMap(lambda x: x.split(' '))\n",
        "words.take(3)"
      ],
      "execution_count": 36,
      "outputs": [
        {
          "output_type": "execute_result",
          "data": {
            "text/plain": [
              "['The', 'MIT', 'License']"
            ]
          },
          "metadata": {},
          "execution_count": 36
        }
      ]
    },
    {
      "cell_type": "markdown",
      "metadata": {
        "id": "3x--uLiuC4uA"
      },
      "source": [
        "## PairRDD 변환"
      ]
    },
    {
      "cell_type": "code",
      "metadata": {
        "id": "Uj3d3mtMDKeY"
      },
      "source": [
        "kvpairs = sc.parallelize([('city','Hayward')\n",
        "    ,('state','CA')\n",
        "    ,('zip',94541)\n",
        "    ,('country','USA')])"
      ],
      "execution_count": 37,
      "outputs": []
    },
    {
      "cell_type": "markdown",
      "metadata": {
        "id": "raWoIrj1DAe3"
      },
      "source": [
        "### keys()"
      ]
    },
    {
      "cell_type": "code",
      "metadata": {
        "colab": {
          "base_uri": "https://localhost:8080/"
        },
        "id": "6dagaiNqC9va",
        "outputId": "5d538e49-c609-42c0-9097-ac7d43b905ed"
      },
      "source": [
        "kvpairs.keys().collect()"
      ],
      "execution_count": 38,
      "outputs": [
        {
          "output_type": "execute_result",
          "data": {
            "text/plain": [
              "['city', 'state', 'zip', 'country']"
            ]
          },
          "metadata": {},
          "execution_count": 38
        }
      ]
    },
    {
      "cell_type": "markdown",
      "metadata": {
        "id": "FBqMCOrDDIID"
      },
      "source": [
        "### values()"
      ]
    },
    {
      "cell_type": "code",
      "metadata": {
        "colab": {
          "base_uri": "https://localhost:8080/"
        },
        "id": "6lr65WwCDJAU",
        "outputId": "4af219e2-5a16-4f14-8028-66e535323295"
      },
      "source": [
        "kvpairs.values().collect()"
      ],
      "execution_count": 39,
      "outputs": [
        {
          "output_type": "execute_result",
          "data": {
            "text/plain": [
              "['Hayward', 'CA', 94541, 'USA']"
            ]
          },
          "metadata": {},
          "execution_count": 39
        }
      ]
    },
    {
      "cell_type": "markdown",
      "metadata": {
        "id": "qURG05MZDP3Y"
      },
      "source": [
        "### keyBy()"
      ]
    },
    {
      "cell_type": "code",
      "metadata": {
        "colab": {
          "base_uri": "https://localhost:8080/"
        },
        "id": "zLFtFs0ODQaO",
        "outputId": "73f9618b-9c2c-4d08-f8ae-5582037ad4aa"
      },
      "source": [
        "# city, country, location_no\n",
        "locations = sc.parallelize([('Hayward', 'USA', 1)\n",
        "    ,('Baumholder','Germany', 2)\n",
        "    ,('Alexandria','USA', 3)\n",
        "    ,('Melbourne','Australia', 4)])\n",
        "bylocno = locations.keyBy(lambda x: x[2])\n",
        "bylocno.collect()"
      ],
      "execution_count": 40,
      "outputs": [
        {
          "output_type": "execute_result",
          "data": {
            "text/plain": [
              "[(1, ('Hayward', 'USA', 1)),\n",
              " (2, ('Baumholder', 'Germany', 2)),\n",
              " (3, ('Alexandria', 'USA', 3)),\n",
              " (4, ('Melbourne', 'Australia', 4))]"
            ]
          },
          "metadata": {},
          "execution_count": 40
        }
      ]
    },
    {
      "cell_type": "code",
      "source": [],
      "metadata": {
        "id": "kOwydkx5_j_z"
      },
      "execution_count": 40,
      "outputs": []
    }
  ]
}