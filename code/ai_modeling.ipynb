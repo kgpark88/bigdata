{
  "cells": [
    {
      "cell_type": "markdown",
      "metadata": {
        "id": "view-in-github",
        "colab_type": "text"
      },
      "source": [
        "<a href=\"https://colab.research.google.com/github/kgpark88/bigdata/blob/main/code/ai_modeling.ipynb\" target=\"_parent\"><img src=\"https://colab.research.google.com/assets/colab-badge.svg\" alt=\"Open In Colab\"/></a>"
      ]
    },
    {
      "cell_type": "markdown",
      "metadata": {
        "id": "Fh4RIW0bHTxp"
      },
      "source": [
        "###  데이터 로드\n",
        " - 데이터 출처 : https://www.kaggle.com/datasets/sjleshrac/airlines-customer-satisfaction"
      ]
    },
    {
      "cell_type": "code",
      "execution_count": 1,
      "metadata": {
        "id": "2UQl07zeHTxr"
      },
      "outputs": [],
      "source": [
        "# 필요한 라이브러리 불러오기\n",
        "import numpy as np\n",
        "import pandas as pd\n",
        "import warnings\n",
        "\n",
        "# 경고 메시지를 무시하도록 설정하기\n",
        "warnings.filterwarnings('ignore')"
      ]
    },
    {
      "cell_type": "code",
      "execution_count": 2,
      "metadata": {
        "id": "DnjMVFnUHTxt"
      },
      "outputs": [],
      "source": [
        "# df = pd.read_csv('Invistico_Airline.csv')\n",
        "df = pd.read_csv('https://raw.githubusercontent.com/kgpark88/bigdata/main/code/Invistico_Airline.csv')"
      ]
    },
    {
      "cell_type": "markdown",
      "metadata": {
        "id": "hDdF2SZgHTxt"
      },
      "source": [
        "### 데이터 전처리하기"
      ]
    },
    {
      "cell_type": "markdown",
      "metadata": {
        "id": "KEbSctDAHTxt"
      },
      "source": [
        "#### ■ 결측치 처리하기"
      ]
    },
    {
      "cell_type": "code",
      "execution_count": 3,
      "metadata": {
        "id": "zQkqf20GHTxu"
      },
      "outputs": [],
      "source": [
        "# SimpleImputer 객체로 결측치 대체하기\n",
        "from sklearn.impute import SimpleImputer\n",
        "\n",
        "mean_imputer = SimpleImputer(strategy='mean')\n",
        "df[\"Arrival Delay in Minutes\"] = mean_imputer.fit_transform(df[[\"Arrival Delay in Minutes\"]])"
      ]
    },
    {
      "cell_type": "markdown",
      "metadata": {
        "id": "AAsZDL9uHTxu"
      },
      "source": [
        "#### ■ 데이터 인코딩"
      ]
    },
    {
      "cell_type": "code",
      "execution_count": 4,
      "metadata": {
        "id": "l4ZLoTxdHTxu"
      },
      "outputs": [],
      "source": [
        "# object 컬럼 타입을 string 타입으로 변경하기\n",
        "cols = ['satisfaction', 'Gender', 'Customer Type', 'Type of Travel', 'Class']\n",
        "df[cols] = df[cols].astype(str)"
      ]
    },
    {
      "cell_type": "code",
      "execution_count": 5,
      "metadata": {
        "id": "bGt6CEkWHTxu"
      },
      "outputs": [],
      "source": [
        "# 범주형 데이터를 수치값으로 변경하기\n",
        "df['satisfaction'].replace(['dissatisfied','satisfied'], [0,1], inplace=True)"
      ]
    },
    {
      "cell_type": "code",
      "execution_count": 6,
      "metadata": {
        "id": "nsyn0v1wHTxv"
      },
      "outputs": [],
      "source": [
        "# 순서형 인코딩(Ordinal Encoding)하기\n",
        "categories = pd.Categorical(\n",
        "    df['Class'],\n",
        "    categories= ['Eco', 'Eco Plus', 'Business'],\n",
        "    ordered=True)\n",
        "labels, unique = pd.factorize(categories, sort=True)\n",
        "df['Class'] = labels"
      ]
    },
    {
      "cell_type": "code",
      "execution_count": 7,
      "metadata": {
        "id": "Ma3kju29HTxv"
      },
      "outputs": [],
      "source": [
        "# 원핫 인코딩(One Hot Encoding)하기\n",
        "cat_cols = ['Gender','Customer Type','Type of Travel']\n",
        "df = pd.get_dummies(df, columns=cat_cols)"
      ]
    },
    {
      "cell_type": "code",
      "execution_count": 8,
      "metadata": {
        "colab": {
          "base_uri": "https://localhost:8080/",
          "height": 351
        },
        "id": "Bw8VPuu0HTxv",
        "outputId": "a1abc67a-2efc-470d-baeb-a1d0875615de"
      },
      "outputs": [
        {
          "output_type": "execute_result",
          "data": {
            "text/plain": [
              "   satisfaction  Age  Class  Flight Distance  Seat comfort  \\\n",
              "0             1   65      0              265             0   \n",
              "1             1   47      2             2464             0   \n",
              "2             1   15      0             2138             0   \n",
              "3             1   60      0              623             0   \n",
              "4             1   70      0              354             0   \n",
              "\n",
              "   Departure/Arrival time convenient  Food and drink  Gate location  \\\n",
              "0                                  0               0              2   \n",
              "1                                  0               0              3   \n",
              "2                                  0               0              3   \n",
              "3                                  0               0              3   \n",
              "4                                  0               0              3   \n",
              "\n",
              "   Inflight wifi service  Inflight entertainment  ...  Cleanliness  \\\n",
              "0                      2                       4  ...            3   \n",
              "1                      0                       2  ...            3   \n",
              "2                      2                       0  ...            4   \n",
              "3                      3                       4  ...            1   \n",
              "4                      4                       3  ...            2   \n",
              "\n",
              "   Online boarding  Departure Delay in Minutes  Arrival Delay in Minutes  \\\n",
              "0                2                           0                       0.0   \n",
              "1                2                         310                     305.0   \n",
              "2                2                           0                       0.0   \n",
              "3                3                           0                       0.0   \n",
              "4                5                           0                       0.0   \n",
              "\n",
              "   Gender_Female  Gender_Male  Customer Type_Loyal Customer  \\\n",
              "0              1            0                             1   \n",
              "1              0            1                             1   \n",
              "2              1            0                             1   \n",
              "3              1            0                             1   \n",
              "4              1            0                             1   \n",
              "\n",
              "   Customer Type_disloyal Customer  Type of Travel_Business travel  \\\n",
              "0                                0                               0   \n",
              "1                                0                               0   \n",
              "2                                0                               0   \n",
              "3                                0                               0   \n",
              "4                                0                               0   \n",
              "\n",
              "   Type of Travel_Personal Travel  \n",
              "0                               1  \n",
              "1                               1  \n",
              "2                               1  \n",
              "3                               1  \n",
              "4                               1  \n",
              "\n",
              "[5 rows x 26 columns]"
            ],
            "text/html": [
              "\n",
              "\n",
              "  <div id=\"df-07031660-ec40-4cbc-80c1-a7dbda8c1cd8\">\n",
              "    <div class=\"colab-df-container\">\n",
              "      <div>\n",
              "<style scoped>\n",
              "    .dataframe tbody tr th:only-of-type {\n",
              "        vertical-align: middle;\n",
              "    }\n",
              "\n",
              "    .dataframe tbody tr th {\n",
              "        vertical-align: top;\n",
              "    }\n",
              "\n",
              "    .dataframe thead th {\n",
              "        text-align: right;\n",
              "    }\n",
              "</style>\n",
              "<table border=\"1\" class=\"dataframe\">\n",
              "  <thead>\n",
              "    <tr style=\"text-align: right;\">\n",
              "      <th></th>\n",
              "      <th>satisfaction</th>\n",
              "      <th>Age</th>\n",
              "      <th>Class</th>\n",
              "      <th>Flight Distance</th>\n",
              "      <th>Seat comfort</th>\n",
              "      <th>Departure/Arrival time convenient</th>\n",
              "      <th>Food and drink</th>\n",
              "      <th>Gate location</th>\n",
              "      <th>Inflight wifi service</th>\n",
              "      <th>Inflight entertainment</th>\n",
              "      <th>...</th>\n",
              "      <th>Cleanliness</th>\n",
              "      <th>Online boarding</th>\n",
              "      <th>Departure Delay in Minutes</th>\n",
              "      <th>Arrival Delay in Minutes</th>\n",
              "      <th>Gender_Female</th>\n",
              "      <th>Gender_Male</th>\n",
              "      <th>Customer Type_Loyal Customer</th>\n",
              "      <th>Customer Type_disloyal Customer</th>\n",
              "      <th>Type of Travel_Business travel</th>\n",
              "      <th>Type of Travel_Personal Travel</th>\n",
              "    </tr>\n",
              "  </thead>\n",
              "  <tbody>\n",
              "    <tr>\n",
              "      <th>0</th>\n",
              "      <td>1</td>\n",
              "      <td>65</td>\n",
              "      <td>0</td>\n",
              "      <td>265</td>\n",
              "      <td>0</td>\n",
              "      <td>0</td>\n",
              "      <td>0</td>\n",
              "      <td>2</td>\n",
              "      <td>2</td>\n",
              "      <td>4</td>\n",
              "      <td>...</td>\n",
              "      <td>3</td>\n",
              "      <td>2</td>\n",
              "      <td>0</td>\n",
              "      <td>0.0</td>\n",
              "      <td>1</td>\n",
              "      <td>0</td>\n",
              "      <td>1</td>\n",
              "      <td>0</td>\n",
              "      <td>0</td>\n",
              "      <td>1</td>\n",
              "    </tr>\n",
              "    <tr>\n",
              "      <th>1</th>\n",
              "      <td>1</td>\n",
              "      <td>47</td>\n",
              "      <td>2</td>\n",
              "      <td>2464</td>\n",
              "      <td>0</td>\n",
              "      <td>0</td>\n",
              "      <td>0</td>\n",
              "      <td>3</td>\n",
              "      <td>0</td>\n",
              "      <td>2</td>\n",
              "      <td>...</td>\n",
              "      <td>3</td>\n",
              "      <td>2</td>\n",
              "      <td>310</td>\n",
              "      <td>305.0</td>\n",
              "      <td>0</td>\n",
              "      <td>1</td>\n",
              "      <td>1</td>\n",
              "      <td>0</td>\n",
              "      <td>0</td>\n",
              "      <td>1</td>\n",
              "    </tr>\n",
              "    <tr>\n",
              "      <th>2</th>\n",
              "      <td>1</td>\n",
              "      <td>15</td>\n",
              "      <td>0</td>\n",
              "      <td>2138</td>\n",
              "      <td>0</td>\n",
              "      <td>0</td>\n",
              "      <td>0</td>\n",
              "      <td>3</td>\n",
              "      <td>2</td>\n",
              "      <td>0</td>\n",
              "      <td>...</td>\n",
              "      <td>4</td>\n",
              "      <td>2</td>\n",
              "      <td>0</td>\n",
              "      <td>0.0</td>\n",
              "      <td>1</td>\n",
              "      <td>0</td>\n",
              "      <td>1</td>\n",
              "      <td>0</td>\n",
              "      <td>0</td>\n",
              "      <td>1</td>\n",
              "    </tr>\n",
              "    <tr>\n",
              "      <th>3</th>\n",
              "      <td>1</td>\n",
              "      <td>60</td>\n",
              "      <td>0</td>\n",
              "      <td>623</td>\n",
              "      <td>0</td>\n",
              "      <td>0</td>\n",
              "      <td>0</td>\n",
              "      <td>3</td>\n",
              "      <td>3</td>\n",
              "      <td>4</td>\n",
              "      <td>...</td>\n",
              "      <td>1</td>\n",
              "      <td>3</td>\n",
              "      <td>0</td>\n",
              "      <td>0.0</td>\n",
              "      <td>1</td>\n",
              "      <td>0</td>\n",
              "      <td>1</td>\n",
              "      <td>0</td>\n",
              "      <td>0</td>\n",
              "      <td>1</td>\n",
              "    </tr>\n",
              "    <tr>\n",
              "      <th>4</th>\n",
              "      <td>1</td>\n",
              "      <td>70</td>\n",
              "      <td>0</td>\n",
              "      <td>354</td>\n",
              "      <td>0</td>\n",
              "      <td>0</td>\n",
              "      <td>0</td>\n",
              "      <td>3</td>\n",
              "      <td>4</td>\n",
              "      <td>3</td>\n",
              "      <td>...</td>\n",
              "      <td>2</td>\n",
              "      <td>5</td>\n",
              "      <td>0</td>\n",
              "      <td>0.0</td>\n",
              "      <td>1</td>\n",
              "      <td>0</td>\n",
              "      <td>1</td>\n",
              "      <td>0</td>\n",
              "      <td>0</td>\n",
              "      <td>1</td>\n",
              "    </tr>\n",
              "  </tbody>\n",
              "</table>\n",
              "<p>5 rows × 26 columns</p>\n",
              "</div>\n",
              "      <button class=\"colab-df-convert\" onclick=\"convertToInteractive('df-07031660-ec40-4cbc-80c1-a7dbda8c1cd8')\"\n",
              "              title=\"Convert this dataframe to an interactive table.\"\n",
              "              style=\"display:none;\">\n",
              "\n",
              "  <svg xmlns=\"http://www.w3.org/2000/svg\" height=\"24px\"viewBox=\"0 0 24 24\"\n",
              "       width=\"24px\">\n",
              "    <path d=\"M0 0h24v24H0V0z\" fill=\"none\"/>\n",
              "    <path d=\"M18.56 5.44l.94 2.06.94-2.06 2.06-.94-2.06-.94-.94-2.06-.94 2.06-2.06.94zm-11 1L8.5 8.5l.94-2.06 2.06-.94-2.06-.94L8.5 2.5l-.94 2.06-2.06.94zm10 10l.94 2.06.94-2.06 2.06-.94-2.06-.94-.94-2.06-.94 2.06-2.06.94z\"/><path d=\"M17.41 7.96l-1.37-1.37c-.4-.4-.92-.59-1.43-.59-.52 0-1.04.2-1.43.59L10.3 9.45l-7.72 7.72c-.78.78-.78 2.05 0 2.83L4 21.41c.39.39.9.59 1.41.59.51 0 1.02-.2 1.41-.59l7.78-7.78 2.81-2.81c.8-.78.8-2.07 0-2.86zM5.41 20L4 18.59l7.72-7.72 1.47 1.35L5.41 20z\"/>\n",
              "  </svg>\n",
              "      </button>\n",
              "\n",
              "\n",
              "\n",
              "    <div id=\"df-8f229f81-b069-4cab-ab0c-f28ea3845007\">\n",
              "      <button class=\"colab-df-quickchart\" onclick=\"quickchart('df-8f229f81-b069-4cab-ab0c-f28ea3845007')\"\n",
              "              title=\"Suggest charts.\"\n",
              "              style=\"display:none;\">\n",
              "\n",
              "<svg xmlns=\"http://www.w3.org/2000/svg\" height=\"24px\"viewBox=\"0 0 24 24\"\n",
              "     width=\"24px\">\n",
              "    <g>\n",
              "        <path d=\"M19 3H5c-1.1 0-2 .9-2 2v14c0 1.1.9 2 2 2h14c1.1 0 2-.9 2-2V5c0-1.1-.9-2-2-2zM9 17H7v-7h2v7zm4 0h-2V7h2v10zm4 0h-2v-4h2v4z\"/>\n",
              "    </g>\n",
              "</svg>\n",
              "      </button>\n",
              "    </div>\n",
              "\n",
              "<style>\n",
              "  .colab-df-quickchart {\n",
              "    background-color: #E8F0FE;\n",
              "    border: none;\n",
              "    border-radius: 50%;\n",
              "    cursor: pointer;\n",
              "    display: none;\n",
              "    fill: #1967D2;\n",
              "    height: 32px;\n",
              "    padding: 0 0 0 0;\n",
              "    width: 32px;\n",
              "  }\n",
              "\n",
              "  .colab-df-quickchart:hover {\n",
              "    background-color: #E2EBFA;\n",
              "    box-shadow: 0px 1px 2px rgba(60, 64, 67, 0.3), 0px 1px 3px 1px rgba(60, 64, 67, 0.15);\n",
              "    fill: #174EA6;\n",
              "  }\n",
              "\n",
              "  [theme=dark] .colab-df-quickchart {\n",
              "    background-color: #3B4455;\n",
              "    fill: #D2E3FC;\n",
              "  }\n",
              "\n",
              "  [theme=dark] .colab-df-quickchart:hover {\n",
              "    background-color: #434B5C;\n",
              "    box-shadow: 0px 1px 3px 1px rgba(0, 0, 0, 0.15);\n",
              "    filter: drop-shadow(0px 1px 2px rgba(0, 0, 0, 0.3));\n",
              "    fill: #FFFFFF;\n",
              "  }\n",
              "</style>\n",
              "\n",
              "    <script>\n",
              "      async function quickchart(key) {\n",
              "        const containerElement = document.querySelector('#' + key);\n",
              "        const charts = await google.colab.kernel.invokeFunction(\n",
              "            'suggestCharts', [key], {});\n",
              "      }\n",
              "    </script>\n",
              "\n",
              "      <script>\n",
              "\n",
              "function displayQuickchartButton(domScope) {\n",
              "  let quickchartButtonEl =\n",
              "    domScope.querySelector('#df-8f229f81-b069-4cab-ab0c-f28ea3845007 button.colab-df-quickchart');\n",
              "  quickchartButtonEl.style.display =\n",
              "    google.colab.kernel.accessAllowed ? 'block' : 'none';\n",
              "}\n",
              "\n",
              "        displayQuickchartButton(document);\n",
              "      </script>\n",
              "      <style>\n",
              "    .colab-df-container {\n",
              "      display:flex;\n",
              "      flex-wrap:wrap;\n",
              "      gap: 12px;\n",
              "    }\n",
              "\n",
              "    .colab-df-convert {\n",
              "      background-color: #E8F0FE;\n",
              "      border: none;\n",
              "      border-radius: 50%;\n",
              "      cursor: pointer;\n",
              "      display: none;\n",
              "      fill: #1967D2;\n",
              "      height: 32px;\n",
              "      padding: 0 0 0 0;\n",
              "      width: 32px;\n",
              "    }\n",
              "\n",
              "    .colab-df-convert:hover {\n",
              "      background-color: #E2EBFA;\n",
              "      box-shadow: 0px 1px 2px rgba(60, 64, 67, 0.3), 0px 1px 3px 1px rgba(60, 64, 67, 0.15);\n",
              "      fill: #174EA6;\n",
              "    }\n",
              "\n",
              "    [theme=dark] .colab-df-convert {\n",
              "      background-color: #3B4455;\n",
              "      fill: #D2E3FC;\n",
              "    }\n",
              "\n",
              "    [theme=dark] .colab-df-convert:hover {\n",
              "      background-color: #434B5C;\n",
              "      box-shadow: 0px 1px 3px 1px rgba(0, 0, 0, 0.15);\n",
              "      filter: drop-shadow(0px 1px 2px rgba(0, 0, 0, 0.3));\n",
              "      fill: #FFFFFF;\n",
              "    }\n",
              "  </style>\n",
              "\n",
              "      <script>\n",
              "        const buttonEl =\n",
              "          document.querySelector('#df-07031660-ec40-4cbc-80c1-a7dbda8c1cd8 button.colab-df-convert');\n",
              "        buttonEl.style.display =\n",
              "          google.colab.kernel.accessAllowed ? 'block' : 'none';\n",
              "\n",
              "        async function convertToInteractive(key) {\n",
              "          const element = document.querySelector('#df-07031660-ec40-4cbc-80c1-a7dbda8c1cd8');\n",
              "          const dataTable =\n",
              "            await google.colab.kernel.invokeFunction('convertToInteractive',\n",
              "                                                     [key], {});\n",
              "          if (!dataTable) return;\n",
              "\n",
              "          const docLinkHtml = 'Like what you see? Visit the ' +\n",
              "            '<a target=\"_blank\" href=https://colab.research.google.com/notebooks/data_table.ipynb>data table notebook</a>'\n",
              "            + ' to learn more about interactive tables.';\n",
              "          element.innerHTML = '';\n",
              "          dataTable['output_type'] = 'display_data';\n",
              "          await google.colab.output.renderOutput(dataTable, element);\n",
              "          const docLink = document.createElement('div');\n",
              "          docLink.innerHTML = docLinkHtml;\n",
              "          element.appendChild(docLink);\n",
              "        }\n",
              "      </script>\n",
              "    </div>\n",
              "  </div>\n"
            ]
          },
          "metadata": {},
          "execution_count": 8
        }
      ],
      "source": [
        "# 데이터 전처리 결과 확인하기\n",
        "df.head()"
      ]
    },
    {
      "cell_type": "code",
      "execution_count": 9,
      "metadata": {
        "colab": {
          "base_uri": "https://localhost:8080/"
        },
        "id": "SDhWTCKwHTxw",
        "outputId": "cc20bb33-f851-4728-8201-1f2e931363f1"
      },
      "outputs": [
        {
          "output_type": "execute_result",
          "data": {
            "text/plain": [
              "satisfaction                           int64\n",
              "Age                                    int64\n",
              "Class                                  int64\n",
              "Flight Distance                        int64\n",
              "Seat comfort                           int64\n",
              "Departure/Arrival time convenient      int64\n",
              "Food and drink                         int64\n",
              "Gate location                          int64\n",
              "Inflight wifi service                  int64\n",
              "Inflight entertainment                 int64\n",
              "Online support                         int64\n",
              "Ease of Online booking                 int64\n",
              "On-board service                       int64\n",
              "Leg room service                       int64\n",
              "Baggage handling                       int64\n",
              "Checkin service                        int64\n",
              "Cleanliness                            int64\n",
              "Online boarding                        int64\n",
              "Departure Delay in Minutes             int64\n",
              "Arrival Delay in Minutes             float64\n",
              "Gender_Female                          uint8\n",
              "Gender_Male                            uint8\n",
              "Customer Type_Loyal Customer           uint8\n",
              "Customer Type_disloyal Customer        uint8\n",
              "Type of Travel_Business travel         uint8\n",
              "Type of Travel_Personal Travel         uint8\n",
              "dtype: object"
            ]
          },
          "metadata": {},
          "execution_count": 9
        }
      ],
      "source": [
        "# 데이터 타입 확인하기\n",
        "df.dtypes"
      ]
    },
    {
      "cell_type": "markdown",
      "metadata": {
        "id": "5TP5Kl0JHTxx"
      },
      "source": [
        "#### ■ 데이터셋 분리하기"
      ]
    },
    {
      "cell_type": "code",
      "execution_count": 10,
      "metadata": {
        "colab": {
          "base_uri": "https://localhost:8080/"
        },
        "id": "U28U-7KUHTxx",
        "outputId": "205438b7-3d6d-4d0a-9f2a-c01e3f767a12"
      },
      "outputs": [
        {
          "output_type": "stream",
          "name": "stdout",
          "text": [
            "훈련 데이터셋 크기 : X_train (88318, 25), y_train (88318,)\n",
            "검증 데이터셋 크기 : X_val (22080, 25), y_val (22080,)\n",
            "테스트 데이터셋 크기 : X_val (19482, 25), y_val (19482,)\n"
          ]
        }
      ],
      "source": [
        "from sklearn.model_selection import train_test_split\n",
        "\n",
        "# 데이터셋을 입력(X)과 레이블(y)로 분리하기\n",
        "X = df.drop(['satisfaction'], axis=1)\n",
        "y = df['satisfaction'].reset_index(drop=True)\n",
        "\n",
        "# 테스트 데이터셋(test data)로 분리하기\n",
        "X_train, X_test, y_train, y_test = train_test_split(X, y,\n",
        "    test_size=0.15,\n",
        "    random_state=2023,\n",
        "    stratify=y)\n",
        "\n",
        "# 훈련 데이터(train data)와 검증 데이터(validation data) 분리하기\n",
        "X_train, X_val, y_train, y_val = train_test_split(X_train, y_train,\n",
        "    test_size=0.2,\n",
        "    random_state=2023,\n",
        "    stratify=y_train)\n",
        "\n",
        "print(f'훈련 데이터셋 크기 : X_train {X_train.shape}, y_train {y_train.shape}')\n",
        "print(f'검증 데이터셋 크기 : X_val {X_val.shape}, y_val {y_val.shape}')\n",
        "print(f'테스트 데이터셋 크기 : X_val {X_test.shape}, y_val {y_test.shape}')"
      ]
    },
    {
      "cell_type": "markdown",
      "metadata": {
        "id": "FDV-TkHmHTxx"
      },
      "source": [
        "#### ■ 데이터 스케일링하기"
      ]
    },
    {
      "cell_type": "code",
      "execution_count": 11,
      "metadata": {
        "colab": {
          "base_uri": "https://localhost:8080/"
        },
        "id": "ZvdPemqsHTxx",
        "outputId": "2ff7f73a-c380-4f57-c570-747f143e376c"
      },
      "outputs": [
        {
          "output_type": "stream",
          "name": "stdout",
          "text": [
            "[[0.69230769 0.         0.18098826 ... 0.         0.         1.        ]\n",
            " [0.42307692 0.         0.21489639 ... 0.         1.         0.        ]\n",
            " [0.42307692 0.         0.26184611 ... 0.         0.         1.        ]\n",
            " ...\n",
            " [0.73076923 0.         0.33400956 ... 0.         0.         1.        ]\n",
            " [0.34615385 1.         0.30024634 ... 1.         1.         0.        ]\n",
            " [0.48717949 1.         0.36907695 ... 0.         1.         0.        ]]\n"
          ]
        }
      ],
      "source": [
        "from sklearn.preprocessing import MinMaxScaler\n",
        "\n",
        "# 데이터 정규화하기\n",
        "scaler = MinMaxScaler()\n",
        "scaler.fit(X_train)\n",
        "X_train = scaler.transform(X_train)\n",
        "X_val   = scaler.transform(X_val)\n",
        "X_test  = scaler.transform(X_test)\n",
        "\n",
        "print(X_train)"
      ]
    },
    {
      "cell_type": "markdown",
      "metadata": {
        "id": "rkIhjlwiHTxy"
      },
      "source": [
        "### 모델 구성"
      ]
    },
    {
      "cell_type": "code",
      "execution_count": 12,
      "metadata": {
        "id": "pg6rl4_aHTxy"
      },
      "outputs": [],
      "source": [
        "import tensorflow as tf\n",
        "from tensorflow import keras\n",
        "from tensorflow.keras.layers import Input, Dense, Dropout\n",
        "from tensorflow.keras.layers import BatchNormalization\n",
        "from tensorflow.keras.models import Sequential, Model\n",
        "from tensorflow.keras.callbacks import EarlyStopping, ModelCheckpoint\n",
        "\n",
        "keras.backend.clear_session()\n",
        "\n",
        "model = Sequential()\n",
        "model.add(Dense(32, activation='relu', input_shape=(25,)))\n",
        "model.add(Dense(64, activation='relu'))\n",
        "model.add(Dense(128, activation='relu'))\n",
        "model.add(Dense(64, activation='relu'))\n",
        "model.add(Dropout(0.3))\n",
        "model.add(Dense(32, activation='relu'))\n",
        "model.add(Dropout(0.2))\n",
        "model.add(Dense(1, activation='sigmoid'))"
      ]
    },
    {
      "cell_type": "markdown",
      "metadata": {
        "id": "heo-FETyHTxy"
      },
      "source": [
        "### 모델 학습 환경 설정"
      ]
    },
    {
      "cell_type": "code",
      "execution_count": 13,
      "metadata": {
        "id": "neLfOQ7xHTxz"
      },
      "outputs": [],
      "source": [
        "# 모델을 학습시킬 최적화 방법, loss 계산 방법, 평가 방법 설정하기\n",
        "model.compile(optimizer='adam',\n",
        "              loss='binary_crossentropy',\n",
        "              metrics=['accuracy'])"
      ]
    },
    {
      "cell_type": "markdown",
      "metadata": {
        "id": "8SkKzgZDHTxz"
      },
      "source": [
        "### 모델 학습"
      ]
    },
    {
      "cell_type": "code",
      "execution_count": 14,
      "metadata": {
        "colab": {
          "base_uri": "https://localhost:8080/"
        },
        "id": "Svw9VthxHTxz",
        "outputId": "3bcc868d-38d6-4fd5-fb1f-0d4c06008ba4"
      },
      "outputs": [
        {
          "output_type": "stream",
          "name": "stdout",
          "text": [
            "Epoch 1/100\n",
            "690/690 [==============================] - ETA: 0s - loss: 0.2875 - accuracy: 0.8803\n",
            "Epoch 1: val_loss improved from inf to 0.20722, saving model to best_model.h5\n",
            "690/690 [==============================] - 19s 7ms/step - loss: 0.2875 - accuracy: 0.8803 - val_loss: 0.2072 - val_accuracy: 0.9131\n",
            "Epoch 2/100\n",
            "684/690 [============================>.] - ETA: 0s - loss: 0.1972 - accuracy: 0.9181\n",
            "Epoch 2: val_loss improved from 0.20722 to 0.17346, saving model to best_model.h5\n",
            "690/690 [==============================] - 5s 7ms/step - loss: 0.1971 - accuracy: 0.9181 - val_loss: 0.1735 - val_accuracy: 0.9259\n",
            "Epoch 3/100\n",
            "682/690 [============================>.] - ETA: 0s - loss: 0.1728 - accuracy: 0.9269\n",
            "Epoch 3: val_loss improved from 0.17346 to 0.15295, saving model to best_model.h5\n",
            "690/690 [==============================] - 4s 5ms/step - loss: 0.1727 - accuracy: 0.9270 - val_loss: 0.1530 - val_accuracy: 0.9305\n",
            "Epoch 4/100\n",
            "683/690 [============================>.] - ETA: 0s - loss: 0.1592 - accuracy: 0.9322\n",
            "Epoch 4: val_loss improved from 0.15295 to 0.14184, saving model to best_model.h5\n",
            "690/690 [==============================] - 4s 6ms/step - loss: 0.1592 - accuracy: 0.9322 - val_loss: 0.1418 - val_accuracy: 0.9367\n",
            "Epoch 5/100\n",
            "686/690 [============================>.] - ETA: 0s - loss: 0.1495 - accuracy: 0.9371\n",
            "Epoch 5: val_loss did not improve from 0.14184\n",
            "690/690 [==============================] - 7s 11ms/step - loss: 0.1494 - accuracy: 0.9372 - val_loss: 0.1434 - val_accuracy: 0.9351\n",
            "Epoch 6/100\n",
            "690/690 [==============================] - ETA: 0s - loss: 0.1443 - accuracy: 0.9384\n",
            "Epoch 6: val_loss did not improve from 0.14184\n",
            "690/690 [==============================] - 7s 11ms/step - loss: 0.1443 - accuracy: 0.9384 - val_loss: 0.1438 - val_accuracy: 0.9362\n",
            "Epoch 7/100\n",
            "686/690 [============================>.] - ETA: 0s - loss: 0.1377 - accuracy: 0.9413\n",
            "Epoch 7: val_loss improved from 0.14184 to 0.12935, saving model to best_model.h5\n",
            "690/690 [==============================] - 5s 7ms/step - loss: 0.1377 - accuracy: 0.9413 - val_loss: 0.1294 - val_accuracy: 0.9426\n",
            "Epoch 8/100\n",
            "686/690 [============================>.] - ETA: 0s - loss: 0.1329 - accuracy: 0.9431\n",
            "Epoch 8: val_loss did not improve from 0.12935\n",
            "690/690 [==============================] - 4s 5ms/step - loss: 0.1330 - accuracy: 0.9431 - val_loss: 0.1361 - val_accuracy: 0.9392\n",
            "Epoch 9/100\n",
            "683/690 [============================>.] - ETA: 0s - loss: 0.1303 - accuracy: 0.9444\n",
            "Epoch 9: val_loss improved from 0.12935 to 0.12413, saving model to best_model.h5\n",
            "690/690 [==============================] - 4s 6ms/step - loss: 0.1302 - accuracy: 0.9444 - val_loss: 0.1241 - val_accuracy: 0.9437\n",
            "Epoch 10/100\n",
            "689/690 [============================>.] - ETA: 0s - loss: 0.1279 - accuracy: 0.9454\n",
            "Epoch 10: val_loss improved from 0.12413 to 0.12042, saving model to best_model.h5\n",
            "690/690 [==============================] - 5s 7ms/step - loss: 0.1278 - accuracy: 0.9455 - val_loss: 0.1204 - val_accuracy: 0.9459\n",
            "Epoch 11/100\n",
            "685/690 [============================>.] - ETA: 0s - loss: 0.1250 - accuracy: 0.9458\n",
            "Epoch 11: val_loss did not improve from 0.12042\n",
            "690/690 [==============================] - 4s 6ms/step - loss: 0.1252 - accuracy: 0.9456 - val_loss: 0.1248 - val_accuracy: 0.9458\n",
            "Epoch 12/100\n",
            "682/690 [============================>.] - ETA: 0s - loss: 0.1223 - accuracy: 0.9470\n",
            "Epoch 12: val_loss improved from 0.12042 to 0.11413, saving model to best_model.h5\n",
            "690/690 [==============================] - 4s 6ms/step - loss: 0.1222 - accuracy: 0.9470 - val_loss: 0.1141 - val_accuracy: 0.9494\n",
            "Epoch 13/100\n",
            "687/690 [============================>.] - ETA: 0s - loss: 0.1205 - accuracy: 0.9478\n",
            "Epoch 13: val_loss did not improve from 0.11413\n",
            "690/690 [==============================] - 6s 8ms/step - loss: 0.1205 - accuracy: 0.9478 - val_loss: 0.1150 - val_accuracy: 0.9500\n",
            "Epoch 14/100\n",
            "683/690 [============================>.] - ETA: 0s - loss: 0.1182 - accuracy: 0.9487\n",
            "Epoch 14: val_loss improved from 0.11413 to 0.11269, saving model to best_model.h5\n",
            "690/690 [==============================] - 5s 7ms/step - loss: 0.1183 - accuracy: 0.9487 - val_loss: 0.1127 - val_accuracy: 0.9495\n",
            "Epoch 15/100\n",
            "686/690 [============================>.] - ETA: 0s - loss: 0.1163 - accuracy: 0.9489\n",
            "Epoch 15: val_loss did not improve from 0.11269\n",
            "690/690 [==============================] - 4s 6ms/step - loss: 0.1162 - accuracy: 0.9489 - val_loss: 0.1181 - val_accuracy: 0.9467\n",
            "Epoch 16/100\n",
            "688/690 [============================>.] - ETA: 0s - loss: 0.1156 - accuracy: 0.9504\n",
            "Epoch 16: val_loss did not improve from 0.11269\n",
            "690/690 [==============================] - 5s 7ms/step - loss: 0.1156 - accuracy: 0.9503 - val_loss: 0.1160 - val_accuracy: 0.9486\n",
            "Epoch 17/100\n",
            "685/690 [============================>.] - ETA: 0s - loss: 0.1133 - accuracy: 0.9510\n",
            "Epoch 17: val_loss did not improve from 0.11269\n",
            "690/690 [==============================] - 4s 6ms/step - loss: 0.1133 - accuracy: 0.9509 - val_loss: 0.1171 - val_accuracy: 0.9492\n",
            "Epoch 18/100\n",
            "688/690 [============================>.] - ETA: 0s - loss: 0.1121 - accuracy: 0.9514\n",
            "Epoch 18: val_loss did not improve from 0.11269\n",
            "690/690 [==============================] - 4s 6ms/step - loss: 0.1122 - accuracy: 0.9514 - val_loss: 0.1131 - val_accuracy: 0.9499\n",
            "Epoch 19/100\n",
            "686/690 [============================>.] - ETA: 0s - loss: 0.1100 - accuracy: 0.9515\n",
            "Epoch 19: val_loss improved from 0.11269 to 0.10840, saving model to best_model.h5\n",
            "690/690 [==============================] - 5s 7ms/step - loss: 0.1101 - accuracy: 0.9515 - val_loss: 0.1084 - val_accuracy: 0.9516\n",
            "Epoch 20/100\n",
            "689/690 [============================>.] - ETA: 0s - loss: 0.1095 - accuracy: 0.9517\n",
            "Epoch 20: val_loss did not improve from 0.10840\n",
            "690/690 [==============================] - 4s 6ms/step - loss: 0.1096 - accuracy: 0.9516 - val_loss: 0.1087 - val_accuracy: 0.9503\n",
            "Epoch 21/100\n",
            "681/690 [============================>.] - ETA: 0s - loss: 0.1090 - accuracy: 0.9523\n",
            "Epoch 21: val_loss did not improve from 0.10840\n",
            "690/690 [==============================] - 4s 6ms/step - loss: 0.1089 - accuracy: 0.9523 - val_loss: 0.1109 - val_accuracy: 0.9515\n",
            "Epoch 22/100\n",
            "684/690 [============================>.] - ETA: 0s - loss: 0.1079 - accuracy: 0.9530\n",
            "Epoch 22: val_loss did not improve from 0.10840\n",
            "690/690 [==============================] - 5s 8ms/step - loss: 0.1077 - accuracy: 0.9531 - val_loss: 0.1090 - val_accuracy: 0.9502\n",
            "Epoch 23/100\n",
            "687/690 [============================>.] - ETA: 0s - loss: 0.1053 - accuracy: 0.9536\n",
            "Epoch 23: val_loss did not improve from 0.10840\n",
            "690/690 [==============================] - 5s 7ms/step - loss: 0.1052 - accuracy: 0.9537 - val_loss: 0.1101 - val_accuracy: 0.9496\n",
            "Epoch 24/100\n",
            "687/690 [============================>.] - ETA: 0s - loss: 0.1057 - accuracy: 0.9533\n",
            "Epoch 24: val_loss improved from 0.10840 to 0.10823, saving model to best_model.h5\n",
            "690/690 [==============================] - 4s 6ms/step - loss: 0.1057 - accuracy: 0.9533 - val_loss: 0.1082 - val_accuracy: 0.9512\n",
            "Epoch 25/100\n",
            "686/690 [============================>.] - ETA: 0s - loss: 0.1033 - accuracy: 0.9548\n",
            "Epoch 25: val_loss did not improve from 0.10823\n",
            "690/690 [==============================] - 5s 7ms/step - loss: 0.1034 - accuracy: 0.9547 - val_loss: 0.1107 - val_accuracy: 0.9501\n",
            "Epoch 26/100\n",
            "682/690 [============================>.] - ETA: 0s - loss: 0.1045 - accuracy: 0.9537\n",
            "Epoch 26: val_loss improved from 0.10823 to 0.10606, saving model to best_model.h5\n",
            "690/690 [==============================] - 4s 6ms/step - loss: 0.1046 - accuracy: 0.9536 - val_loss: 0.1061 - val_accuracy: 0.9537\n",
            "Epoch 27/100\n",
            "689/690 [============================>.] - ETA: 0s - loss: 0.1018 - accuracy: 0.9549\n",
            "Epoch 27: val_loss improved from 0.10606 to 0.10510, saving model to best_model.h5\n",
            "690/690 [==============================] - 4s 6ms/step - loss: 0.1017 - accuracy: 0.9549 - val_loss: 0.1051 - val_accuracy: 0.9516\n",
            "Epoch 28/100\n",
            "685/690 [============================>.] - ETA: 0s - loss: 0.1021 - accuracy: 0.9554\n",
            "Epoch 28: val_loss did not improve from 0.10510\n",
            "690/690 [==============================] - 5s 7ms/step - loss: 0.1022 - accuracy: 0.9554 - val_loss: 0.1060 - val_accuracy: 0.9532\n",
            "Epoch 29/100\n",
            "682/690 [============================>.] - ETA: 0s - loss: 0.1010 - accuracy: 0.9553\n",
            "Epoch 29: val_loss did not improve from 0.10510\n",
            "690/690 [==============================] - 4s 6ms/step - loss: 0.1010 - accuracy: 0.9553 - val_loss: 0.1125 - val_accuracy: 0.9515\n",
            "Epoch 30/100\n",
            "683/690 [============================>.] - ETA: 0s - loss: 0.1015 - accuracy: 0.9549\n",
            "Epoch 30: val_loss improved from 0.10510 to 0.10393, saving model to best_model.h5\n",
            "690/690 [==============================] - 4s 6ms/step - loss: 0.1016 - accuracy: 0.9549 - val_loss: 0.1039 - val_accuracy: 0.9537\n",
            "Epoch 31/100\n",
            "683/690 [============================>.] - ETA: 0s - loss: 0.1003 - accuracy: 0.9559\n",
            "Epoch 31: val_loss did not improve from 0.10393\n",
            "690/690 [==============================] - 5s 7ms/step - loss: 0.1004 - accuracy: 0.9559 - val_loss: 0.1060 - val_accuracy: 0.9524\n",
            "Epoch 32/100\n",
            "680/690 [============================>.] - ETA: 0s - loss: 0.0990 - accuracy: 0.9560\n",
            "Epoch 32: val_loss improved from 0.10393 to 0.10274, saving model to best_model.h5\n",
            "690/690 [==============================] - 4s 6ms/step - loss: 0.0988 - accuracy: 0.9562 - val_loss: 0.1027 - val_accuracy: 0.9533\n",
            "Epoch 33/100\n",
            "688/690 [============================>.] - ETA: 0s - loss: 0.0983 - accuracy: 0.9560\n",
            "Epoch 33: val_loss did not improve from 0.10274\n",
            "690/690 [==============================] - 4s 6ms/step - loss: 0.0983 - accuracy: 0.9561 - val_loss: 0.1041 - val_accuracy: 0.9531\n",
            "Epoch 34/100\n",
            "687/690 [============================>.] - ETA: 0s - loss: 0.0987 - accuracy: 0.9561\n",
            "Epoch 34: val_loss did not improve from 0.10274\n",
            "690/690 [==============================] - 5s 7ms/step - loss: 0.0986 - accuracy: 0.9561 - val_loss: 0.1057 - val_accuracy: 0.9524\n",
            "Epoch 35/100\n",
            "687/690 [============================>.] - ETA: 0s - loss: 0.0981 - accuracy: 0.9567\n",
            "Epoch 35: val_loss did not improve from 0.10274\n",
            "690/690 [==============================] - 4s 6ms/step - loss: 0.0981 - accuracy: 0.9567 - val_loss: 0.1058 - val_accuracy: 0.9523\n",
            "Epoch 36/100\n",
            "687/690 [============================>.] - ETA: 0s - loss: 0.0979 - accuracy: 0.9566\n",
            "Epoch 36: val_loss did not improve from 0.10274\n",
            "690/690 [==============================] - 4s 6ms/step - loss: 0.0979 - accuracy: 0.9566 - val_loss: 0.1140 - val_accuracy: 0.9492\n",
            "Epoch 37/100\n",
            "686/690 [============================>.] - ETA: 0s - loss: 0.0965 - accuracy: 0.9577\n",
            "Epoch 37: val_loss did not improve from 0.10274\n",
            "690/690 [==============================] - 5s 7ms/step - loss: 0.0967 - accuracy: 0.9577 - val_loss: 0.1043 - val_accuracy: 0.9529\n",
            "Epoch 38/100\n",
            "687/690 [============================>.] - ETA: 0s - loss: 0.0945 - accuracy: 0.9582\n",
            "Epoch 38: val_loss did not improve from 0.10274\n",
            "690/690 [==============================] - 4s 6ms/step - loss: 0.0946 - accuracy: 0.9582 - val_loss: 0.1143 - val_accuracy: 0.9494\n",
            "Epoch 39/100\n",
            "686/690 [============================>.] - ETA: 0s - loss: 0.0948 - accuracy: 0.9579\n",
            "Epoch 39: val_loss did not improve from 0.10274\n",
            "690/690 [==============================] - 4s 6ms/step - loss: 0.0947 - accuracy: 0.9579 - val_loss: 0.1028 - val_accuracy: 0.9545\n",
            "Epoch 40/100\n",
            "685/690 [============================>.] - ETA: 0s - loss: 0.0955 - accuracy: 0.9574\n",
            "Epoch 40: val_loss did not improve from 0.10274\n",
            "690/690 [==============================] - 5s 7ms/step - loss: 0.0954 - accuracy: 0.9574 - val_loss: 0.1062 - val_accuracy: 0.9522\n",
            "Epoch 41/100\n",
            "685/690 [============================>.] - ETA: 0s - loss: 0.0947 - accuracy: 0.9577\n",
            "Epoch 41: val_loss did not improve from 0.10274\n",
            "690/690 [==============================] - 4s 6ms/step - loss: 0.0946 - accuracy: 0.9577 - val_loss: 0.1069 - val_accuracy: 0.9524\n",
            "Epoch 42/100\n",
            "686/690 [============================>.] - ETA: 0s - loss: 0.0935 - accuracy: 0.9587Restoring model weights from the end of the best epoch: 32.\n",
            "\n",
            "Epoch 42: val_loss did not improve from 0.10274\n",
            "690/690 [==============================] - 4s 6ms/step - loss: 0.0934 - accuracy: 0.9588 - val_loss: 0.1092 - val_accuracy: 0.9530\n",
            "Epoch 42: early stopping\n"
          ]
        }
      ],
      "source": [
        "# 모델 학습하기\n",
        "es = EarlyStopping(monitor='val_loss', min_delta=0, patience=10, verbose=1, restore_best_weights=True)\n",
        "mc = ModelCheckpoint('best_model.h5', verbose=1,\n",
        "                              monitor='val_loss', mode='min',\n",
        "                              save_best_only=True)\n",
        "history = model.fit(X_train, y_train, epochs=100, batch_size=128,\n",
        "          verbose=1, validation_data=(X_val, y_val), callbacks=[es, mc])"
      ]
    },
    {
      "cell_type": "markdown",
      "metadata": {
        "id": "YxSSuli-HTxz"
      },
      "source": [
        "### 모델 훈련 과정 시각화"
      ]
    },
    {
      "cell_type": "code",
      "execution_count": 15,
      "metadata": {
        "colab": {
          "base_uri": "https://localhost:8080/",
          "height": 927
        },
        "id": "sQ03w3O-HTx0",
        "outputId": "3e424736-77e3-4453-ea24-bba3ad5bdb38"
      },
      "outputs": [
        {
          "output_type": "display_data",
          "data": {
            "text/plain": [
              "<Figure size 640x480 with 1 Axes>"
            ],
            "image/png": "[encoded data removed]"
          },
          "metadata": {}
        },
        {
          "output_type": "display_data",
          "data": {
            "text/plain": [
              "<Figure size 640x480 with 1 Axes>"
            ],
            "image/png": "[encoded data removed]"
          },
          "metadata": {}
        }
      ],
      "source": [
        "import matplotlib.pyplot as plt\n",
        "\n",
        "# 모델 accuracy\n",
        "plt.plot(history.history['accuracy'])\n",
        "plt.plot(history.history['val_accuracy'])\n",
        "plt.title('Model Accuracy')\n",
        "plt.xlabel('Epoch')\n",
        "plt.ylabel('Accuracy')\n",
        "plt.legend(['Train', 'Validation'], loc='lower right')\n",
        "plt.show()\n",
        "\n",
        "# 모델 loss\n",
        "plt.plot(history.history['loss'])\n",
        "plt.plot(history.history['val_loss'])\n",
        "plt.title('Model Loss')\n",
        "plt.xlabel('Epoch')\n",
        "plt.ylabel('Loss')\n",
        "plt.legend(['Train', 'Validation'], loc='upper right')\n",
        "plt.show()"
      ]
    },
    {
      "cell_type": "markdown",
      "source": [
        "### confusion matrix, classification report"
      ],
      "metadata": {
        "id": "hnZmWn5dKh_X"
      }
    },
    {
      "cell_type": "code",
      "execution_count": 16,
      "metadata": {
        "colab": {
          "base_uri": "https://localhost:8080/"
        },
        "id": "6iR9x8VEHTx0",
        "outputId": "1666ad58-129e-4bda-9863-bc2221fff01c"
      },
      "outputs": [
        {
          "output_type": "stream",
          "name": "stdout",
          "text": [
            "609/609 [==============================] - 2s 3ms/step\n",
            "[[ 8527   292]\n",
            " [  555 10108]]\n",
            "              precision    recall  f1-score   support\n",
            "\n",
            "           0       0.94      0.97      0.95      8819\n",
            "           1       0.97      0.95      0.96     10663\n",
            "\n",
            "    accuracy                           0.96     19482\n",
            "   macro avg       0.96      0.96      0.96     19482\n",
            "weighted avg       0.96      0.96      0.96     19482\n",
            "\n"
          ]
        }
      ],
      "source": [
        "def predict_class(y_pred, thresh=0.5):\n",
        "  return tf.cast(y_pred > thresh, tf.float32)\n",
        "\n",
        "from sklearn.metrics import confusion_matrix, classification_report\n",
        "\n",
        "y_pred = model.predict(X_test)\n",
        "y_pred_class = predict_class(y_pred)\n",
        "cm = confusion_matrix(y_test, y_pred_class)\n",
        "print(cm)\n",
        "\n",
        "print(classification_report(y_test, y_pred_class))"
      ]
    },
    {
      "cell_type": "code",
      "source": [],
      "metadata": {
        "id": "OnJtG4TjKm-n"
      },
      "execution_count": 16,
      "outputs": []
    }
  ],
  "metadata": {
    "hide_input": false,
    "kernelspec": {
      "display_name": "Python 3",
      "name": "python3"
    },
    "language_info": {
      "codemirror_mode": {
        "name": "ipython",
        "version": 3
      },
      "file_extension": ".py",
      "mimetype": "text/x-python",
      "name": "python",
      "nbconvert_exporter": "python",
      "pygments_lexer": "ipython3",
      "version": "3.11.2"
    },
    "toc": {
      "base_numbering": 1,
      "nav_menu": {},
      "number_sections": true,
      "sideBar": true,
      "skip_h1_title": false,
      "title_cell": "Table of Contents",
      "title_sidebar": "Contents",
      "toc_cell": false,
      "toc_position": {},
      "toc_section_display": true,
      "toc_window_display": false
    },
    "varInspector": {
      "cols": {
        "lenName": 16,
        "lenType": 16,
        "lenVar": 40
      },
      "kernels_config": {
        "python": {
          "delete_cmd_postfix": "",
          "delete_cmd_prefix": "del ",
          "library": "var_list.py",
          "varRefreshCmd": "print(var_dic_list())"
        },
        "r": {
          "delete_cmd_postfix": ") ",
          "delete_cmd_prefix": "rm(",
          "library": "var_list.r",
          "varRefreshCmd": "cat(var_dic_list()) "
        }
      },
      "types_to_exclude": [
        "module",
        "function",
        "builtin_function_or_method",
        "instance",
        "_Feature"
      ],
      "window_display": false
    },
    "vscode": {
      "interpreter": {
        "hash": "ad2bdc8ecc057115af97d19610ffacc2b4e99fae6737bb82f5d7fb13d2f2c186"
      }
    },
    "colab": {
      "provenance": [],
      "gpuType": "T4",
      "include_colab_link": true
    },
    "accelerator": "GPU"
  },
  "nbformat": 4,
  "nbformat_minor": 0
}