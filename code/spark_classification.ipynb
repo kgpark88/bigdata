{
  "nbformat": 4,
  "nbformat_minor": 0,
  "metadata": {
    "anaconda-cloud": {},
    "kernelspec": {
      "display_name": "Python [conda root]",
      "language": "python",
      "name": "conda-root-py"
    },
    "language_info": {
      "codemirror_mode": {
        "name": "ipython",
        "version": 3
      },
      "file_extension": ".py",
      "mimetype": "text/x-python",
      "name": "python",
      "nbconvert_exporter": "python",
      "pygments_lexer": "ipython3",
      "version": "3.5.3"
    },
    "colab": {
      "name": "spark_tree_method.ipynb",
      "provenance": []
    }
  },
  "cells": [
    {
      "cell_type": "code",
      "metadata": {
        "colab": {
          "base_uri": "https://localhost:8080/",
          "height": 35
        },
        "id": "Vn7Wl0aFNS4b",
        "outputId": "cabee0aa-892d-4a87-d506-55d44b77d274"
      },
      "source": [
        "!apt-get install openjdk-8-jdk-headless -qq > /dev/null\n",
        "!wget -q https://downloads.apache.org/spark/spark-3.1.2/spark-3.1.2-bin-hadoop2.7.tgz \n",
        "!tar xf spark-3.1.2-bin-hadoop2.7.tgz\n",
        "!pip install -q findspark\n",
        "\n",
        "import os\n",
        "import findspark\n",
        "\n",
        "os.environ[\"JAVA_HOME\"] = \"/usr/lib/jvm/java-8-openjdk-amd64\"\n",
        "os.environ[\"SPARK_HOME\"] = \"/content/spark-3.1.2-bin-hadoop2.7\"\n",
        "\n",
        "findspark.init()\n",
        "findspark.find()"
      ],
      "execution_count": 1,
      "outputs": [
        {
          "output_type": "execute_result",
          "data": {
            "application/vnd.google.colaboratory.intrinsic+json": {
              "type": "string"
            },
            "text/plain": [
              "'/content/spark-3.1.2-bin-hadoop2.7'"
            ]
          },
          "metadata": {
            "tags": []
          },
          "execution_count": 1
        }
      ]
    },
    {
      "cell_type": "markdown",
      "metadata": {
        "id": "Cy-Zwdg_M6Yj"
      },
      "source": [
        "# Tree Methods Code Along\n",
        "\n",
        "* Decision Tree\n",
        "* Random Forest\n",
        "* Gradient Boosted Tree Classifier\n",
        "    \n",
        "- 데이터셋 : college dataset\n",
        "- 분류 : private or public university"
      ]
    },
    {
      "cell_type": "code",
      "metadata": {
        "collapsed": true,
        "id": "yYU6qC4EM6Yl"
      },
      "source": [
        "#Tree methods Example\n",
        "from pyspark.sql import SparkSession\n",
        "spark = SparkSession.builder.appName('treecode').getOrCreate()"
      ],
      "execution_count": 2,
      "outputs": []
    },
    {
      "cell_type": "code",
      "metadata": {
        "collapsed": true,
        "id": "eqgRbD_xM6Ym"
      },
      "source": [
        "# Load training data\n",
        "data = spark.read.csv('College.csv',inferSchema=True,header=True)"
      ],
      "execution_count": 5,
      "outputs": []
    },
    {
      "cell_type": "code",
      "metadata": {
        "colab": {
          "base_uri": "https://localhost:8080/"
        },
        "id": "INbUmoNEM6Ym",
        "outputId": "893628cd-ba17-43ee-fd3d-52046959482e"
      },
      "source": [
        "data.printSchema()"
      ],
      "execution_count": 6,
      "outputs": [
        {
          "output_type": "stream",
          "text": [
            "root\n",
            " |-- School: string (nullable = true)\n",
            " |-- Private: string (nullable = true)\n",
            " |-- Apps: integer (nullable = true)\n",
            " |-- Accept: integer (nullable = true)\n",
            " |-- Enroll: integer (nullable = true)\n",
            " |-- Top10perc: integer (nullable = true)\n",
            " |-- Top25perc: integer (nullable = true)\n",
            " |-- F_Undergrad: integer (nullable = true)\n",
            " |-- P_Undergrad: integer (nullable = true)\n",
            " |-- Outstate: integer (nullable = true)\n",
            " |-- Room_Board: integer (nullable = true)\n",
            " |-- Books: integer (nullable = true)\n",
            " |-- Personal: integer (nullable = true)\n",
            " |-- PhD: integer (nullable = true)\n",
            " |-- Terminal: integer (nullable = true)\n",
            " |-- S_F_Ratio: double (nullable = true)\n",
            " |-- perc_alumni: integer (nullable = true)\n",
            " |-- Expend: integer (nullable = true)\n",
            " |-- Grad_Rate: integer (nullable = true)\n",
            "\n"
          ],
          "name": "stdout"
        }
      ]
    },
    {
      "cell_type": "code",
      "metadata": {
        "colab": {
          "base_uri": "https://localhost:8080/"
        },
        "id": "e_h-PBydM6Yn",
        "outputId": "14882960-ea40-4225-894f-b37d2866c071"
      },
      "source": [
        "data.head()"
      ],
      "execution_count": 7,
      "outputs": [
        {
          "output_type": "execute_result",
          "data": {
            "text/plain": [
              "Row(School='Abilene Christian University', Private='Yes', Apps=1660, Accept=1232, Enroll=721, Top10perc=23, Top25perc=52, F_Undergrad=2885, P_Undergrad=537, Outstate=7440, Room_Board=3300, Books=450, Personal=2200, PhD=70, Terminal=78, S_F_Ratio=18.1, perc_alumni=12, Expend=7041, Grad_Rate=60)"
            ]
          },
          "metadata": {
            "tags": []
          },
          "execution_count": 7
        }
      ]
    },
    {
      "cell_type": "markdown",
      "metadata": {
        "id": "cPy_h3dvM6Yn"
      },
      "source": [
        "### Spark Formatting of Data"
      ]
    },
    {
      "cell_type": "code",
      "metadata": {
        "collapsed": true,
        "id": "h03jvDhoM6Yo"
      },
      "source": [
        "# A few things we need to do before Spark can accept the data!\n",
        "# It needs to be in the form of two columns\n",
        "# (\"label\",\"features\")\n",
        "\n",
        "# Import VectorAssembler and Vectors\n",
        "from pyspark.ml.linalg import Vectors\n",
        "from pyspark.ml.feature import VectorAssembler"
      ],
      "execution_count": 8,
      "outputs": []
    },
    {
      "cell_type": "code",
      "metadata": {
        "colab": {
          "base_uri": "https://localhost:8080/"
        },
        "id": "Aa1_KeWhM6Yo",
        "outputId": "b9a95c2a-dc28-4c8d-f3be-76a14d2ce9d7"
      },
      "source": [
        "data.columns"
      ],
      "execution_count": 9,
      "outputs": [
        {
          "output_type": "execute_result",
          "data": {
            "text/plain": [
              "['School',\n",
              " 'Private',\n",
              " 'Apps',\n",
              " 'Accept',\n",
              " 'Enroll',\n",
              " 'Top10perc',\n",
              " 'Top25perc',\n",
              " 'F_Undergrad',\n",
              " 'P_Undergrad',\n",
              " 'Outstate',\n",
              " 'Room_Board',\n",
              " 'Books',\n",
              " 'Personal',\n",
              " 'PhD',\n",
              " 'Terminal',\n",
              " 'S_F_Ratio',\n",
              " 'perc_alumni',\n",
              " 'Expend',\n",
              " 'Grad_Rate']"
            ]
          },
          "metadata": {
            "tags": []
          },
          "execution_count": 9
        }
      ]
    },
    {
      "cell_type": "code",
      "metadata": {
        "id": "2bKJX1jyM6Yo"
      },
      "source": [
        "assembler = VectorAssembler(\n",
        "  inputCols=['Apps',\n",
        "             'Accept',\n",
        "             'Enroll',\n",
        "             'Top10perc',\n",
        "             'Top25perc',\n",
        "             'F_Undergrad',\n",
        "             'P_Undergrad',\n",
        "             'Outstate',\n",
        "             'Room_Board',\n",
        "             'Books',\n",
        "             'Personal',\n",
        "             'PhD',\n",
        "             'Terminal',\n",
        "             'S_F_Ratio',\n",
        "             'perc_alumni',\n",
        "             'Expend',\n",
        "             'Grad_Rate'],\n",
        "              outputCol=\"features\")"
      ],
      "execution_count": 10,
      "outputs": []
    },
    {
      "cell_type": "code",
      "metadata": {
        "id": "mirdQZZdM6Yp"
      },
      "source": [
        "output = assembler.transform(data)"
      ],
      "execution_count": 11,
      "outputs": []
    },
    {
      "cell_type": "markdown",
      "metadata": {
        "id": "3AVKnX35M6Yp"
      },
      "source": [
        "Deal with Private column being \"yes\" or \"no\""
      ]
    },
    {
      "cell_type": "code",
      "metadata": {
        "collapsed": true,
        "id": "hW1g7921M6Yp"
      },
      "source": [
        "from pyspark.ml.feature import StringIndexer"
      ],
      "execution_count": 12,
      "outputs": []
    },
    {
      "cell_type": "code",
      "metadata": {
        "id": "MtTDCPjNM6Yp"
      },
      "source": [
        "indexer = StringIndexer(inputCol=\"Private\", outputCol=\"PrivateIndex\")\n",
        "output_fixed = indexer.fit(output).transform(output)"
      ],
      "execution_count": 13,
      "outputs": []
    },
    {
      "cell_type": "code",
      "metadata": {
        "collapsed": true,
        "id": "oLiLLHCYM6Yq"
      },
      "source": [
        "final_data = output_fixed.select(\"features\",'PrivateIndex')"
      ],
      "execution_count": 14,
      "outputs": []
    },
    {
      "cell_type": "code",
      "metadata": {
        "collapsed": true,
        "id": "QZbTqGDBM6Yq"
      },
      "source": [
        "train_data,test_data = final_data.randomSplit([0.7,0.3])"
      ],
      "execution_count": 15,
      "outputs": []
    },
    {
      "cell_type": "markdown",
      "metadata": {
        "id": "m-AqUnOxM6Yq"
      },
      "source": [
        "### The Classifiers"
      ]
    },
    {
      "cell_type": "code",
      "metadata": {
        "collapsed": true,
        "id": "dwqmPl3gM6Yq"
      },
      "source": [
        "from pyspark.ml.classification import DecisionTreeClassifier,GBTClassifier,RandomForestClassifier\n",
        "from pyspark.ml import Pipeline"
      ],
      "execution_count": 16,
      "outputs": []
    },
    {
      "cell_type": "markdown",
      "metadata": {
        "id": "LqGXcxfnM6Yq"
      },
      "source": [
        "Create all three models:"
      ]
    },
    {
      "cell_type": "code",
      "metadata": {
        "collapsed": true,
        "id": "gJDEZ9rBM6Yr"
      },
      "source": [
        "# Use mostly defaults to make this comparison \"fair\"\n",
        "\n",
        "dtc = DecisionTreeClassifier(labelCol='PrivateIndex',featuresCol='features')\n",
        "rfc = RandomForestClassifier(labelCol='PrivateIndex',featuresCol='features')\n",
        "gbt = GBTClassifier(labelCol='PrivateIndex',featuresCol='features')"
      ],
      "execution_count": 17,
      "outputs": []
    },
    {
      "cell_type": "markdown",
      "metadata": {
        "id": "VB7gPgmnM6Yr"
      },
      "source": [
        "Train all three models:"
      ]
    },
    {
      "cell_type": "code",
      "metadata": {
        "id": "mdOsXJM1M6Yr"
      },
      "source": [
        "# Train the models (its three models, so it might take some time)\n",
        "dtc_model = dtc.fit(train_data)\n",
        "rfc_model = rfc.fit(train_data)\n",
        "gbt_model = gbt.fit(train_data)"
      ],
      "execution_count": 18,
      "outputs": []
    },
    {
      "cell_type": "markdown",
      "metadata": {
        "id": "IDsQ2wsQM6Yr"
      },
      "source": [
        "## Model Comparison\n",
        "\n",
        "Let's compare each of these models!"
      ]
    },
    {
      "cell_type": "code",
      "metadata": {
        "id": "e5x9JFtRM6Yr"
      },
      "source": [
        "dtc_predictions = dtc_model.transform(test_data)\n",
        "rfc_predictions = rfc_model.transform(test_data)\n",
        "gbt_predictions = gbt_model.transform(test_data)"
      ],
      "execution_count": 19,
      "outputs": []
    },
    {
      "cell_type": "markdown",
      "metadata": {
        "id": "-ookweYGM6Yr"
      },
      "source": [
        "**Evaluation Metrics:**"
      ]
    },
    {
      "cell_type": "code",
      "metadata": {
        "collapsed": true,
        "id": "Wt19zB_MM6Ys"
      },
      "source": [
        "from pyspark.ml.evaluation import MulticlassClassificationEvaluator"
      ],
      "execution_count": 20,
      "outputs": []
    },
    {
      "cell_type": "code",
      "metadata": {
        "collapsed": true,
        "id": "N3dJ1BZOM6Ys"
      },
      "source": [
        "# Select (prediction, true label) and compute test error\n",
        "acc_evaluator = MulticlassClassificationEvaluator(labelCol=\"PrivateIndex\", predictionCol=\"prediction\", metricName=\"accuracy\")"
      ],
      "execution_count": 21,
      "outputs": []
    },
    {
      "cell_type": "code",
      "metadata": {
        "id": "vF2-BWeRM6Ys"
      },
      "source": [
        "dtc_acc = acc_evaluator.evaluate(dtc_predictions)\n",
        "rfc_acc = acc_evaluator.evaluate(rfc_predictions)\n",
        "gbt_acc = acc_evaluator.evaluate(gbt_predictions)"
      ],
      "execution_count": 22,
      "outputs": []
    },
    {
      "cell_type": "code",
      "metadata": {
        "colab": {
          "base_uri": "https://localhost:8080/"
        },
        "id": "Nuj5TcfjM6Ys",
        "outputId": "a79a29cf-5a02-4750-9d46-a2975e28db74"
      },
      "source": [
        "print(\"Here are the results!\")\n",
        "print('-'*80)\n",
        "print('A single decision tree had an accuracy of: {0:2.2f}%'.format(dtc_acc*100))\n",
        "print('-'*80)\n",
        "print('A random forest ensemble had an accuracy of: {0:2.2f}%'.format(rfc_acc*100))\n",
        "print('-'*80)\n",
        "print('A ensemble using GBT had an accuracy of: {0:2.2f}%'.format(gbt_acc*100))"
      ],
      "execution_count": 23,
      "outputs": [
        {
          "output_type": "stream",
          "text": [
            "Here are the results!\n",
            "--------------------------------------------------------------------------------\n",
            "A single decision tree had an accuracy of: 92.53%\n",
            "--------------------------------------------------------------------------------\n",
            "A random forest ensemble had an accuracy of: 93.36%\n",
            "--------------------------------------------------------------------------------\n",
            "A ensemble using GBT had an accuracy of: 92.95%\n"
          ],
          "name": "stdout"
        }
      ]
    },
    {
      "cell_type": "markdown",
      "metadata": {
        "id": "F8N9VOBkM6Ys"
      },
      "source": [
        "Interesting! Optional Assignment - play around with the parameters of each of these models, can you squeeze some more accuracy out of them? Or is the data the limiting factor?"
      ]
    }
  ]
}