{
  "cells": [
    {
      "cell_type": "markdown",
      "metadata": {
        "id": "view-in-github",
        "colab_type": "text"
      },
      "source": [
        "<a href=\"https://colab.research.google.com/github/kgpark88/bigdata/blob/main/ai_modeling.ipynb\" target=\"_parent\"><img src=\"https://colab.research.google.com/assets/colab-badge.svg\" alt=\"Open In Colab\"/></a>"
      ]
    },
    {
      "cell_type": "markdown",
      "metadata": {
        "id": "Fh4RIW0bHTxp"
      },
      "source": [
        "###  데이터 로드\n",
        " - 데이터 출처 : https://www.kaggle.com/datasets/sjleshrac/airlines-customer-satisfaction"
      ]
    },
    {
      "cell_type": "code",
      "execution_count": 1,
      "metadata": {
        "id": "2UQl07zeHTxr"
      },
      "outputs": [],
      "source": [
        "# 필요한 라이브러리 불러오기\n",
        "import numpy as np\n",
        "import pandas as pd\n",
        "import warnings\n",
        "\n",
        "# 경고 메시지를 무시하도록 설정하기\n",
        "warnings.filterwarnings('ignore')"
      ]
    },
    {
      "cell_type": "code",
      "execution_count": 2,
      "metadata": {
        "id": "DnjMVFnUHTxt"
      },
      "outputs": [],
      "source": [
        "# df = pd.read_csv('Invistico_Airline.csv')\n",
        "df = pd.read_csv('https://raw.githubusercontent.com/kgpark88/bigdata/main/code/Invistico_Airline.csv')"
      ]
    },
    {
      "cell_type": "markdown",
      "metadata": {
        "id": "hDdF2SZgHTxt"
      },
      "source": [
        "### 데이터 전처리하기"
      ]
    },
    {
      "cell_type": "markdown",
      "metadata": {
        "id": "KEbSctDAHTxt"
      },
      "source": [
        "#### ■ 결측치 처리하기 "
      ]
    },
    {
      "cell_type": "code",
      "execution_count": 3,
      "metadata": {
        "id": "zQkqf20GHTxu"
      },
      "outputs": [],
      "source": [
        "# SimpleImputer 객체로 결측치 대체하기\n",
        "from sklearn.impute import SimpleImputer\n",
        "\n",
        "mean_imputer = SimpleImputer(strategy='mean')\n",
        "df[\"Arrival Delay in Minutes\"] = mean_imputer.fit_transform(df[[\"Arrival Delay in Minutes\"]])"
      ]
    },
    {
      "cell_type": "markdown",
      "metadata": {
        "id": "AAsZDL9uHTxu"
      },
      "source": [
        "#### ■ 데이터 인코딩"
      ]
    },
    {
      "cell_type": "code",
      "execution_count": 4,
      "metadata": {
        "id": "l4ZLoTxdHTxu"
      },
      "outputs": [],
      "source": [
        "# object 컬럼 타입을 string 타입으로 변경하기\n",
        "cols = ['satisfaction', 'Gender', 'Customer Type', 'Type of Travel', 'Class']\n",
        "df[cols] = df[cols].astype(str)"
      ]
    },
    {
      "cell_type": "code",
      "execution_count": 5,
      "metadata": {
        "id": "bGt6CEkWHTxu"
      },
      "outputs": [],
      "source": [
        "# 범주형 데이터를 수치값으로 변경하기\n",
        "df['satisfaction'].replace(['dissatisfied','satisfied'], [0,1], inplace=True)"
      ]
    },
    {
      "cell_type": "code",
      "execution_count": 6,
      "metadata": {
        "id": "nsyn0v1wHTxv"
      },
      "outputs": [],
      "source": [
        "# 순서형 인코딩(Ordinal Encoding)하기\n",
        "categories = pd.Categorical(\n",
        "    df['Class'], \n",
        "    categories= ['Eco', 'Eco Plus', 'Business'], \n",
        "    ordered=True)\n",
        "labels, unique = pd.factorize(categories, sort=True)\n",
        "df['Class'] = labels"
      ]
    },
    {
      "cell_type": "code",
      "execution_count": 7,
      "metadata": {
        "id": "Ma3kju29HTxv"
      },
      "outputs": [],
      "source": [
        "# 원핫 인코딩(One Hot Encoding)하기\n",
        "cat_cols = ['Gender','Customer Type','Type of Travel']\n",
        "df = pd.get_dummies(df, columns=cat_cols)"
      ]
    },
    {
      "cell_type": "code",
      "execution_count": 8,
      "metadata": {
        "colab": {
          "base_uri": "https://localhost:8080/",
          "height": 351
        },
        "id": "Bw8VPuu0HTxv",
        "outputId": "e52b7205-a7b7-45c9-e8df-3ffc3e4e2469"
      },
      "outputs": [
        {
          "output_type": "execute_result",
          "data": {
            "text/plain": [
              "   satisfaction  Age  Class  Flight Distance  Seat comfort  \\\n",
              "0             1   65      0              265             0   \n",
              "1             1   47      2             2464             0   \n",
              "2             1   15      0             2138             0   \n",
              "3             1   60      0              623             0   \n",
              "4             1   70      0              354             0   \n",
              "\n",
              "   Departure/Arrival time convenient  Food and drink  Gate location  \\\n",
              "0                                  0               0              2   \n",
              "1                                  0               0              3   \n",
              "2                                  0               0              3   \n",
              "3                                  0               0              3   \n",
              "4                                  0               0              3   \n",
              "\n",
              "   Inflight wifi service  Inflight entertainment  ...  Cleanliness  \\\n",
              "0                      2                       4  ...            3   \n",
              "1                      0                       2  ...            3   \n",
              "2                      2                       0  ...            4   \n",
              "3                      3                       4  ...            1   \n",
              "4                      4                       3  ...            2   \n",
              "\n",
              "   Online boarding  Departure Delay in Minutes  Arrival Delay in Minutes  \\\n",
              "0                2                           0                       0.0   \n",
              "1                2                         310                     305.0   \n",
              "2                2                           0                       0.0   \n",
              "3                3                           0                       0.0   \n",
              "4                5                           0                       0.0   \n",
              "\n",
              "   Gender_Female  Gender_Male  Customer Type_Loyal Customer  \\\n",
              "0              1            0                             1   \n",
              "1              0            1                             1   \n",
              "2              1            0                             1   \n",
              "3              1            0                             1   \n",
              "4              1            0                             1   \n",
              "\n",
              "   Customer Type_disloyal Customer  Type of Travel_Business travel  \\\n",
              "0                                0                               0   \n",
              "1                                0                               0   \n",
              "2                                0                               0   \n",
              "3                                0                               0   \n",
              "4                                0                               0   \n",
              "\n",
              "   Type of Travel_Personal Travel  \n",
              "0                               1  \n",
              "1                               1  \n",
              "2                               1  \n",
              "3                               1  \n",
              "4                               1  \n",
              "\n",
              "[5 rows x 26 columns]"
            ],
            "text/html": [
              "\n",
              "  <div id=\"df-271ede3d-dee6-4555-a7b0-9332f84d4c7e\">\n",
              "    <div class=\"colab-df-container\">\n",
              "      <div>\n",
              "<style scoped>\n",
              "    .dataframe tbody tr th:only-of-type {\n",
              "        vertical-align: middle;\n",
              "    }\n",
              "\n",
              "    .dataframe tbody tr th {\n",
              "        vertical-align: top;\n",
              "    }\n",
              "\n",
              "    .dataframe thead th {\n",
              "        text-align: right;\n",
              "    }\n",
              "</style>\n",
              "<table border=\"1\" class=\"dataframe\">\n",
              "  <thead>\n",
              "    <tr style=\"text-align: right;\">\n",
              "      <th></th>\n",
              "      <th>satisfaction</th>\n",
              "      <th>Age</th>\n",
              "      <th>Class</th>\n",
              "      <th>Flight Distance</th>\n",
              "      <th>Seat comfort</th>\n",
              "      <th>Departure/Arrival time convenient</th>\n",
              "      <th>Food and drink</th>\n",
              "      <th>Gate location</th>\n",
              "      <th>Inflight wifi service</th>\n",
              "      <th>Inflight entertainment</th>\n",
              "      <th>...</th>\n",
              "      <th>Cleanliness</th>\n",
              "      <th>Online boarding</th>\n",
              "      <th>Departure Delay in Minutes</th>\n",
              "      <th>Arrival Delay in Minutes</th>\n",
              "      <th>Gender_Female</th>\n",
              "      <th>Gender_Male</th>\n",
              "      <th>Customer Type_Loyal Customer</th>\n",
              "      <th>Customer Type_disloyal Customer</th>\n",
              "      <th>Type of Travel_Business travel</th>\n",
              "      <th>Type of Travel_Personal Travel</th>\n",
              "    </tr>\n",
              "  </thead>\n",
              "  <tbody>\n",
              "    <tr>\n",
              "      <th>0</th>\n",
              "      <td>1</td>\n",
              "      <td>65</td>\n",
              "      <td>0</td>\n",
              "      <td>265</td>\n",
              "      <td>0</td>\n",
              "      <td>0</td>\n",
              "      <td>0</td>\n",
              "      <td>2</td>\n",
              "      <td>2</td>\n",
              "      <td>4</td>\n",
              "      <td>...</td>\n",
              "      <td>3</td>\n",
              "      <td>2</td>\n",
              "      <td>0</td>\n",
              "      <td>0.0</td>\n",
              "      <td>1</td>\n",
              "      <td>0</td>\n",
              "      <td>1</td>\n",
              "      <td>0</td>\n",
              "      <td>0</td>\n",
              "      <td>1</td>\n",
              "    </tr>\n",
              "    <tr>\n",
              "      <th>1</th>\n",
              "      <td>1</td>\n",
              "      <td>47</td>\n",
              "      <td>2</td>\n",
              "      <td>2464</td>\n",
              "      <td>0</td>\n",
              "      <td>0</td>\n",
              "      <td>0</td>\n",
              "      <td>3</td>\n",
              "      <td>0</td>\n",
              "      <td>2</td>\n",
              "      <td>...</td>\n",
              "      <td>3</td>\n",
              "      <td>2</td>\n",
              "      <td>310</td>\n",
              "      <td>305.0</td>\n",
              "      <td>0</td>\n",
              "      <td>1</td>\n",
              "      <td>1</td>\n",
              "      <td>0</td>\n",
              "      <td>0</td>\n",
              "      <td>1</td>\n",
              "    </tr>\n",
              "    <tr>\n",
              "      <th>2</th>\n",
              "      <td>1</td>\n",
              "      <td>15</td>\n",
              "      <td>0</td>\n",
              "      <td>2138</td>\n",
              "      <td>0</td>\n",
              "      <td>0</td>\n",
              "      <td>0</td>\n",
              "      <td>3</td>\n",
              "      <td>2</td>\n",
              "      <td>0</td>\n",
              "      <td>...</td>\n",
              "      <td>4</td>\n",
              "      <td>2</td>\n",
              "      <td>0</td>\n",
              "      <td>0.0</td>\n",
              "      <td>1</td>\n",
              "      <td>0</td>\n",
              "      <td>1</td>\n",
              "      <td>0</td>\n",
              "      <td>0</td>\n",
              "      <td>1</td>\n",
              "    </tr>\n",
              "    <tr>\n",
              "      <th>3</th>\n",
              "      <td>1</td>\n",
              "      <td>60</td>\n",
              "      <td>0</td>\n",
              "      <td>623</td>\n",
              "      <td>0</td>\n",
              "      <td>0</td>\n",
              "      <td>0</td>\n",
              "      <td>3</td>\n",
              "      <td>3</td>\n",
              "      <td>4</td>\n",
              "      <td>...</td>\n",
              "      <td>1</td>\n",
              "      <td>3</td>\n",
              "      <td>0</td>\n",
              "      <td>0.0</td>\n",
              "      <td>1</td>\n",
              "      <td>0</td>\n",
              "      <td>1</td>\n",
              "      <td>0</td>\n",
              "      <td>0</td>\n",
              "      <td>1</td>\n",
              "    </tr>\n",
              "    <tr>\n",
              "      <th>4</th>\n",
              "      <td>1</td>\n",
              "      <td>70</td>\n",
              "      <td>0</td>\n",
              "      <td>354</td>\n",
              "      <td>0</td>\n",
              "      <td>0</td>\n",
              "      <td>0</td>\n",
              "      <td>3</td>\n",
              "      <td>4</td>\n",
              "      <td>3</td>\n",
              "      <td>...</td>\n",
              "      <td>2</td>\n",
              "      <td>5</td>\n",
              "      <td>0</td>\n",
              "      <td>0.0</td>\n",
              "      <td>1</td>\n",
              "      <td>0</td>\n",
              "      <td>1</td>\n",
              "      <td>0</td>\n",
              "      <td>0</td>\n",
              "      <td>1</td>\n",
              "    </tr>\n",
              "  </tbody>\n",
              "</table>\n",
              "<p>5 rows × 26 columns</p>\n",
              "</div>\n",
              "      <button class=\"colab-df-convert\" onclick=\"convertToInteractive('df-271ede3d-dee6-4555-a7b0-9332f84d4c7e')\"\n",
              "              title=\"Convert this dataframe to an interactive table.\"\n",
              "              style=\"display:none;\">\n",
              "        \n",
              "  <svg xmlns=\"http://www.w3.org/2000/svg\" height=\"24px\"viewBox=\"0 0 24 24\"\n",
              "       width=\"24px\">\n",
              "    <path d=\"M0 0h24v24H0V0z\" fill=\"none\"/>\n",
              "    <path d=\"M18.56 5.44l.94 2.06.94-2.06 2.06-.94-2.06-.94-.94-2.06-.94 2.06-2.06.94zm-11 1L8.5 8.5l.94-2.06 2.06-.94-2.06-.94L8.5 2.5l-.94 2.06-2.06.94zm10 10l.94 2.06.94-2.06 2.06-.94-2.06-.94-.94-2.06-.94 2.06-2.06.94z\"/><path d=\"M17.41 7.96l-1.37-1.37c-.4-.4-.92-.59-1.43-.59-.52 0-1.04.2-1.43.59L10.3 9.45l-7.72 7.72c-.78.78-.78 2.05 0 2.83L4 21.41c.39.39.9.59 1.41.59.51 0 1.02-.2 1.41-.59l7.78-7.78 2.81-2.81c.8-.78.8-2.07 0-2.86zM5.41 20L4 18.59l7.72-7.72 1.47 1.35L5.41 20z\"/>\n",
              "  </svg>\n",
              "      </button>\n",
              "      \n",
              "  <style>\n",
              "    .colab-df-container {\n",
              "      display:flex;\n",
              "      flex-wrap:wrap;\n",
              "      gap: 12px;\n",
              "    }\n",
              "\n",
              "    .colab-df-convert {\n",
              "      background-color: #E8F0FE;\n",
              "      border: none;\n",
              "      border-radius: 50%;\n",
              "      cursor: pointer;\n",
              "      display: none;\n",
              "      fill: #1967D2;\n",
              "      height: 32px;\n",
              "      padding: 0 0 0 0;\n",
              "      width: 32px;\n",
              "    }\n",
              "\n",
              "    .colab-df-convert:hover {\n",
              "      background-color: #E2EBFA;\n",
              "      box-shadow: 0px 1px 2px rgba(60, 64, 67, 0.3), 0px 1px 3px 1px rgba(60, 64, 67, 0.15);\n",
              "      fill: #174EA6;\n",
              "    }\n",
              "\n",
              "    [theme=dark] .colab-df-convert {\n",
              "      background-color: #3B4455;\n",
              "      fill: #D2E3FC;\n",
              "    }\n",
              "\n",
              "    [theme=dark] .colab-df-convert:hover {\n",
              "      background-color: #434B5C;\n",
              "      box-shadow: 0px 1px 3px 1px rgba(0, 0, 0, 0.15);\n",
              "      filter: drop-shadow(0px 1px 2px rgba(0, 0, 0, 0.3));\n",
              "      fill: #FFFFFF;\n",
              "    }\n",
              "  </style>\n",
              "\n",
              "      <script>\n",
              "        const buttonEl =\n",
              "          document.querySelector('#df-271ede3d-dee6-4555-a7b0-9332f84d4c7e button.colab-df-convert');\n",
              "        buttonEl.style.display =\n",
              "          google.colab.kernel.accessAllowed ? 'block' : 'none';\n",
              "\n",
              "        async function convertToInteractive(key) {\n",
              "          const element = document.querySelector('#df-271ede3d-dee6-4555-a7b0-9332f84d4c7e');\n",
              "          const dataTable =\n",
              "            await google.colab.kernel.invokeFunction('convertToInteractive',\n",
              "                                                     [key], {});\n",
              "          if (!dataTable) return;\n",
              "\n",
              "          const docLinkHtml = 'Like what you see? Visit the ' +\n",
              "            '<a target=\"_blank\" href=https://colab.research.google.com/notebooks/data_table.ipynb>data table notebook</a>'\n",
              "            + ' to learn more about interactive tables.';\n",
              "          element.innerHTML = '';\n",
              "          dataTable['output_type'] = 'display_data';\n",
              "          await google.colab.output.renderOutput(dataTable, element);\n",
              "          const docLink = document.createElement('div');\n",
              "          docLink.innerHTML = docLinkHtml;\n",
              "          element.appendChild(docLink);\n",
              "        }\n",
              "      </script>\n",
              "    </div>\n",
              "  </div>\n",
              "  "
            ]
          },
          "metadata": {},
          "execution_count": 8
        }
      ],
      "source": [
        "# 데이터 전처리 결과 확인하기\n",
        "df.head()"
      ]
    },
    {
      "cell_type": "code",
      "execution_count": 9,
      "metadata": {
        "colab": {
          "base_uri": "https://localhost:8080/"
        },
        "id": "SDhWTCKwHTxw",
        "outputId": "2b59d612-0a01-45d1-e43f-4eac797c237e"
      },
      "outputs": [
        {
          "output_type": "execute_result",
          "data": {
            "text/plain": [
              "satisfaction                           int64\n",
              "Age                                    int64\n",
              "Class                                  int64\n",
              "Flight Distance                        int64\n",
              "Seat comfort                           int64\n",
              "Departure/Arrival time convenient      int64\n",
              "Food and drink                         int64\n",
              "Gate location                          int64\n",
              "Inflight wifi service                  int64\n",
              "Inflight entertainment                 int64\n",
              "Online support                         int64\n",
              "Ease of Online booking                 int64\n",
              "On-board service                       int64\n",
              "Leg room service                       int64\n",
              "Baggage handling                       int64\n",
              "Checkin service                        int64\n",
              "Cleanliness                            int64\n",
              "Online boarding                        int64\n",
              "Departure Delay in Minutes             int64\n",
              "Arrival Delay in Minutes             float64\n",
              "Gender_Female                          uint8\n",
              "Gender_Male                            uint8\n",
              "Customer Type_Loyal Customer           uint8\n",
              "Customer Type_disloyal Customer        uint8\n",
              "Type of Travel_Business travel         uint8\n",
              "Type of Travel_Personal Travel         uint8\n",
              "dtype: object"
            ]
          },
          "metadata": {},
          "execution_count": 9
        }
      ],
      "source": [
        "# 데이터 타입 확인하기\n",
        "df.dtypes"
      ]
    },
    {
      "cell_type": "markdown",
      "metadata": {
        "id": "5TP5Kl0JHTxx"
      },
      "source": [
        "#### ■ 데이터셋 분리하기"
      ]
    },
    {
      "cell_type": "code",
      "execution_count": 17,
      "metadata": {
        "colab": {
          "base_uri": "https://localhost:8080/"
        },
        "id": "U28U-7KUHTxx",
        "outputId": "973fb443-92ed-4a47-f4d3-6fc469de0eeb"
      },
      "outputs": [
        {
          "output_type": "stream",
          "name": "stdout",
          "text": [
            "훈련 데이터셋 크기 : X_train (93513, 25), y_train (93513,)\n",
            "검증 데이터셋 크기 : X_val (23379, 25), y_val (23379,)\n",
            "테스트 데이터셋 크기 : X_val (12988, 25), y_val (12988,)\n"
          ]
        }
      ],
      "source": [
        "from sklearn.model_selection import train_test_split\n",
        "\n",
        "# 데이터셋을 입력(X)과 레이블(y)로 분리하기\n",
        "X = df.drop(['satisfaction'], axis=1)\n",
        "y = df['satisfaction'].reset_index(drop=True)\n",
        "\n",
        "# 테스트 데이터셋(test data)로 분리하기\n",
        "X_train, X_test, y_train, y_test = train_test_split(X, y, \n",
        "    test_size=0.1, \n",
        "    random_state=42, \n",
        "    stratify=y)\n",
        "\n",
        "# 훈련 데이터(train data)와 검증 데이터(validation data) 분리하기\n",
        "X_train, X_val, y_train, y_val = train_test_split(X_train, y_train, \n",
        "    test_size=0.2, \n",
        "    random_state=42, \n",
        "    stratify=y_train)\n",
        "\n",
        "print(f'훈련 데이터셋 크기 : X_train {X_train.shape}, y_train {y_train.shape}')\n",
        "print(f'검증 데이터셋 크기 : X_val {X_val.shape}, y_val {y_val.shape}')\n",
        "print(f'테스트 데이터셋 크기 : X_val {X_test.shape}, y_val {y_test.shape}')"
      ]
    },
    {
      "cell_type": "markdown",
      "metadata": {
        "id": "FDV-TkHmHTxx"
      },
      "source": [
        "#### ■ 데이터 스케일링하기"
      ]
    },
    {
      "cell_type": "code",
      "execution_count": 18,
      "metadata": {
        "colab": {
          "base_uri": "https://localhost:8080/"
        },
        "id": "ZvdPemqsHTxx",
        "outputId": "5f077fbe-b08f-4ed0-bd33-9fb4ead4e619"
      },
      "outputs": [
        {
          "output_type": "stream",
          "name": "stdout",
          "text": [
            "[[0.48717949 1.         0.07853934 ... 0.         1.         0.        ]\n",
            " [0.05128205 0.         0.24503695 ... 0.         0.         1.        ]\n",
            " [0.34615385 1.         0.1041878  ... 0.         1.         0.        ]\n",
            " ...\n",
            " [0.15384615 0.         0.21446167 ... 0.         0.         1.        ]\n",
            " [0.41025641 1.         0.0953485  ... 0.         1.         0.        ]\n",
            " [0.44871795 0.         0.13940009 ... 0.         0.         1.        ]]\n"
          ]
        }
      ],
      "source": [
        "from sklearn.preprocessing import MinMaxScaler\n",
        "\n",
        "# 데이터 정규화하기\n",
        "scaler = MinMaxScaler()\n",
        "scaler.fit(X_train)\n",
        "X_train = scaler.transform(X_train)\n",
        "X_val = scaler.transform(X_val)\n",
        "\n",
        "print(X_train)"
      ]
    },
    {
      "cell_type": "markdown",
      "metadata": {
        "id": "rkIhjlwiHTxy"
      },
      "source": [
        "### 모델 구성"
      ]
    },
    {
      "cell_type": "code",
      "execution_count": 19,
      "metadata": {
        "id": "pg6rl4_aHTxy"
      },
      "outputs": [],
      "source": [
        "import tensorflow as tf\n",
        "from tensorflow import keras\n",
        "from tensorflow.keras.layers import Input, Dense, Dropout\n",
        "from tensorflow.keras.layers import BatchNormalization \n",
        "from tensorflow.keras.models import Sequential, Model\n",
        "from tensorflow.keras.callbacks import EarlyStopping, ModelCheckpoint\n",
        "\n",
        "model = Sequential()\n",
        "model.add(Dense(32, activation='relu', input_shape=(25,)))\n",
        "model.add(Dense(64, activation='relu'))\n",
        "model.add(Dense(128, activation='relu'))\n",
        "model.add(Dense(64, activation='relu'))\n",
        "model.add(Dropout(0.3))\n",
        "model.add(Dense(32, activation='relu'))\n",
        "model.add(Dropout(0.2))\n",
        "model.add(Dense(1, activation='sigmoid'))"
      ]
    },
    {
      "cell_type": "markdown",
      "metadata": {
        "id": "heo-FETyHTxy"
      },
      "source": [
        "### 모델 학습 환경 설정"
      ]
    },
    {
      "cell_type": "code",
      "execution_count": 20,
      "metadata": {
        "id": "neLfOQ7xHTxz"
      },
      "outputs": [],
      "source": [
        "# 모델을 학습시킬 최적화 방법, loss 계산 방법, 평가 방법 설정하기\n",
        "model.compile(optimizer='adam', \n",
        "              loss='binary_crossentropy', \n",
        "              metrics=['accuracy']) "
      ]
    },
    {
      "cell_type": "markdown",
      "metadata": {
        "id": "8SkKzgZDHTxz"
      },
      "source": [
        "### 모델 학습"
      ]
    },
    {
      "cell_type": "code",
      "execution_count": 21,
      "metadata": {
        "colab": {
          "base_uri": "https://localhost:8080/"
        },
        "id": "Svw9VthxHTxz",
        "outputId": "8e2211ff-cd7c-4882-b1b2-a2a74a56c68d"
      },
      "outputs": [
        {
          "output_type": "stream",
          "name": "stdout",
          "text": [
            "Epoch 1/100\n",
            "731/731 [==============================] - 3s 3ms/step - loss: 0.2902 - accuracy: 0.8761 - val_loss: 0.2247 - val_accuracy: 0.9068\n",
            "Epoch 2/100\n",
            "731/731 [==============================] - 2s 2ms/step - loss: 0.1902 - accuracy: 0.9202 - val_loss: 0.1744 - val_accuracy: 0.9257\n",
            "Epoch 3/100\n",
            "731/731 [==============================] - 2s 2ms/step - loss: 0.1672 - accuracy: 0.9293 - val_loss: 0.1619 - val_accuracy: 0.9316\n",
            "Epoch 4/100\n",
            "731/731 [==============================] - 2s 2ms/step - loss: 0.1541 - accuracy: 0.9354 - val_loss: 0.1568 - val_accuracy: 0.9319\n",
            "Epoch 5/100\n",
            "731/731 [==============================] - 2s 3ms/step - loss: 0.1453 - accuracy: 0.9381 - val_loss: 0.1408 - val_accuracy: 0.9398\n",
            "Epoch 6/100\n",
            "731/731 [==============================] - 2s 2ms/step - loss: 0.1384 - accuracy: 0.9406 - val_loss: 0.1393 - val_accuracy: 0.9414\n",
            "Epoch 7/100\n",
            "731/731 [==============================] - 2s 3ms/step - loss: 0.1310 - accuracy: 0.9437 - val_loss: 0.1299 - val_accuracy: 0.9449\n",
            "Epoch 8/100\n",
            "731/731 [==============================] - 2s 3ms/step - loss: 0.1270 - accuracy: 0.9451 - val_loss: 0.1338 - val_accuracy: 0.9428\n",
            "Epoch 9/100\n",
            "731/731 [==============================] - 2s 3ms/step - loss: 0.1238 - accuracy: 0.9466 - val_loss: 0.1278 - val_accuracy: 0.9468\n",
            "Epoch 10/100\n",
            "731/731 [==============================] - 2s 2ms/step - loss: 0.1208 - accuracy: 0.9470 - val_loss: 0.1211 - val_accuracy: 0.9479\n",
            "Epoch 11/100\n",
            "731/731 [==============================] - 2s 3ms/step - loss: 0.1181 - accuracy: 0.9485 - val_loss: 0.1194 - val_accuracy: 0.9492\n",
            "Epoch 12/100\n",
            "731/731 [==============================] - 2s 2ms/step - loss: 0.1162 - accuracy: 0.9493 - val_loss: 0.1222 - val_accuracy: 0.9470\n",
            "Epoch 13/100\n",
            "731/731 [==============================] - 2s 2ms/step - loss: 0.1142 - accuracy: 0.9505 - val_loss: 0.1148 - val_accuracy: 0.9492\n",
            "Epoch 14/100\n",
            "731/731 [==============================] - 2s 3ms/step - loss: 0.1123 - accuracy: 0.9505 - val_loss: 0.1145 - val_accuracy: 0.9508\n",
            "Epoch 15/100\n",
            "731/731 [==============================] - 2s 2ms/step - loss: 0.1101 - accuracy: 0.9512 - val_loss: 0.1112 - val_accuracy: 0.9523\n",
            "Epoch 16/100\n",
            "731/731 [==============================] - 2s 2ms/step - loss: 0.1088 - accuracy: 0.9517 - val_loss: 0.1119 - val_accuracy: 0.9509\n",
            "Epoch 17/100\n",
            "731/731 [==============================] - 2s 3ms/step - loss: 0.1071 - accuracy: 0.9524 - val_loss: 0.1135 - val_accuracy: 0.9512\n",
            "Epoch 18/100\n",
            "731/731 [==============================] - 2s 2ms/step - loss: 0.1064 - accuracy: 0.9532 - val_loss: 0.1101 - val_accuracy: 0.9513\n",
            "Epoch 19/100\n",
            "731/731 [==============================] - 2s 3ms/step - loss: 0.1039 - accuracy: 0.9541 - val_loss: 0.1198 - val_accuracy: 0.9489\n",
            "Epoch 20/100\n",
            "731/731 [==============================] - 2s 3ms/step - loss: 0.1035 - accuracy: 0.9547 - val_loss: 0.1142 - val_accuracy: 0.9503\n",
            "Epoch 21/100\n",
            "731/731 [==============================] - 2s 2ms/step - loss: 0.1026 - accuracy: 0.9542 - val_loss: 0.1149 - val_accuracy: 0.9500\n",
            "Epoch 22/100\n",
            "731/731 [==============================] - 2s 2ms/step - loss: 0.1025 - accuracy: 0.9549 - val_loss: 0.1104 - val_accuracy: 0.9516\n",
            "Epoch 23/100\n",
            "731/731 [==============================] - 2s 3ms/step - loss: 0.0993 - accuracy: 0.9561 - val_loss: 0.1069 - val_accuracy: 0.9532\n",
            "Epoch 24/100\n",
            "731/731 [==============================] - 2s 2ms/step - loss: 0.0994 - accuracy: 0.9567 - val_loss: 0.1144 - val_accuracy: 0.9509\n",
            "Epoch 25/100\n",
            "731/731 [==============================] - 2s 2ms/step - loss: 0.0986 - accuracy: 0.9558 - val_loss: 0.1110 - val_accuracy: 0.9525\n",
            "Epoch 26/100\n",
            "731/731 [==============================] - 2s 2ms/step - loss: 0.0983 - accuracy: 0.9564 - val_loss: 0.1099 - val_accuracy: 0.9520\n",
            "Epoch 27/100\n",
            "731/731 [==============================] - 2s 2ms/step - loss: 0.0973 - accuracy: 0.9566 - val_loss: 0.1129 - val_accuracy: 0.9522\n",
            "Epoch 28/100\n",
            "731/731 [==============================] - 2s 2ms/step - loss: 0.0968 - accuracy: 0.9569 - val_loss: 0.1092 - val_accuracy: 0.9524\n",
            "Epoch 29/100\n",
            "731/731 [==============================] - 2s 3ms/step - loss: 0.0954 - accuracy: 0.9576 - val_loss: 0.1062 - val_accuracy: 0.9533\n",
            "Epoch 30/100\n",
            "731/731 [==============================] - 2s 3ms/step - loss: 0.0951 - accuracy: 0.9573 - val_loss: 0.1148 - val_accuracy: 0.9516\n",
            "Epoch 31/100\n",
            "731/731 [==============================] - 3s 4ms/step - loss: 0.0939 - accuracy: 0.9580 - val_loss: 0.1135 - val_accuracy: 0.9517\n",
            "Epoch 32/100\n",
            "731/731 [==============================] - 3s 5ms/step - loss: 0.0924 - accuracy: 0.9585 - val_loss: 0.1058 - val_accuracy: 0.9543\n",
            "Epoch 33/100\n",
            "731/731 [==============================] - 2s 3ms/step - loss: 0.0922 - accuracy: 0.9584 - val_loss: 0.1097 - val_accuracy: 0.9527\n",
            "Epoch 34/100\n",
            "731/731 [==============================] - 3s 4ms/step - loss: 0.0933 - accuracy: 0.9584 - val_loss: 0.1069 - val_accuracy: 0.9537\n",
            "Epoch 35/100\n",
            "731/731 [==============================] - 3s 5ms/step - loss: 0.0915 - accuracy: 0.9585 - val_loss: 0.1073 - val_accuracy: 0.9542\n",
            "Epoch 36/100\n",
            "731/731 [==============================] - 3s 4ms/step - loss: 0.0909 - accuracy: 0.9595 - val_loss: 0.1095 - val_accuracy: 0.9521\n",
            "Epoch 37/100\n",
            "731/731 [==============================] - 3s 3ms/step - loss: 0.0899 - accuracy: 0.9598 - val_loss: 0.1087 - val_accuracy: 0.9546\n",
            "Epoch 38/100\n",
            "731/731 [==============================] - 4s 5ms/step - loss: 0.0891 - accuracy: 0.9597 - val_loss: 0.1200 - val_accuracy: 0.9506\n",
            "Epoch 39/100\n",
            "731/731 [==============================] - 2s 3ms/step - loss: 0.0907 - accuracy: 0.9595 - val_loss: 0.1094 - val_accuracy: 0.9539\n",
            "Epoch 40/100\n",
            "731/731 [==============================] - 2s 3ms/step - loss: 0.0883 - accuracy: 0.9596 - val_loss: 0.1071 - val_accuracy: 0.9543\n",
            "Epoch 41/100\n",
            "731/731 [==============================] - 2s 3ms/step - loss: 0.0877 - accuracy: 0.9605 - val_loss: 0.1154 - val_accuracy: 0.9501\n",
            "Epoch 42/100\n",
            "728/731 [============================>.] - ETA: 0s - loss: 0.0890 - accuracy: 0.9601Restoring model weights from the end of the best epoch: 32.\n",
            "731/731 [==============================] - 2s 3ms/step - loss: 0.0889 - accuracy: 0.9602 - val_loss: 0.1095 - val_accuracy: 0.9539\n",
            "Epoch 42: early stopping\n"
          ]
        }
      ],
      "source": [
        "# 모델 학습하기\n",
        "es = EarlyStopping(monitor='val_loss', min_delta=0, patience=10, verbose=1, restore_best_weights=True)\n",
        "\n",
        "history = model.fit(X_train, y_train, epochs=100, batch_size=128,\n",
        "          verbose=1, validation_data=(X_val, y_val), callbacks=[es])"
      ]
    },
    {
      "cell_type": "markdown",
      "metadata": {
        "id": "YxSSuli-HTxz"
      },
      "source": [
        "### 모델 훈련 과정 시각화"
      ]
    },
    {
      "cell_type": "code",
      "execution_count": 15,
      "metadata": {
        "colab": {
          "base_uri": "https://localhost:8080/",
          "height": 573
        },
        "id": "sQ03w3O-HTx0",
        "outputId": "085da02f-6b86-4ce4-9473-10a9bdde8ebb"
      },
      "outputs": [
        {
          "output_type": "display_data",
          "data": {
            "text/plain": [
              "<Figure size 432x288 with 1 Axes>"
            ],
            "image/png": "[encoded data removed]"
          },
          "metadata": {
            "needs_background": "light"
          }
        },
        {
          "output_type": "display_data",
          "data": {
            "text/plain": [
              "<Figure size 432x288 with 1 Axes>"
            ],
            "image/png": "[encoded data removed]"
          },
          "metadata": {
            "needs_background": "light"
          }
        }
      ],
      "source": [
        "import matplotlib.pyplot as plt\n",
        "\n",
        "# 모델 accuracy \n",
        "plt.plot(history.history['accuracy'])\n",
        "plt.plot(history.history['val_accuracy'])\n",
        "plt.title('Model Accuracy')\n",
        "plt.xlabel('Epoch')\n",
        "plt.ylabel('Accuracy')\n",
        "plt.legend(['Train', 'Validation'], loc='lower right')\n",
        "plt.show()\n",
        "\n",
        "# 모델 loss\n",
        "plt.plot(history.history['loss'])\n",
        "plt.plot(history.history['val_loss'])\n",
        "plt.title('Model Loss')\n",
        "plt.xlabel('Epoch')\n",
        "plt.ylabel('Loss')\n",
        "plt.legend(['Train', 'Validation'], loc='upper right')\n",
        "plt.show()"
      ]
    },
    {
      "cell_type": "markdown",
      "source": [
        "### confusion matrix, classification report"
      ],
      "metadata": {
        "id": "hnZmWn5dKh_X"
      }
    },
    {
      "cell_type": "code",
      "execution_count": 23,
      "metadata": {
        "colab": {
          "base_uri": "https://localhost:8080/"
        },
        "id": "6iR9x8VEHTx0",
        "outputId": "b2585b2b-245b-41a1-b150-5b27cac56a70"
      },
      "outputs": [
        {
          "output_type": "stream",
          "name": "stdout",
          "text": [
            "406/406 [==============================] - 1s 2ms/step\n",
            "[[   2 5877]\n",
            " [   2 7107]]\n",
            "              precision    recall  f1-score   support\n",
            "\n",
            "           0       0.50      0.00      0.00      5879\n",
            "           1       0.55      1.00      0.71      7109\n",
            "\n",
            "    accuracy                           0.55     12988\n",
            "   macro avg       0.52      0.50      0.35     12988\n",
            "weighted avg       0.53      0.55      0.39     12988\n",
            "\n"
          ]
        }
      ],
      "source": [
        "def predict_class(y_pred, thresh=0.5):\n",
        "  return tf.cast(y_pred > thresh, tf.float32)\n",
        "\n",
        "from sklearn.metrics import confusion_matrix, classification_report\n",
        "\n",
        "y_pred = model.predict(X_test)\n",
        "y_pred_class = predict_class(y_pred)\n",
        "cm = confusion_matrix(y_test, y_pred_class)\n",
        "print(cm)\n",
        "\n",
        "print(classification_report(y_test, y_pred_class))"
      ]
    },
    {
      "cell_type": "code",
      "source": [],
      "metadata": {
        "id": "OnJtG4TjKm-n"
      },
      "execution_count": null,
      "outputs": []
    }
  ],
  "metadata": {
    "hide_input": false,
    "kernelspec": {
      "display_name": "Python 3 (ipykernel)",
      "language": "python",
      "name": "python3"
    },
    "language_info": {
      "codemirror_mode": {
        "name": "ipython",
        "version": 3
      },
      "file_extension": ".py",
      "mimetype": "text/x-python",
      "name": "python",
      "nbconvert_exporter": "python",
      "pygments_lexer": "ipython3",
      "version": "3.11.2"
    },
    "toc": {
      "base_numbering": 1,
      "nav_menu": {},
      "number_sections": true,
      "sideBar": true,
      "skip_h1_title": false,
      "title_cell": "Table of Contents",
      "title_sidebar": "Contents",
      "toc_cell": false,
      "toc_position": {},
      "toc_section_display": true,
      "toc_window_display": false
    },
    "varInspector": {
      "cols": {
        "lenName": 16,
        "lenType": 16,
        "lenVar": 40
      },
      "kernels_config": {
        "python": {
          "delete_cmd_postfix": "",
          "delete_cmd_prefix": "del ",
          "library": "var_list.py",
          "varRefreshCmd": "print(var_dic_list())"
        },
        "r": {
          "delete_cmd_postfix": ") ",
          "delete_cmd_prefix": "rm(",
          "library": "var_list.r",
          "varRefreshCmd": "cat(var_dic_list()) "
        }
      },
      "types_to_exclude": [
        "module",
        "function",
        "builtin_function_or_method",
        "instance",
        "_Feature"
      ],
      "window_display": false
    },
    "vscode": {
      "interpreter": {
        "hash": "ad2bdc8ecc057115af97d19610ffacc2b4e99fae6737bb82f5d7fb13d2f2c186"
      }
    },
    "colab": {
      "provenance": [],
      "include_colab_link": true
    }
  },
  "nbformat": 4,
  "nbformat_minor": 0
}