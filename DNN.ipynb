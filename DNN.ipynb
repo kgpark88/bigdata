{
  "cells": [
    {
      "cell_type": "markdown",
      "metadata": {
        "id": "view-in-github",
        "colab_type": "text"
      },
      "source": [
        "<a href=\"https://colab.research.google.com/github/kgpark88/bigdata/blob/main/DNN.ipynb\" target=\"_parent\"><img src=\"https://colab.research.google.com/assets/colab-badge.svg\" alt=\"Open In Colab\"/></a>"
      ]
    },
    {
      "cell_type": "markdown",
      "metadata": {
        "id": "W8p15qvhKu8f"
      },
      "source": [
        "# 심층신경망(DNN, Deep Neural Network)"
      ]
    },
    {
      "cell_type": "markdown",
      "metadata": {
        "id": "_fTY_LcgKu8j"
      },
      "source": [
        "① 라이브러리 임포트(import)  \n",
        "② 데이터 가져오기(Loading the data)  \n",
        "③ 탐색적 데이터 분석(Exploratory Data Analysis)  \n",
        "④ 데이터 전처리(Data PreProcessing) : 데이터타입 변환, Null 데이터 처리, 누락데이터 처리, \n",
        "카테고리 데이터, 더미특성 생성, 특성 추출 (feature engineering) 등  \n",
        "⑤ Train, Test  데이터셋 분할  \n",
        "⑥ 데이터 정규화(Normalizing the Data)  \n",
        "⑦ 모델 개발(Creating the Model)  \n",
        "⑧ 모델 성능 평가"
      ]
    },
    {
      "cell_type": "markdown",
      "metadata": {
        "id": "xznFHOI7Ku8j"
      },
      "source": [
        "### ① 라이브러리 임포트"
      ]
    },
    {
      "cell_type": "code",
      "execution_count": 71,
      "metadata": {
        "id": "1Xh5Bo7GKu8j"
      },
      "outputs": [],
      "source": [
        "import pandas as pd\n",
        "import seaborn as sns\n",
        "import matplotlib.pyplot as plt\n",
        "\n",
        "import tensorflow as tf\n",
        "from tensorflow import keras\n",
        "from tensorflow.keras.layers import Input, Dense, Dropout\n",
        "from tensorflow.keras.models import Sequential, Model\n",
        "from tensorflow.keras.callbacks import EarlyStopping"
      ]
    },
    {
      "cell_type": "markdown",
      "metadata": {
        "id": "KcEkPszQKu8j"
      },
      "source": [
        "### ② 데이터 로드"
      ]
    },
    {
      "cell_type": "code",
      "execution_count": 2,
      "metadata": {
        "id": "n1veyIcU-j2B"
      },
      "outputs": [],
      "source": [
        "# from aicentro.session import Session\n",
        "# from aicentro.framework.keras import Keras as AiduFrm\n",
        "\n",
        "# aidu_session = Session(verify=False)\n",
        "# aidu_framework = AiduFrm(session=aidu_session)\n",
        "\n",
        "# df = pd.read_csv(aidu_framework.config.data_dir + '/churn_data.csv')"
      ]
    },
    {
      "cell_type": "code",
      "execution_count": 3,
      "metadata": {
        "id": "IoFa3qY0Ku8j"
      },
      "outputs": [],
      "source": [
        "# df = pd.read_csv('churn_data.csv')\n",
        "df = pd.read_csv('https://raw.githubusercontent.com/kgpark88/ai-summary/main/churn_data.csv')"
      ]
    },
    {
      "cell_type": "markdown",
      "metadata": {
        "id": "GTKqo1pSKu8j"
      },
      "source": [
        "### ③ 데이터 분석"
      ]
    },
    {
      "cell_type": "code",
      "execution_count": 4,
      "metadata": {
        "colab": {
          "base_uri": "https://localhost:8080/"
        },
        "id": "OLi7Xv6XKu8j",
        "outputId": "af23f022-97c8-4164-9e66-a48586548a9b"
      },
      "outputs": [
        {
          "output_type": "stream",
          "name": "stdout",
          "text": [
            "<class 'pandas.core.frame.DataFrame'>\n",
            "RangeIndex: 7043 entries, 0 to 7042\n",
            "Data columns (total 21 columns):\n",
            " #   Column            Non-Null Count  Dtype  \n",
            "---  ------            --------------  -----  \n",
            " 0   customerID        7043 non-null   object \n",
            " 1   gender            7043 non-null   object \n",
            " 2   SeniorCitizen     7043 non-null   int64  \n",
            " 3   Partner           7043 non-null   object \n",
            " 4   Dependents        7043 non-null   object \n",
            " 5   tenure            7043 non-null   int64  \n",
            " 6   PhoneService      7043 non-null   object \n",
            " 7   MultipleLines     7043 non-null   object \n",
            " 8   InternetService   7043 non-null   object \n",
            " 9   OnlineSecurity    7043 non-null   object \n",
            " 10  OnlineBackup      7043 non-null   object \n",
            " 11  DeviceProtection  7043 non-null   object \n",
            " 12  TechSupport       7043 non-null   object \n",
            " 13  StreamingTV       7043 non-null   object \n",
            " 14  StreamingMovies   7043 non-null   object \n",
            " 15  Contract          7043 non-null   object \n",
            " 16  PaperlessBilling  7043 non-null   object \n",
            " 17  PaymentMethod     7043 non-null   object \n",
            " 18  MonthlyCharges    7043 non-null   float64\n",
            " 19  TotalCharges      7043 non-null   object \n",
            " 20  Churn             7043 non-null   object \n",
            "dtypes: float64(1), int64(2), object(18)\n",
            "memory usage: 1.1+ MB\n"
          ]
        }
      ],
      "source": [
        "df.info()"
      ]
    },
    {
      "cell_type": "code",
      "execution_count": 5,
      "metadata": {
        "colab": {
          "base_uri": "https://localhost:8080/"
        },
        "id": "omfjNiq4Ku8j",
        "outputId": "8669f1cd-f7ae-4894-92ea-b2ca9c9433d7"
      },
      "outputs": [
        {
          "output_type": "execute_result",
          "data": {
            "text/plain": [
              "customerID          0\n",
              "gender              0\n",
              "SeniorCitizen       0\n",
              "Partner             0\n",
              "Dependents          0\n",
              "tenure              0\n",
              "PhoneService        0\n",
              "MultipleLines       0\n",
              "InternetService     0\n",
              "OnlineSecurity      0\n",
              "OnlineBackup        0\n",
              "DeviceProtection    0\n",
              "TechSupport         0\n",
              "StreamingTV         0\n",
              "StreamingMovies     0\n",
              "Contract            0\n",
              "PaperlessBilling    0\n",
              "PaymentMethod       0\n",
              "MonthlyCharges      0\n",
              "TotalCharges        0\n",
              "Churn               0\n",
              "dtype: int64"
            ]
          },
          "metadata": {},
          "execution_count": 5
        }
      ],
      "source": [
        "df.isnull().sum()"
      ]
    },
    {
      "cell_type": "code",
      "execution_count": 6,
      "metadata": {
        "colab": {
          "base_uri": "https://localhost:8080/",
          "height": 143
        },
        "id": "FvUDbj_DKu8j",
        "outputId": "367a1cf4-8bd1-4fa8-bd6d-a2d4d3080d41"
      },
      "outputs": [
        {
          "output_type": "execute_result",
          "data": {
            "text/plain": [
              "                 count       mean        std    min   25%    50%    75%  \\\n",
              "SeniorCitizen   7043.0   0.162147   0.368612   0.00   0.0   0.00   0.00   \n",
              "tenure          7043.0  32.371149  24.559481   0.00   9.0  29.00  55.00   \n",
              "MonthlyCharges  7043.0  64.761692  30.090047  18.25  35.5  70.35  89.85   \n",
              "\n",
              "                   max  \n",
              "SeniorCitizen     1.00  \n",
              "tenure           72.00  \n",
              "MonthlyCharges  118.75  "
            ],
            "text/html": [
              "\n",
              "  <div id=\"df-f5475fe4-c212-4b94-b4a7-1cbfe113b334\">\n",
              "    <div class=\"colab-df-container\">\n",
              "      <div>\n",
              "<style scoped>\n",
              "    .dataframe tbody tr th:only-of-type {\n",
              "        vertical-align: middle;\n",
              "    }\n",
              "\n",
              "    .dataframe tbody tr th {\n",
              "        vertical-align: top;\n",
              "    }\n",
              "\n",
              "    .dataframe thead th {\n",
              "        text-align: right;\n",
              "    }\n",
              "</style>\n",
              "<table border=\"1\" class=\"dataframe\">\n",
              "  <thead>\n",
              "    <tr style=\"text-align: right;\">\n",
              "      <th></th>\n",
              "      <th>count</th>\n",
              "      <th>mean</th>\n",
              "      <th>std</th>\n",
              "      <th>min</th>\n",
              "      <th>25%</th>\n",
              "      <th>50%</th>\n",
              "      <th>75%</th>\n",
              "      <th>max</th>\n",
              "    </tr>\n",
              "  </thead>\n",
              "  <tbody>\n",
              "    <tr>\n",
              "      <th>SeniorCitizen</th>\n",
              "      <td>7043.0</td>\n",
              "      <td>0.162147</td>\n",
              "      <td>0.368612</td>\n",
              "      <td>0.00</td>\n",
              "      <td>0.0</td>\n",
              "      <td>0.00</td>\n",
              "      <td>0.00</td>\n",
              "      <td>1.00</td>\n",
              "    </tr>\n",
              "    <tr>\n",
              "      <th>tenure</th>\n",
              "      <td>7043.0</td>\n",
              "      <td>32.371149</td>\n",
              "      <td>24.559481</td>\n",
              "      <td>0.00</td>\n",
              "      <td>9.0</td>\n",
              "      <td>29.00</td>\n",
              "      <td>55.00</td>\n",
              "      <td>72.00</td>\n",
              "    </tr>\n",
              "    <tr>\n",
              "      <th>MonthlyCharges</th>\n",
              "      <td>7043.0</td>\n",
              "      <td>64.761692</td>\n",
              "      <td>30.090047</td>\n",
              "      <td>18.25</td>\n",
              "      <td>35.5</td>\n",
              "      <td>70.35</td>\n",
              "      <td>89.85</td>\n",
              "      <td>118.75</td>\n",
              "    </tr>\n",
              "  </tbody>\n",
              "</table>\n",
              "</div>\n",
              "      <button class=\"colab-df-convert\" onclick=\"convertToInteractive('df-f5475fe4-c212-4b94-b4a7-1cbfe113b334')\"\n",
              "              title=\"Convert this dataframe to an interactive table.\"\n",
              "              style=\"display:none;\">\n",
              "        \n",
              "  <svg xmlns=\"http://www.w3.org/2000/svg\" height=\"24px\"viewBox=\"0 0 24 24\"\n",
              "       width=\"24px\">\n",
              "    <path d=\"M0 0h24v24H0V0z\" fill=\"none\"/>\n",
              "    <path d=\"M18.56 5.44l.94 2.06.94-2.06 2.06-.94-2.06-.94-.94-2.06-.94 2.06-2.06.94zm-11 1L8.5 8.5l.94-2.06 2.06-.94-2.06-.94L8.5 2.5l-.94 2.06-2.06.94zm10 10l.94 2.06.94-2.06 2.06-.94-2.06-.94-.94-2.06-.94 2.06-2.06.94z\"/><path d=\"M17.41 7.96l-1.37-1.37c-.4-.4-.92-.59-1.43-.59-.52 0-1.04.2-1.43.59L10.3 9.45l-7.72 7.72c-.78.78-.78 2.05 0 2.83L4 21.41c.39.39.9.59 1.41.59.51 0 1.02-.2 1.41-.59l7.78-7.78 2.81-2.81c.8-.78.8-2.07 0-2.86zM5.41 20L4 18.59l7.72-7.72 1.47 1.35L5.41 20z\"/>\n",
              "  </svg>\n",
              "      </button>\n",
              "      \n",
              "  <style>\n",
              "    .colab-df-container {\n",
              "      display:flex;\n",
              "      flex-wrap:wrap;\n",
              "      gap: 12px;\n",
              "    }\n",
              "\n",
              "    .colab-df-convert {\n",
              "      background-color: #E8F0FE;\n",
              "      border: none;\n",
              "      border-radius: 50%;\n",
              "      cursor: pointer;\n",
              "      display: none;\n",
              "      fill: #1967D2;\n",
              "      height: 32px;\n",
              "      padding: 0 0 0 0;\n",
              "      width: 32px;\n",
              "    }\n",
              "\n",
              "    .colab-df-convert:hover {\n",
              "      background-color: #E2EBFA;\n",
              "      box-shadow: 0px 1px 2px rgba(60, 64, 67, 0.3), 0px 1px 3px 1px rgba(60, 64, 67, 0.15);\n",
              "      fill: #174EA6;\n",
              "    }\n",
              "\n",
              "    [theme=dark] .colab-df-convert {\n",
              "      background-color: #3B4455;\n",
              "      fill: #D2E3FC;\n",
              "    }\n",
              "\n",
              "    [theme=dark] .colab-df-convert:hover {\n",
              "      background-color: #434B5C;\n",
              "      box-shadow: 0px 1px 3px 1px rgba(0, 0, 0, 0.15);\n",
              "      filter: drop-shadow(0px 1px 2px rgba(0, 0, 0, 0.3));\n",
              "      fill: #FFFFFF;\n",
              "    }\n",
              "  </style>\n",
              "\n",
              "      <script>\n",
              "        const buttonEl =\n",
              "          document.querySelector('#df-f5475fe4-c212-4b94-b4a7-1cbfe113b334 button.colab-df-convert');\n",
              "        buttonEl.style.display =\n",
              "          google.colab.kernel.accessAllowed ? 'block' : 'none';\n",
              "\n",
              "        async function convertToInteractive(key) {\n",
              "          const element = document.querySelector('#df-f5475fe4-c212-4b94-b4a7-1cbfe113b334');\n",
              "          const dataTable =\n",
              "            await google.colab.kernel.invokeFunction('convertToInteractive',\n",
              "                                                     [key], {});\n",
              "          if (!dataTable) return;\n",
              "\n",
              "          const docLinkHtml = 'Like what you see? Visit the ' +\n",
              "            '<a target=\"_blank\" href=https://colab.research.google.com/notebooks/data_table.ipynb>data table notebook</a>'\n",
              "            + ' to learn more about interactive tables.';\n",
              "          element.innerHTML = '';\n",
              "          dataTable['output_type'] = 'display_data';\n",
              "          await google.colab.output.renderOutput(dataTable, element);\n",
              "          const docLink = document.createElement('div');\n",
              "          docLink.innerHTML = docLinkHtml;\n",
              "          element.appendChild(docLink);\n",
              "        }\n",
              "      </script>\n",
              "    </div>\n",
              "  </div>\n",
              "  "
            ]
          },
          "metadata": {},
          "execution_count": 6
        }
      ],
      "source": [
        "df.describe().transpose()"
      ]
    },
    {
      "cell_type": "code",
      "execution_count": 7,
      "metadata": {
        "colab": {
          "base_uri": "https://localhost:8080/",
          "height": 339
        },
        "id": "yDhgvD15Ku8j",
        "outputId": "26b693f5-5bf6-411a-8326-a87e6c9d54b6"
      },
      "outputs": [
        {
          "output_type": "execute_result",
          "data": {
            "text/plain": [
              "<Axes: >"
            ]
          },
          "metadata": {},
          "execution_count": 7
        },
        {
          "output_type": "display_data",
          "data": {
            "text/plain": [
              "<Figure size 432x288 with 1 Axes>"
            ],
            "image/png": "[encoded data removed]"
          },
          "metadata": {
            "needs_background": "light"
          }
        }
      ],
      "source": [
        "df.corr()['MonthlyCharges'][:-1].sort_values().plot(kind='bar')"
      ]
    },
    {
      "cell_type": "markdown",
      "metadata": {
        "id": "WTvo7E9IKu8j"
      },
      "source": [
        "### ④ 데이터 전처리"
      ]
    },
    {
      "cell_type": "code",
      "execution_count": 8,
      "metadata": {
        "id": "EXoe4UgGKu8j"
      },
      "outputs": [],
      "source": [
        "df.drop('customerID', axis=1, inplace=True)"
      ]
    },
    {
      "cell_type": "code",
      "execution_count": 9,
      "metadata": {
        "id": "ix2MxklMKu8j"
      },
      "outputs": [],
      "source": [
        "df['TotalCharges'].replace([' '], ['0'], inplace=True)"
      ]
    },
    {
      "cell_type": "code",
      "execution_count": 10,
      "metadata": {
        "id": "9YIGe9P3Ku8j"
      },
      "outputs": [],
      "source": [
        "df['TotalCharges'] = df['TotalCharges'].astype(float)"
      ]
    },
    {
      "cell_type": "code",
      "execution_count": 11,
      "metadata": {
        "id": "5JnBDm85Ku8j"
      },
      "outputs": [],
      "source": [
        "df['Churn'].replace(['Yes', 'No'], [1, 0], inplace=True)"
      ]
    },
    {
      "cell_type": "markdown",
      "metadata": {
        "id": "OuWj2mlvKu8j"
      },
      "source": [
        "### 더미 특성 생성"
      ]
    },
    {
      "cell_type": "code",
      "execution_count": 12,
      "metadata": {
        "id": "VYpdqLJhKu8j"
      },
      "outputs": [],
      "source": [
        "cols = ['gender', 'Partner', 'Dependents', 'PhoneService', 'MultipleLines', \n",
        "        'InternetService', 'OnlineSecurity', 'OnlineBackup', 'DeviceProtection', \n",
        "        'TechSupport', 'StreamingTV', 'StreamingMovies', 'Contract', \n",
        "        'PaperlessBilling', 'PaymentMethod']"
      ]
    },
    {
      "cell_type": "code",
      "execution_count": 13,
      "metadata": {
        "id": "CyF-ixcVKu8j"
      },
      "outputs": [],
      "source": [
        "dummies = pd.get_dummies(df[cols], drop_first=True)"
      ]
    },
    {
      "cell_type": "code",
      "execution_count": 14,
      "metadata": {
        "id": "16FejSRAKu8j"
      },
      "outputs": [],
      "source": [
        "df = df.drop(cols, axis=1)"
      ]
    },
    {
      "cell_type": "code",
      "execution_count": 15,
      "metadata": {
        "id": "WCO9vB6eKu8j"
      },
      "outputs": [],
      "source": [
        "df = pd.concat([df, dummies], axis=1)"
      ]
    },
    {
      "cell_type": "code",
      "execution_count": 16,
      "metadata": {
        "id": "_W4nTny7Ku8j"
      },
      "outputs": [],
      "source": [
        "# df = pd.get_dummies(df)\n",
        "# cols = list(df.select_dtypes('object').columns)"
      ]
    },
    {
      "cell_type": "markdown",
      "metadata": {
        "id": "pyKBvo_gKu8j"
      },
      "source": [
        "### ⑤ 데이터셋을 Train, , Validation, Test 데이터셋으로 분할"
      ]
    },
    {
      "cell_type": "code",
      "execution_count": 53,
      "metadata": {
        "id": "uBzPO0bTKu8j"
      },
      "outputs": [],
      "source": [
        "from sklearn.model_selection import train_test_split"
      ]
    },
    {
      "cell_type": "code",
      "execution_count": 54,
      "metadata": {
        "id": "kVxOkKkwKu8j"
      },
      "outputs": [],
      "source": [
        "X = df.drop('Churn', axis=1).values\n",
        "y = df['Churn'].values"
      ]
    },
    {
      "cell_type": "code",
      "source": [
        "# 트레이닝셋, 테스트셋으로 분할\n",
        "X_train, X_test, y_train, y_test = train_test_split(X, y, test_size=0.2, random_state=2023, stratify = y)"
      ],
      "metadata": {
        "id": "_6RxITgYBrd6"
      },
      "execution_count": 55,
      "outputs": []
    },
    {
      "cell_type": "code",
      "source": [
        "# 트레이닝셋,  벨리데이션셋으로 분할\n",
        "X_train, X_valid, y_train, y_valid = train_test_split(X_train, y_train, test_size=0.3, random_state=2023, stratify = y_train)"
      ],
      "metadata": {
        "id": "fbtA1Rq3BwV9"
      },
      "execution_count": 56,
      "outputs": []
    },
    {
      "cell_type": "markdown",
      "metadata": {
        "id": "SqCsgHxiKu8j"
      },
      "source": [
        "### 데이터 정규화/스케일링(Normalizing/Scaling)"
      ]
    },
    {
      "cell_type": "code",
      "execution_count": 22,
      "metadata": {
        "id": "HlwzqwefKu8j"
      },
      "outputs": [],
      "source": [
        "from sklearn.preprocessing import MinMaxScaler"
      ]
    },
    {
      "cell_type": "code",
      "execution_count": 63,
      "metadata": {
        "id": "l9ENFbSbKu8k"
      },
      "outputs": [],
      "source": [
        "scaler = MinMaxScaler()\n",
        "scaler.fit(X_train)\n",
        "X_train = scaler.transform(X_train)\n",
        "X_valid = scaler.transform(X_valid)\n",
        "X_test = scaler.transform(X_test)"
      ]
    },
    {
      "cell_type": "markdown",
      "metadata": {
        "id": "qeJNY_B3Ku8k"
      },
      "source": [
        "### 모델 입력갯수, 출력갯수 확인"
      ]
    },
    {
      "cell_type": "code",
      "execution_count": 64,
      "metadata": {
        "colab": {
          "base_uri": "https://localhost:8080/"
        },
        "id": "Cf4SXnH9Ku8k",
        "outputId": "36b65d59-365b-4210-f786-69ea540f9455"
      },
      "outputs": [
        {
          "output_type": "stream",
          "name": "stdout",
          "text": [
            "(3943, 30) (3943,)\n"
          ]
        }
      ],
      "source": [
        "print(X_train.shape, y_train.shape)"
      ]
    },
    {
      "cell_type": "markdown",
      "metadata": {
        "id": "spOGOLdWKu8k"
      },
      "source": [
        "### ⑦ 모델 구성"
      ]
    },
    {
      "cell_type": "code",
      "execution_count": 73,
      "metadata": {
        "id": "kB0tNJLPKu8k"
      },
      "outputs": [],
      "source": [
        "keras.backend.clear_session()\n",
        "\n",
        "model = Sequential()\n",
        "# input layer\n",
        "model.add(Dense(64, activation='relu', input_shape=(30,)))\n",
        "# hidden layer\n",
        "model.add(Dense(64, activation='relu'))\n",
        "# hidden layer\n",
        "model.add(Dense(32, activation='relu'))\n",
        "# output layer\n",
        "model.add(Dense(1, activation='sigmoid'))"
      ]
    },
    {
      "cell_type": "markdown",
      "metadata": {
        "id": "GXJFTfrZKu8k"
      },
      "source": [
        "### 모델 구성 -  과적합 방지"
      ]
    },
    {
      "cell_type": "code",
      "execution_count": 74,
      "metadata": {
        "id": "-togVAJGKu8k"
      },
      "outputs": [],
      "source": [
        "keras.backend.clear_session()\n",
        "\n",
        "model = Sequential()\n",
        "model.add(Dense(128, activation='relu', input_shape=(30,)))\n",
        "model.add(Dropout(0.5))\n",
        "model.add(Dense(64, activation='relu'))\n",
        "model.add(Dropout(0.5))\n",
        "model.add(Dense(64, activation='relu'))\n",
        "model.add(Dropout(0.5))\n",
        "model.add(Dense(32, activation='relu'))\n",
        "model.add(Dropout(0.5))\n",
        "\n",
        "model.add(Dense(1, activation='sigmoid'))"
      ]
    },
    {
      "cell_type": "markdown",
      "metadata": {
        "id": "h6GUkt9uKu8k"
      },
      "source": [
        "### 모델 확인"
      ]
    },
    {
      "cell_type": "code",
      "execution_count": 75,
      "metadata": {
        "colab": {
          "base_uri": "https://localhost:8080/"
        },
        "id": "evHyumLfKu8k",
        "outputId": "558af3e9-2038-4576-f8f0-9ca9da8df564"
      },
      "outputs": [
        {
          "output_type": "stream",
          "name": "stdout",
          "text": [
            "Model: \"sequential\"\n",
            "_________________________________________________________________\n",
            " Layer (type)                Output Shape              Param #   \n",
            "=================================================================\n",
            " dense (Dense)               (None, 128)               3968      \n",
            "                                                                 \n",
            " dropout (Dropout)           (None, 128)               0         \n",
            "                                                                 \n",
            " dense_1 (Dense)             (None, 64)                8256      \n",
            "                                                                 \n",
            " dropout_1 (Dropout)         (None, 64)                0         \n",
            "                                                                 \n",
            " dense_2 (Dense)             (None, 64)                4160      \n",
            "                                                                 \n",
            " dropout_2 (Dropout)         (None, 64)                0         \n",
            "                                                                 \n",
            " dense_3 (Dense)             (None, 32)                2080      \n",
            "                                                                 \n",
            " dropout_3 (Dropout)         (None, 32)                0         \n",
            "                                                                 \n",
            " dense_4 (Dense)             (None, 1)                 33        \n",
            "                                                                 \n",
            "=================================================================\n",
            "Total params: 18,497\n",
            "Trainable params: 18,497\n",
            "Non-trainable params: 0\n",
            "_________________________________________________________________\n"
          ]
        }
      ],
      "source": [
        "model.summary()"
      ]
    },
    {
      "cell_type": "code",
      "execution_count": 76,
      "metadata": {
        "id": "65Boa6dlKu8k"
      },
      "outputs": [],
      "source": [
        "hidden1 = model.layers[0]"
      ]
    },
    {
      "cell_type": "code",
      "execution_count": 77,
      "metadata": {
        "id": "0jri7H_4Ku8k"
      },
      "outputs": [],
      "source": [
        "weights, biases = hidden1.get_weights()"
      ]
    },
    {
      "cell_type": "code",
      "execution_count": 78,
      "metadata": {
        "colab": {
          "base_uri": "https://localhost:8080/"
        },
        "id": "vADUjkHrKu8k",
        "outputId": "decb6cd3-30a4-4902-ac64-bcec7d9e4d8f"
      },
      "outputs": [
        {
          "output_type": "stream",
          "name": "stdout",
          "text": [
            "[[-0.03555073 -0.18603832  0.02515307 ...  0.13012834  0.1022905\n",
            "   0.10792516]\n",
            " [-0.05696166  0.15421043  0.17751233 ... -0.06471987 -0.12503266\n",
            "   0.16958888]\n",
            " [-0.08728001  0.11450626 -0.1785338  ... -0.1090451   0.03406435\n",
            "   0.05220816]\n",
            " ...\n",
            " [-0.15225217  0.18105175 -0.00508106 ... -0.08866696  0.00250109\n",
            "  -0.04038967]\n",
            " [ 0.02474625  0.16756539 -0.19039197 ...  0.06915136 -0.1588515\n",
            "   0.19321676]\n",
            " [-0.03241852  0.11690785  0.06343757 ...  0.09970258 -0.01004902\n",
            "  -0.02281632]]\n"
          ]
        }
      ],
      "source": [
        "print(weights)"
      ]
    },
    {
      "cell_type": "code",
      "execution_count": 79,
      "metadata": {
        "colab": {
          "base_uri": "https://localhost:8080/"
        },
        "id": "bLD6yKMbKu8k",
        "outputId": "2df94a19-f1bb-408e-c99e-7ee759515c35"
      },
      "outputs": [
        {
          "output_type": "stream",
          "name": "stdout",
          "text": [
            "[0. 0. 0. 0. 0. 0. 0. 0. 0. 0. 0. 0. 0. 0. 0. 0. 0. 0. 0. 0. 0. 0. 0. 0.\n",
            " 0. 0. 0. 0. 0. 0. 0. 0. 0. 0. 0. 0. 0. 0. 0. 0. 0. 0. 0. 0. 0. 0. 0. 0.\n",
            " 0. 0. 0. 0. 0. 0. 0. 0. 0. 0. 0. 0. 0. 0. 0. 0. 0. 0. 0. 0. 0. 0. 0. 0.\n",
            " 0. 0. 0. 0. 0. 0. 0. 0. 0. 0. 0. 0. 0. 0. 0. 0. 0. 0. 0. 0. 0. 0. 0. 0.\n",
            " 0. 0. 0. 0. 0. 0. 0. 0. 0. 0. 0. 0. 0. 0. 0. 0. 0. 0. 0. 0. 0. 0. 0. 0.\n",
            " 0. 0. 0. 0. 0. 0. 0. 0.]\n"
          ]
        }
      ],
      "source": [
        "print(biases)"
      ]
    },
    {
      "cell_type": "markdown",
      "metadata": {
        "id": "KVwM9R5oKu8k"
      },
      "source": [
        "#### 모델 컴파일 – 이진 분류 모델"
      ]
    },
    {
      "cell_type": "code",
      "execution_count": 80,
      "metadata": {
        "id": "lWCoaAU6Ku8k"
      },
      "outputs": [],
      "source": [
        "model.compile(optimizer='adam', \n",
        "              loss='binary_crossentropy', \n",
        "              metrics=['accuracy']) "
      ]
    },
    {
      "cell_type": "markdown",
      "metadata": {
        "id": "k65qcMpZKu8k"
      },
      "source": [
        "- 모델 컴파일 – 다중 분류 모델  \n",
        "model.compile(optimizer='adam', \n",
        "              loss='categorical_crossentropy', \n",
        "              metrics=['accuracy']) \n"
      ]
    },
    {
      "cell_type": "markdown",
      "metadata": {
        "id": "ORJmg8O_Ku8k"
      },
      "source": [
        "- 모델 컴파일 – 예측 모델\n",
        "model.compile(optimizer='adam', loss='mse')"
      ]
    },
    {
      "cell_type": "markdown",
      "metadata": {
        "id": "eBJhPOMmKu8k"
      },
      "source": [
        "### 모델 훈련(학습) 하기"
      ]
    },
    {
      "cell_type": "code",
      "execution_count": 82,
      "metadata": {
        "colab": {
          "base_uri": "https://localhost:8080/"
        },
        "id": "Ien9p8A9Ku8k",
        "outputId": "a2858c85-5367-445a-d0c0-d68798c0085a"
      },
      "outputs": [
        {
          "output_type": "stream",
          "name": "stdout",
          "text": [
            "Epoch 1/20\n",
            "395/395 [==============================] - 2s 5ms/step - loss: 0.4330 - accuracy: 0.7890 - val_loss: 0.4096 - val_accuracy: 0.8084\n",
            "Epoch 2/20\n",
            "395/395 [==============================] - 2s 5ms/step - loss: 0.4354 - accuracy: 0.8004 - val_loss: 0.4110 - val_accuracy: 0.8019\n",
            "Epoch 3/20\n",
            "395/395 [==============================] - 2s 4ms/step - loss: 0.4392 - accuracy: 0.7994 - val_loss: 0.4092 - val_accuracy: 0.8037\n",
            "Epoch 4/20\n",
            "395/395 [==============================] - 2s 5ms/step - loss: 0.4313 - accuracy: 0.8012 - val_loss: 0.4180 - val_accuracy: 0.8019\n",
            "Epoch 5/20\n",
            "395/395 [==============================] - 2s 5ms/step - loss: 0.4315 - accuracy: 0.7938 - val_loss: 0.4051 - val_accuracy: 0.7995\n",
            "Epoch 6/20\n",
            "395/395 [==============================] - 3s 7ms/step - loss: 0.4277 - accuracy: 0.7986 - val_loss: 0.4122 - val_accuracy: 0.8001\n",
            "Epoch 7/20\n",
            "395/395 [==============================] - 3s 7ms/step - loss: 0.4316 - accuracy: 0.7986 - val_loss: 0.4080 - val_accuracy: 0.7907\n",
            "Epoch 8/20\n",
            "395/395 [==============================] - 3s 6ms/step - loss: 0.4260 - accuracy: 0.8019 - val_loss: 0.4127 - val_accuracy: 0.7924\n",
            "Epoch 9/20\n",
            "395/395 [==============================] - 2s 4ms/step - loss: 0.4304 - accuracy: 0.8027 - val_loss: 0.4124 - val_accuracy: 0.7936\n",
            "Epoch 10/20\n",
            "395/395 [==============================] - 2s 4ms/step - loss: 0.4277 - accuracy: 0.8027 - val_loss: 0.4106 - val_accuracy: 0.7978\n",
            "Epoch 11/20\n",
            "395/395 [==============================] - 2s 5ms/step - loss: 0.4294 - accuracy: 0.8004 - val_loss: 0.4102 - val_accuracy: 0.8013\n",
            "Epoch 12/20\n",
            "395/395 [==============================] - 2s 6ms/step - loss: 0.4261 - accuracy: 0.8012 - val_loss: 0.4124 - val_accuracy: 0.7954\n",
            "Epoch 13/20\n",
            "395/395 [==============================] - 2s 4ms/step - loss: 0.4224 - accuracy: 0.8085 - val_loss: 0.4096 - val_accuracy: 0.7983\n",
            "Epoch 14/20\n",
            "395/395 [==============================] - 2s 4ms/step - loss: 0.4202 - accuracy: 0.8067 - val_loss: 0.4095 - val_accuracy: 0.8013\n",
            "Epoch 15/20\n",
            "395/395 [==============================] - 2s 5ms/step - loss: 0.4164 - accuracy: 0.8085 - val_loss: 0.4073 - val_accuracy: 0.7972\n",
            "Epoch 16/20\n",
            "395/395 [==============================] - 2s 5ms/step - loss: 0.4173 - accuracy: 0.8057 - val_loss: 0.4097 - val_accuracy: 0.7942\n",
            "Epoch 17/20\n",
            "395/395 [==============================] - 2s 4ms/step - loss: 0.4181 - accuracy: 0.8029 - val_loss: 0.4140 - val_accuracy: 0.7972\n",
            "Epoch 18/20\n",
            "395/395 [==============================] - 2s 6ms/step - loss: 0.4119 - accuracy: 0.8098 - val_loss: 0.4092 - val_accuracy: 0.7983\n",
            "Epoch 19/20\n",
            "395/395 [==============================] - 2s 5ms/step - loss: 0.4211 - accuracy: 0.8080 - val_loss: 0.4174 - val_accuracy: 0.7954\n",
            "Epoch 20/20\n",
            "395/395 [==============================] - 2s 4ms/step - loss: 0.4077 - accuracy: 0.8131 - val_loss: 0.4119 - val_accuracy: 0.7912\n"
          ]
        },
        {
          "output_type": "execute_result",
          "data": {
            "text/plain": [
              "<keras.callbacks.History at 0x7fe85eb79160>"
            ]
          },
          "metadata": {},
          "execution_count": 82
        }
      ],
      "source": [
        "model.fit(X_train, y_train, \n",
        "          validation_data=(X_valid, y_valid),\n",
        "          epochs=20, \n",
        "          batch_size=10)"
      ]
    },
    {
      "cell_type": "markdown",
      "metadata": {
        "id": "P9nFZr6KKu8k"
      },
      "source": [
        "### 모델 훈련(학습) - 조기종료"
      ]
    },
    {
      "cell_type": "code",
      "execution_count": 83,
      "metadata": {
        "id": "Fu9j-6_sKu8k"
      },
      "outputs": [],
      "source": [
        "early_stop = EarlyStopping(monitor='val_loss', mode='min', \n",
        "                           verbose=1, patience=25)"
      ]
    },
    {
      "cell_type": "code",
      "execution_count": 84,
      "metadata": {
        "id": "EZe2nIkaKu8k"
      },
      "outputs": [],
      "source": [
        "check_point = ModelCheckpoint('best_model.h5', verbose=1,\n",
        "                              monitor='val_loss', mode='min', \n",
        "                              save_best_only=True)"
      ]
    },
    {
      "cell_type": "code",
      "execution_count": 85,
      "metadata": {
        "colab": {
          "base_uri": "https://localhost:8080/"
        },
        "id": "i9msPJxqKu8k",
        "outputId": "8fe884cf-9462-4e37-ab45-81638ee26597"
      },
      "outputs": [
        {
          "output_type": "stream",
          "name": "stdout",
          "text": [
            "Epoch 1/50\n",
            "188/198 [===========================>..] - ETA: 0s - loss: 0.4091 - accuracy: 0.8120\n",
            "Epoch 1: val_loss improved from inf to 0.41280, saving model to best_model.h5\n",
            "198/198 [==============================] - 1s 7ms/step - loss: 0.4113 - accuracy: 0.8116 - val_loss: 0.4128 - val_accuracy: 0.7954\n",
            "Epoch 2/50\n",
            "192/198 [============================>.] - ETA: 0s - loss: 0.4029 - accuracy: 0.8201\n",
            "Epoch 2: val_loss improved from 0.41280 to 0.41104, saving model to best_model.h5\n",
            "198/198 [==============================] - 1s 6ms/step - loss: 0.4057 - accuracy: 0.8199 - val_loss: 0.4110 - val_accuracy: 0.7930\n",
            "Epoch 3/50\n",
            "189/198 [===========================>..] - ETA: 0s - loss: 0.3934 - accuracy: 0.8209\n",
            "Epoch 3: val_loss did not improve from 0.41104\n",
            "198/198 [==============================] - 1s 5ms/step - loss: 0.3930 - accuracy: 0.8199 - val_loss: 0.4148 - val_accuracy: 0.7936\n",
            "Epoch 4/50\n",
            "193/198 [============================>.] - ETA: 0s - loss: 0.4045 - accuracy: 0.8187\n",
            "Epoch 4: val_loss did not improve from 0.41104\n",
            "198/198 [==============================] - 1s 5ms/step - loss: 0.4040 - accuracy: 0.8189 - val_loss: 0.4127 - val_accuracy: 0.7972\n",
            "Epoch 5/50\n",
            "188/198 [===========================>..] - ETA: 0s - loss: 0.4013 - accuracy: 0.8234\n",
            "Epoch 5: val_loss did not improve from 0.41104\n",
            "198/198 [==============================] - 1s 5ms/step - loss: 0.4000 - accuracy: 0.8250 - val_loss: 0.4172 - val_accuracy: 0.7907\n",
            "Epoch 6/50\n",
            "195/198 [============================>.] - ETA: 0s - loss: 0.4029 - accuracy: 0.8149\n",
            "Epoch 6: val_loss did not improve from 0.41104\n",
            "198/198 [==============================] - 1s 5ms/step - loss: 0.4033 - accuracy: 0.8144 - val_loss: 0.4137 - val_accuracy: 0.7989\n",
            "Epoch 7/50\n",
            "193/198 [============================>.] - ETA: 0s - loss: 0.3950 - accuracy: 0.8238\n",
            "Epoch 7: val_loss did not improve from 0.41104\n",
            "198/198 [==============================] - 1s 4ms/step - loss: 0.3943 - accuracy: 0.8245 - val_loss: 0.4171 - val_accuracy: 0.7901\n",
            "Epoch 8/50\n",
            "194/198 [============================>.] - ETA: 0s - loss: 0.3991 - accuracy: 0.8193\n",
            "Epoch 8: val_loss did not improve from 0.41104\n",
            "198/198 [==============================] - 1s 4ms/step - loss: 0.3969 - accuracy: 0.8204 - val_loss: 0.4165 - val_accuracy: 0.7930\n",
            "Epoch 9/50\n",
            "190/198 [===========================>..] - ETA: 0s - loss: 0.4038 - accuracy: 0.8116\n",
            "Epoch 9: val_loss did not improve from 0.41104\n",
            "198/198 [==============================] - 1s 4ms/step - loss: 0.4015 - accuracy: 0.8128 - val_loss: 0.4152 - val_accuracy: 0.7930\n",
            "Epoch 10/50\n",
            "190/198 [===========================>..] - ETA: 0s - loss: 0.4067 - accuracy: 0.8200\n",
            "Epoch 10: val_loss did not improve from 0.41104\n",
            "198/198 [==============================] - 1s 4ms/step - loss: 0.4086 - accuracy: 0.8179 - val_loss: 0.4211 - val_accuracy: 0.7883\n",
            "Epoch 11/50\n",
            "188/198 [===========================>..] - ETA: 0s - loss: 0.3880 - accuracy: 0.8261\n",
            "Epoch 11: val_loss did not improve from 0.41104\n",
            "198/198 [==============================] - 1s 5ms/step - loss: 0.3911 - accuracy: 0.8245 - val_loss: 0.4198 - val_accuracy: 0.7983\n",
            "Epoch 12/50\n",
            "190/198 [===========================>..] - ETA: 0s - loss: 0.3907 - accuracy: 0.8250\n",
            "Epoch 12: val_loss did not improve from 0.41104\n",
            "198/198 [==============================] - 1s 4ms/step - loss: 0.3886 - accuracy: 0.8260 - val_loss: 0.4173 - val_accuracy: 0.7978\n",
            "Epoch 13/50\n",
            "195/198 [============================>.] - ETA: 0s - loss: 0.3929 - accuracy: 0.8187\n",
            "Epoch 13: val_loss did not improve from 0.41104\n",
            "198/198 [==============================] - 1s 6ms/step - loss: 0.3931 - accuracy: 0.8184 - val_loss: 0.4195 - val_accuracy: 0.7930\n",
            "Epoch 14/50\n",
            "190/198 [===========================>..] - ETA: 0s - loss: 0.3921 - accuracy: 0.8218\n",
            "Epoch 14: val_loss did not improve from 0.41104\n",
            "198/198 [==============================] - 1s 6ms/step - loss: 0.3923 - accuracy: 0.8220 - val_loss: 0.4200 - val_accuracy: 0.7989\n",
            "Epoch 15/50\n",
            "197/198 [============================>.] - ETA: 0s - loss: 0.3950 - accuracy: 0.8251\n",
            "Epoch 15: val_loss did not improve from 0.41104\n",
            "198/198 [==============================] - 1s 5ms/step - loss: 0.3950 - accuracy: 0.8250 - val_loss: 0.4160 - val_accuracy: 0.7972\n",
            "Epoch 16/50\n",
            "190/198 [===========================>..] - ETA: 0s - loss: 0.3964 - accuracy: 0.8179\n",
            "Epoch 16: val_loss did not improve from 0.41104\n",
            "198/198 [==============================] - 1s 4ms/step - loss: 0.3959 - accuracy: 0.8182 - val_loss: 0.4212 - val_accuracy: 0.7883\n",
            "Epoch 17/50\n",
            "188/198 [===========================>..] - ETA: 0s - loss: 0.3869 - accuracy: 0.8279\n",
            "Epoch 17: val_loss did not improve from 0.41104\n",
            "198/198 [==============================] - 1s 4ms/step - loss: 0.3888 - accuracy: 0.8263 - val_loss: 0.4196 - val_accuracy: 0.7972\n",
            "Epoch 18/50\n",
            "191/198 [===========================>..] - ETA: 0s - loss: 0.3863 - accuracy: 0.8264\n",
            "Epoch 18: val_loss did not improve from 0.41104\n",
            "198/198 [==============================] - 1s 4ms/step - loss: 0.3853 - accuracy: 0.8255 - val_loss: 0.4253 - val_accuracy: 0.7960\n",
            "Epoch 19/50\n",
            "189/198 [===========================>..] - ETA: 0s - loss: 0.3919 - accuracy: 0.8249\n",
            "Epoch 19: val_loss did not improve from 0.41104\n",
            "198/198 [==============================] - 1s 5ms/step - loss: 0.3907 - accuracy: 0.8253 - val_loss: 0.4216 - val_accuracy: 0.7895\n",
            "Epoch 20/50\n",
            "196/198 [============================>.] - ETA: 0s - loss: 0.3908 - accuracy: 0.8181\n",
            "Epoch 20: val_loss did not improve from 0.41104\n",
            "198/198 [==============================] - 1s 5ms/step - loss: 0.3933 - accuracy: 0.8171 - val_loss: 0.4223 - val_accuracy: 0.7924\n",
            "Epoch 21/50\n",
            "192/198 [============================>.] - ETA: 0s - loss: 0.3810 - accuracy: 0.8307\n",
            "Epoch 21: val_loss did not improve from 0.41104\n",
            "198/198 [==============================] - 1s 5ms/step - loss: 0.3838 - accuracy: 0.8283 - val_loss: 0.4242 - val_accuracy: 0.7954\n",
            "Epoch 22/50\n",
            "195/198 [============================>.] - ETA: 0s - loss: 0.3851 - accuracy: 0.8236\n",
            "Epoch 22: val_loss did not improve from 0.41104\n",
            "198/198 [==============================] - 1s 5ms/step - loss: 0.3840 - accuracy: 0.8248 - val_loss: 0.4257 - val_accuracy: 0.7842\n",
            "Epoch 23/50\n",
            "198/198 [==============================] - ETA: 0s - loss: 0.3900 - accuracy: 0.8275\n",
            "Epoch 23: val_loss did not improve from 0.41104\n",
            "198/198 [==============================] - 1s 6ms/step - loss: 0.3900 - accuracy: 0.8275 - val_loss: 0.4299 - val_accuracy: 0.7765\n",
            "Epoch 24/50\n",
            "189/198 [===========================>..] - ETA: 0s - loss: 0.3953 - accuracy: 0.8180\n",
            "Epoch 24: val_loss did not improve from 0.41104\n",
            "198/198 [==============================] - 1s 6ms/step - loss: 0.3945 - accuracy: 0.8177 - val_loss: 0.4248 - val_accuracy: 0.7918\n",
            "Epoch 25/50\n",
            "198/198 [==============================] - ETA: 0s - loss: 0.3858 - accuracy: 0.8242\n",
            "Epoch 25: val_loss did not improve from 0.41104\n",
            "198/198 [==============================] - 2s 8ms/step - loss: 0.3858 - accuracy: 0.8242 - val_loss: 0.4204 - val_accuracy: 0.7871\n",
            "Epoch 26/50\n",
            "196/198 [============================>.] - ETA: 0s - loss: 0.3800 - accuracy: 0.8337\n",
            "Epoch 26: val_loss did not improve from 0.41104\n",
            "198/198 [==============================] - 2s 9ms/step - loss: 0.3803 - accuracy: 0.8336 - val_loss: 0.4215 - val_accuracy: 0.7912\n",
            "Epoch 27/50\n",
            "196/198 [============================>.] - ETA: 0s - loss: 0.3842 - accuracy: 0.8314\n",
            "Epoch 27: val_loss did not improve from 0.41104\n",
            "198/198 [==============================] - 1s 7ms/step - loss: 0.3840 - accuracy: 0.8313 - val_loss: 0.4220 - val_accuracy: 0.7918\n",
            "Epoch 27: early stopping\n"
          ]
        }
      ],
      "source": [
        "history = model.fit(x=X_train, y=y_train, \n",
        "          epochs=50 , batch_size=20,\n",
        "          validation_data=(X_valid, y_valid), \n",
        "          verbose=1,\n",
        "          callbacks=[early_stop, check_point])"
      ]
    },
    {
      "cell_type": "markdown",
      "metadata": {
        "id": "fgSwdiKhKu8k"
      },
      "source": [
        "### ⑧ 모델 성능 평가"
      ]
    },
    {
      "cell_type": "code",
      "execution_count": 86,
      "metadata": {
        "colab": {
          "base_uri": "https://localhost:8080/",
          "height": 573
        },
        "id": "x1-xsEdrKu8k",
        "outputId": "2dfde5ba-c54e-45d8-be1f-6dc74fabb438"
      },
      "outputs": [
        {
          "output_type": "display_data",
          "data": {
            "text/plain": [
              "<Figure size 432x288 with 1 Axes>"
            ],
            "image/png": "[encoded data removed]"
          },
          "metadata": {
            "needs_background": "light"
          }
        },
        {
          "output_type": "display_data",
          "data": {
            "text/plain": [
              "<Figure size 432x288 with 1 Axes>"
            ],
            "image/png": "[encoded data removed]"
          },
          "metadata": {
            "needs_background": "light"
          }
        }
      ],
      "source": [
        "import matplotlib.pyplot as plt\n",
        "\n",
        "# 모델 정확도(accuracy)\n",
        "plt.plot(history.history['accuracy'])\n",
        "plt.plot(history.history['val_accuracy'])\n",
        "plt.title('Model Accuracy')\n",
        "plt.xlabel('Epoch')\n",
        "plt.ylabel('Accuracy')\n",
        "plt.legend(['Train', 'Validation'], loc='lower right')\n",
        "plt.show()\n",
        "\n",
        "# 모델 손실(loss)\n",
        "plt.plot(history.history['loss'])\n",
        "plt.plot(history.history['val_loss'])\n",
        "plt.title('Model Loss')\n",
        "plt.xlabel('Epoch')\n",
        "plt.ylabel('Loss')\n",
        "plt.legend(['Train', 'Validation'], loc='upper right')\n",
        "plt.show()\n"
      ]
    },
    {
      "cell_type": "code",
      "source": [
        "def predict_class(y_pred, thresh=0.5):\n",
        "    return tf.cast(y_pred > thresh, tf.float32)\n",
        "\n",
        "from sklearn.metrics import confusion_matrix, classification_report\n",
        "\n",
        "y_pred = model.predict(X_test)\n",
        "y_pred_class = predict_class(y_pred)\n",
        "cm = confusion_matrix(y_test, y_pred_class)\n",
        "print(cm)\n",
        "\n",
        "print(classification_report(y_test, y_pred_class))"
      ],
      "metadata": {
        "colab": {
          "base_uri": "https://localhost:8080/"
        },
        "id": "ffXSM-s9ASek",
        "outputId": "979d8ec2-9ce6-4df4-882d-d40eb86f6551"
      },
      "execution_count": 88,
      "outputs": [
        {
          "output_type": "stream",
          "name": "stdout",
          "text": [
            "45/45 [==============================] - 0s 4ms/step\n",
            "[[915 120]\n",
            " [155 219]]\n",
            "              precision    recall  f1-score   support\n",
            "\n",
            "           0       0.86      0.88      0.87      1035\n",
            "           1       0.65      0.59      0.61       374\n",
            "\n",
            "    accuracy                           0.80      1409\n",
            "   macro avg       0.75      0.73      0.74      1409\n",
            "weighted avg       0.80      0.80      0.80      1409\n",
            "\n"
          ]
        }
      ]
    },
    {
      "cell_type": "code",
      "source": [],
      "metadata": {
        "id": "cSUiH5X5BHoS"
      },
      "execution_count": null,
      "outputs": []
    }
  ],
  "metadata": {
    "colab": {
      "name": "ai_modeling.ipynb",
      "provenance": [],
      "include_colab_link": true
    },
    "kernelspec": {
      "display_name": "Python 3",
      "language": "python",
      "name": "python3"
    },
    "language_info": {
      "codemirror_mode": {
        "name": "ipython",
        "version": 3
      },
      "file_extension": ".py",
      "mimetype": "text/x-python",
      "name": "python",
      "nbconvert_exporter": "python",
      "pygments_lexer": "ipython3",
      "version": "3.7.9"
    },
    "accelerator": "GPU",
    "gpuClass": "standard"
  },
  "nbformat": 4,
  "nbformat_minor": 0
}